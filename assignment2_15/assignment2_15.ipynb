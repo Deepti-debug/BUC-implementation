{
 "cells": [
  {
   "cell_type": "markdown",
   "id": "5037d1ba",
   "metadata": {},
   "source": [
    "## PART A"
   ]
  },
  {
   "cell_type": "markdown",
   "id": "5e2f774f-1136-4f3e-8c50-574d512906de",
   "metadata": {},
   "source": [
    "<a name = Section1></a>\n",
    "#### **1. Importing Libraries**"
   ]
  },
  {
   "cell_type": "code",
   "execution_count": 1,
   "id": "36fe16ef-a6d6-41cf-a729-5602df1717fd",
   "metadata": {},
   "outputs": [],
   "source": [
    "import pandas as pd                                                 # Importing for panel data analysis\n",
    "#-------------------------------------------------------------------------------------------------------------------------------\n",
    "import numpy as np                                                  # Importing package numpys (For Numerical Python)\n",
    "#-------------------------------------------------------------------------------------------------------------------------------\n",
    "import matplotlib.pyplot as plt                                     # Importing pyplot interface of matplotlib\n",
    "import seaborn as sns                                               # Importing seaborn library for interactive visualization\n",
    "%matplotlib inline\n",
    "import os\n",
    "import copy\n",
    "import pickle\n",
    "import math\n",
    "import time\n",
    "#-------------------------------------------------------------------------------------------------------------------------------\n",
    "import warnings                                                     # Importing warning to disable runtime warnings\n",
    "warnings.filterwarnings(\"ignore\")                                   # Warnings will appear only once"
   ]
  },
  {
   "cell_type": "markdown",
   "id": "bf074d8f-2248-4d31-ba3d-8caa0154719b",
   "metadata": {},
   "source": [
    "<a name = Section1></a>\n",
    "#### **2. Data Acquisition and Description**"
   ]
  },
  {
   "cell_type": "markdown",
   "id": "a2e47576-bae7-488b-b651-caad366f1678",
   "metadata": {},
   "source": [
    "Lets analyze the dataset and identify what attributes require generalization/categorization before we perform BUC on them."
   ]
  },
  {
   "cell_type": "code",
   "execution_count": 2,
   "id": "d7481b94-5be2-43e9-b78d-9cb4040cdfee",
   "metadata": {},
   "outputs": [
    {
     "name": "stdout",
     "output_type": "stream",
     "text": [
      "Shape of the dataset: (27820, 12)\n"
     ]
    },
    {
     "data": {
      "text/html": [
       "<div>\n",
       "<style scoped>\n",
       "    .dataframe tbody tr th:only-of-type {\n",
       "        vertical-align: middle;\n",
       "    }\n",
       "\n",
       "    .dataframe tbody tr th {\n",
       "        vertical-align: top;\n",
       "    }\n",
       "\n",
       "    .dataframe thead th {\n",
       "        text-align: right;\n",
       "    }\n",
       "</style>\n",
       "<table border=\"1\" class=\"dataframe\">\n",
       "  <thead>\n",
       "    <tr style=\"text-align: right;\">\n",
       "      <th></th>\n",
       "      <th>country</th>\n",
       "      <th>year</th>\n",
       "      <th>sex</th>\n",
       "      <th>age</th>\n",
       "      <th>suicides_no</th>\n",
       "      <th>population</th>\n",
       "      <th>suicides/100k pop</th>\n",
       "      <th>country-year</th>\n",
       "      <th>HDI for year</th>\n",
       "      <th>gdp_for_year ($)</th>\n",
       "      <th>gdp_per_capita ($)</th>\n",
       "      <th>generation</th>\n",
       "    </tr>\n",
       "  </thead>\n",
       "  <tbody>\n",
       "    <tr>\n",
       "      <th>0</th>\n",
       "      <td>Albania</td>\n",
       "      <td>1987</td>\n",
       "      <td>male</td>\n",
       "      <td>15-24 years</td>\n",
       "      <td>21</td>\n",
       "      <td>312900</td>\n",
       "      <td>6.71</td>\n",
       "      <td>Albania1987</td>\n",
       "      <td>NaN</td>\n",
       "      <td>2156624900</td>\n",
       "      <td>796</td>\n",
       "      <td>Generation X</td>\n",
       "    </tr>\n",
       "    <tr>\n",
       "      <th>1</th>\n",
       "      <td>Albania</td>\n",
       "      <td>1987</td>\n",
       "      <td>male</td>\n",
       "      <td>35-54 years</td>\n",
       "      <td>16</td>\n",
       "      <td>308000</td>\n",
       "      <td>5.19</td>\n",
       "      <td>Albania1987</td>\n",
       "      <td>NaN</td>\n",
       "      <td>2156624900</td>\n",
       "      <td>796</td>\n",
       "      <td>Silent</td>\n",
       "    </tr>\n",
       "    <tr>\n",
       "      <th>2</th>\n",
       "      <td>Albania</td>\n",
       "      <td>1987</td>\n",
       "      <td>female</td>\n",
       "      <td>15-24 years</td>\n",
       "      <td>14</td>\n",
       "      <td>289700</td>\n",
       "      <td>4.83</td>\n",
       "      <td>Albania1987</td>\n",
       "      <td>NaN</td>\n",
       "      <td>2156624900</td>\n",
       "      <td>796</td>\n",
       "      <td>Generation X</td>\n",
       "    </tr>\n",
       "  </tbody>\n",
       "</table>\n",
       "</div>"
      ],
      "text/plain": [
       "   country  year     sex          age  suicides_no  population  \\\n",
       "0  Albania  1987    male  15-24 years           21      312900   \n",
       "1  Albania  1987    male  35-54 years           16      308000   \n",
       "2  Albania  1987  female  15-24 years           14      289700   \n",
       "\n",
       "   suicides/100k pop country-year  HDI for year   gdp_for_year ($)   \\\n",
       "0               6.71  Albania1987           NaN          2156624900   \n",
       "1               5.19  Albania1987           NaN          2156624900   \n",
       "2               4.83  Albania1987           NaN          2156624900   \n",
       "\n",
       "   gdp_per_capita ($)    generation  \n",
       "0                 796  Generation X  \n",
       "1                 796        Silent  \n",
       "2                 796  Generation X  "
      ]
     },
     "execution_count": 2,
     "metadata": {},
     "output_type": "execute_result"
    }
   ],
   "source": [
    "data = pd.read_excel(f'./data/master.xlsx') # Load the Excel dataset\n",
    "print('Shape of the dataset:', data.shape)\n",
    "data.head(3) "
   ]
  },
  {
   "cell_type": "markdown",
   "id": "55da7e14-44fb-43c3-9d5a-f6338aefb11a",
   "metadata": {},
   "source": [
    "- We have 27820 records and 12 attributes.\n",
    "- In our records, we have variety of data including nominal data, binomial data, numerical data."
   ]
  },
  {
   "cell_type": "code",
   "execution_count": 3,
   "id": "5b7872d5-899a-4534-937f-9ebc62bcce20",
   "metadata": {},
   "outputs": [
    {
     "name": "stdout",
     "output_type": "stream",
     "text": [
      "<class 'pandas.core.frame.DataFrame'>\n",
      "RangeIndex: 27820 entries, 0 to 27819\n",
      "Data columns (total 12 columns):\n",
      " #   Column              Non-Null Count  Dtype  \n",
      "---  ------              --------------  -----  \n",
      " 0   country             27820 non-null  object \n",
      " 1   year                27820 non-null  int64  \n",
      " 2   sex                 27820 non-null  object \n",
      " 3   age                 27820 non-null  object \n",
      " 4   suicides_no         27820 non-null  int64  \n",
      " 5   population          27820 non-null  int64  \n",
      " 6   suicides/100k pop   27820 non-null  float64\n",
      " 7   country-year        27820 non-null  object \n",
      " 8   HDI for year        8364 non-null   float64\n",
      " 9    gdp_for_year ($)   27820 non-null  int64  \n",
      " 10  gdp_per_capita ($)  27820 non-null  int64  \n",
      " 11  generation          27820 non-null  object \n",
      "dtypes: float64(2), int64(5), object(5)\n",
      "memory usage: 2.5+ MB\n"
     ]
    }
   ],
   "source": [
    "data.info() # Display basic information about the dataset"
   ]
  },
  {
   "cell_type": "markdown",
   "id": "c5249ec2-ef64-49b6-b6fa-c61a463dddf2",
   "metadata": {},
   "source": [
    "Checking for:\n",
    "1. duplicate values in rows - delete duplicate rows\n",
    "2. missing values in column"
   ]
  },
  {
   "cell_type": "code",
   "execution_count": 4,
   "id": "241e217a-fb6b-4ae4-8260-7141ce9576e1",
   "metadata": {},
   "outputs": [
    {
     "data": {
      "text/html": [
       "<div>\n",
       "<style scoped>\n",
       "    .dataframe tbody tr th:only-of-type {\n",
       "        vertical-align: middle;\n",
       "    }\n",
       "\n",
       "    .dataframe tbody tr th {\n",
       "        vertical-align: top;\n",
       "    }\n",
       "\n",
       "    .dataframe thead th {\n",
       "        text-align: right;\n",
       "    }\n",
       "</style>\n",
       "<table border=\"1\" class=\"dataframe\">\n",
       "  <thead>\n",
       "    <tr style=\"text-align: right;\">\n",
       "      <th></th>\n",
       "      <th>country</th>\n",
       "      <th>year</th>\n",
       "      <th>sex</th>\n",
       "      <th>age</th>\n",
       "      <th>suicides_no</th>\n",
       "      <th>population</th>\n",
       "      <th>suicides/100k pop</th>\n",
       "      <th>country-year</th>\n",
       "      <th>HDI for year</th>\n",
       "      <th>gdp_for_year ($)</th>\n",
       "      <th>gdp_per_capita ($)</th>\n",
       "      <th>generation</th>\n",
       "    </tr>\n",
       "  </thead>\n",
       "  <tbody>\n",
       "  </tbody>\n",
       "</table>\n",
       "</div>"
      ],
      "text/plain": [
       "Empty DataFrame\n",
       "Columns: [country, year, sex, age, suicides_no, population, suicides/100k pop, country-year, HDI for year,  gdp_for_year ($) , gdp_per_capita ($), generation]\n",
       "Index: []"
      ]
     },
     "execution_count": 4,
     "metadata": {},
     "output_type": "execute_result"
    }
   ],
   "source": [
    "duplicate = data[data.duplicated()] # Selecting duplicate rows except first occurrence based on all columns\n",
    "duplicate"
   ]
  },
  {
   "cell_type": "markdown",
   "id": "f0f12f07-e6fa-4a58-8547-9269bb0a9ebf",
   "metadata": {},
   "source": [
    "- It means there are no duplicate records"
   ]
  },
  {
   "cell_type": "code",
   "execution_count": 5,
   "id": "ae9ba97c-9c19-4093-94f2-33d0c7ec1a16",
   "metadata": {},
   "outputs": [
    {
     "name": "stdout",
     "output_type": "stream",
     "text": [
      "country                   0\n",
      "year                      0\n",
      "sex                       0\n",
      "age                       0\n",
      "suicides_no               0\n",
      "population                0\n",
      "suicides/100k pop         0\n",
      "country-year              0\n",
      "HDI for year          19456\n",
      " gdp_for_year ($)         0\n",
      "gdp_per_capita ($)        0\n",
      "generation                0\n",
      "dtype: int64\n"
     ]
    }
   ],
   "source": [
    "print(data.isnull().sum())  # Check for missing values"
   ]
  },
  {
   "cell_type": "markdown",
   "id": "bff73097-646f-429b-b324-9fd8a73da348",
   "metadata": {},
   "source": [
    "- As we can observe HDI has got 19,456 null values, out of total 27,820 entries. Given, more than half of the entries having NULL values, let's discount this column."
   ]
  },
  {
   "cell_type": "code",
   "execution_count": 6,
   "id": "ae1c8b09-1774-4921-a9bc-562ed8679a7c",
   "metadata": {},
   "outputs": [],
   "source": [
    "data.drop(['HDI for year'], axis=1, inplace=True)   # Remove the mentioned column"
   ]
  },
  {
   "cell_type": "code",
   "execution_count": 7,
   "id": "9862504e-1638-4bc1-a5d3-c21345738005",
   "metadata": {},
   "outputs": [
    {
     "data": {
      "text/plain": [
       "Index(['country', 'year', 'sex', 'age', 'suicides_no', 'population',\n",
       "       'suicides/100k pop', 'country-year', ' gdp_for_year ($) ',\n",
       "       'gdp_per_capita ($)', 'generation'],\n",
       "      dtype='object')"
      ]
     },
     "execution_count": 7,
     "metadata": {},
     "output_type": "execute_result"
    }
   ],
   "source": [
    "data.columns # remaining columns in our dataframe"
   ]
  },
  {
   "cell_type": "markdown",
   "id": "413d0285-d742-4751-8c75-ad5a32b6293b",
   "metadata": {},
   "source": [
    "<a name = Section2></a>\n",
    "#### **3. Data Analysis and AOI**"
   ]
  },
  {
   "cell_type": "markdown",
   "id": "392215e5-e5aa-40d8-8ac3-452423f66d7f",
   "metadata": {},
   "source": [
    "Now, let's one by one, analyze the 11 dimensions and determine for which dimensions, we need to perform Attribute Oriented Induction (AOI) for generalization/categorization.\n",
    "\n",
    "Data generalization summarizes data by replacing relatively low-level values with higher-level concepts, or by reducing the number of dimensions to summarize data in concept space involving fewer dimensions."
   ]
  },
  {
   "cell_type": "code",
   "execution_count": 8,
   "id": "b362f451-a8ac-4b77-8742-333046bfcffa",
   "metadata": {},
   "outputs": [
    {
     "name": "stdout",
     "output_type": "stream",
     "text": [
      "Unique values in coloumn country:\n",
      " ['Albania' 'Antigua and Barbuda' 'Argentina' 'Armenia' 'Aruba' 'Australia'\n",
      " 'Austria' 'Azerbaijan' 'Bahamas' 'Bahrain' 'Barbados' 'Belarus' 'Belgium'\n",
      " 'Belize' 'Bosnia and Herzegovina' 'Brazil' 'Bulgaria' 'Cabo Verde'\n",
      " 'Canada' 'Chile' 'Colombia' 'Costa Rica' 'Croatia' 'Cuba' 'Cyprus'\n",
      " 'Czech Republic' 'Denmark' 'Dominica' 'Ecuador' 'El Salvador' 'Estonia'\n",
      " 'Fiji' 'Finland' 'France' 'Georgia' 'Germany' 'Greece' 'Grenada'\n",
      " 'Guatemala' 'Guyana' 'Hungary' 'Iceland' 'Ireland' 'Israel' 'Italy'\n",
      " 'Jamaica' 'Japan' 'Kazakhstan' 'Kiribati' 'Kuwait' 'Kyrgyzstan' 'Latvia'\n",
      " 'Lithuania' 'Luxembourg' 'Macau' 'Maldives' 'Malta' 'Mauritius' 'Mexico'\n",
      " 'Mongolia' 'Montenegro' 'Netherlands' 'New Zealand' 'Nicaragua' 'Norway'\n",
      " 'Oman' 'Panama' 'Paraguay' 'Philippines' 'Poland' 'Portugal'\n",
      " 'Puerto Rico' 'Qatar' 'Republic of Korea' 'Romania' 'Russian Federation'\n",
      " 'Saint Kitts and Nevis' 'Saint Lucia' 'Saint Vincent and Grenadines'\n",
      " 'San Marino' 'Serbia' 'Seychelles' 'Singapore' 'Slovakia' 'Slovenia'\n",
      " 'South Africa' 'Spain' 'Sri Lanka' 'Suriname' 'Sweden' 'Switzerland'\n",
      " 'Thailand' 'Trinidad and Tobago' 'Turkey' 'Turkmenistan' 'Ukraine'\n",
      " 'United Arab Emirates' 'United Kingdom' 'United States' 'Uruguay'\n",
      " 'Uzbekistan']\n",
      "---------------------------------------------------------\n",
      "Number of unique values: 101\n"
     ]
    }
   ],
   "source": [
    "print(\"Unique values in coloumn country:\\n\", data[\"country\"].unique())\n",
    "print(\"---------------------------------------------------------\")\n",
    "print(\"Number of unique values:\", data[\"country\"].nunique())"
   ]
  },
  {
   "cell_type": "markdown",
   "id": "4a0a671d-1cd7-4ebc-8533-b04c088c89b3",
   "metadata": {},
   "source": [
    "- We will use the values of 'country' dimension as it is, because it is already in the highest-level of concept hierarchy."
   ]
  },
  {
   "cell_type": "code",
   "execution_count": 9,
   "id": "c59d67cc-9b24-4261-bb1c-4f15372694f5",
   "metadata": {},
   "outputs": [
    {
     "name": "stdout",
     "output_type": "stream",
     "text": [
      "Unique values in coloumn year:\n",
      " [1987 1988 1989 1992 1993 1994 1995 1996 1997 1998 1999 2000 2001 2002\n",
      " 2003 2004 2005 2006 2007 2008 2009 2010 1985 1986 1990 1991 2012 2013\n",
      " 2014 2015 2011 2016]\n",
      "--------------------------------------------\n",
      "Number of unique values: 32\n"
     ]
    }
   ],
   "source": [
    "print(\"Unique values in coloumn year:\\n\", data[\"year\"].unique())\n",
    "print(\"--------------------------------------------\")\n",
    "print(\"Number of unique values:\", data[\"year\"].nunique())"
   ]
  },
  {
   "cell_type": "markdown",
   "id": "da48feeb-115b-4652-b64e-b5f1d26ad918",
   "metadata": {},
   "source": [
    "- We will use the values of 'year' dimension as it has 32 distinct values."
   ]
  },
  {
   "cell_type": "code",
   "execution_count": 10,
   "id": "ef1a84ad-d925-4906-9099-56d6719a5dbd",
   "metadata": {},
   "outputs": [
    {
     "name": "stdout",
     "output_type": "stream",
     "text": [
      "Unique values in coloumn sex:\n",
      " ['male' 'female']\n",
      "--------------------------------------------\n",
      "Number of unique values: 2\n"
     ]
    }
   ],
   "source": [
    "print(\"Unique values in coloumn sex:\\n\", data[\"sex\"].unique())\n",
    "print(\"--------------------------------------------\")\n",
    "print(\"Number of unique values:\", data[\"sex\"].nunique())"
   ]
  },
  {
   "cell_type": "markdown",
   "id": "8b556553-513a-4473-ab56-028489365cd3",
   "metadata": {},
   "source": [
    "- We will use the values of 'sex' attribute/dimension as it is because it is already generalized, having two distinct values of the dimension."
   ]
  },
  {
   "cell_type": "code",
   "execution_count": 11,
   "id": "3f042464-4e2d-4b3e-894d-de8f6b2eab86",
   "metadata": {},
   "outputs": [
    {
     "name": "stdout",
     "output_type": "stream",
     "text": [
      "Unique values in coloumn age:\n",
      " ['15-24 years' '35-54 years' '75+ years' '25-34 years' '55-74 years'\n",
      " '5-14 years']\n",
      "--------------------------------------------\n",
      "Number of unique values: 6\n"
     ]
    }
   ],
   "source": [
    "print(\"Unique values in coloumn age:\\n\", data[\"age\"].unique())\n",
    "print(\"--------------------------------------------\")\n",
    "print(\"Number of unique values:\", data[\"age\"].nunique())"
   ]
  },
  {
   "cell_type": "markdown",
   "id": "a6295aef-3873-4a33-a65c-00f83aade194",
   "metadata": {},
   "source": [
    "- We will use the values of 'age' dimension as it is because it is already characterized by six distinct values of the dimension."
   ]
  },
  {
   "cell_type": "code",
   "execution_count": 12,
   "id": "76b63f93-32af-48d1-b8b1-d3b55c89cc45",
   "metadata": {},
   "outputs": [
    {
     "name": "stdout",
     "output_type": "stream",
     "text": [
      "Unique values in coloumn suicide_no:\n",
      " [  21   16   14 ... 5503 4359 2872]\n",
      "--------------------------------------------\n",
      "Number of unique values: 2084\n"
     ]
    }
   ],
   "source": [
    "print(\"Unique values in coloumn suicide_no:\\n\", data[\"suicides_no\"].unique())\n",
    "print(\"--------------------------------------------\")\n",
    "print(\"Number of unique values:\", data[\"suicides_no\"].nunique())"
   ]
  },
  {
   "cell_type": "code",
   "execution_count": 13,
   "id": "b430c2af-8f75-4642-8c77-18d50c9bba8c",
   "metadata": {},
   "outputs": [
    {
     "data": {
      "text/plain": [
       "count    27820.000000\n",
       "mean       242.574407\n",
       "std        902.047917\n",
       "min          0.000000\n",
       "25%          3.000000\n",
       "50%         25.000000\n",
       "75%        131.000000\n",
       "max      22338.000000\n",
       "Name: suicides_no, dtype: float64"
      ]
     },
     "execution_count": 13,
     "metadata": {},
     "output_type": "execute_result"
    }
   ],
   "source": [
    "data[\"suicides_no\"].describe()    # describe the values of the suicides_no attribute."
   ]
  },
  {
   "cell_type": "code",
   "execution_count": 14,
   "id": "7536191d-0c48-41ac-a0eb-affa7d7619b5",
   "metadata": {},
   "outputs": [
    {
     "data": {
      "text/plain": [
       "suicides_no\n",
       "0       4281\n",
       "1       1539\n",
       "2       1102\n",
       "3        867\n",
       "4        696\n",
       "        ... \n",
       "2158       1\n",
       "525        1\n",
       "2297       1\n",
       "5241       1\n",
       "2872       1\n",
       "Name: count, Length: 2084, dtype: int64"
      ]
     },
     "execution_count": 14,
     "metadata": {},
     "output_type": "execute_result"
    }
   ],
   "source": [
    "data[\"suicides_no\"].value_counts()"
   ]
  },
  {
   "cell_type": "markdown",
   "id": "4a4a01da-da1d-49fb-b38a-206a83d4236a",
   "metadata": {},
   "source": [
    "- We can derive from the describe() that, the minimum number of suicides are 0. The maximum number of suicide value is 22338.\n",
    "At 25th percentile, the suicide value is 3. This means that 25 percent of data that lies below this 25th percentile point will have value equal to or less than 3.\n",
    "- At 50th percentile, the suicide value is 25. This means half of the data points below 50th percentile point will have value equal to or less than 25. For the high-level description purpose, we can label all those values as `low_suicide_range`.\n",
    "- At 75th percentile, the suicide value is 131. This means that 75% of the data points that lies below this 75th percentile point will have value equal to or less than 131. For the high-level description purpose, we can label all those values above `low_suicide_range` and below the value at 75th percentile as `medium_suicide_range`.\n",
    "- Similarly, the maximum suicide number reported is 22338. All values that lie between 75th percentile value to the maximum reported value can be termed as `high_suicide_range`."
   ]
  },
  {
   "cell_type": "code",
   "execution_count": 15,
   "id": "7366535b-abd4-4d58-8392-b9f6cddd365b",
   "metadata": {},
   "outputs": [
    {
     "data": {
      "text/html": [
       "<div>\n",
       "<style scoped>\n",
       "    .dataframe tbody tr th:only-of-type {\n",
       "        vertical-align: middle;\n",
       "    }\n",
       "\n",
       "    .dataframe tbody tr th {\n",
       "        vertical-align: top;\n",
       "    }\n",
       "\n",
       "    .dataframe thead th {\n",
       "        text-align: right;\n",
       "    }\n",
       "</style>\n",
       "<table border=\"1\" class=\"dataframe\">\n",
       "  <thead>\n",
       "    <tr style=\"text-align: right;\">\n",
       "      <th></th>\n",
       "      <th>country</th>\n",
       "      <th>year</th>\n",
       "      <th>sex</th>\n",
       "      <th>age</th>\n",
       "      <th>population</th>\n",
       "      <th>suicides/100k pop</th>\n",
       "      <th>country-year</th>\n",
       "      <th>gdp_for_year ($)</th>\n",
       "      <th>gdp_per_capita ($)</th>\n",
       "      <th>generation</th>\n",
       "      <th>suicides_range</th>\n",
       "    </tr>\n",
       "  </thead>\n",
       "  <tbody>\n",
       "    <tr>\n",
       "      <th>0</th>\n",
       "      <td>Albania</td>\n",
       "      <td>1987</td>\n",
       "      <td>male</td>\n",
       "      <td>15-24 years</td>\n",
       "      <td>312900</td>\n",
       "      <td>6.71</td>\n",
       "      <td>Albania1987</td>\n",
       "      <td>2156624900</td>\n",
       "      <td>796</td>\n",
       "      <td>Generation X</td>\n",
       "      <td>low_suicides_range</td>\n",
       "    </tr>\n",
       "    <tr>\n",
       "      <th>1</th>\n",
       "      <td>Albania</td>\n",
       "      <td>1987</td>\n",
       "      <td>male</td>\n",
       "      <td>35-54 years</td>\n",
       "      <td>308000</td>\n",
       "      <td>5.19</td>\n",
       "      <td>Albania1987</td>\n",
       "      <td>2156624900</td>\n",
       "      <td>796</td>\n",
       "      <td>Silent</td>\n",
       "      <td>low_suicides_range</td>\n",
       "    </tr>\n",
       "  </tbody>\n",
       "</table>\n",
       "</div>"
      ],
      "text/plain": [
       "   country  year   sex          age  population  suicides/100k pop  \\\n",
       "0  Albania  1987  male  15-24 years      312900               6.71   \n",
       "1  Albania  1987  male  35-54 years      308000               5.19   \n",
       "\n",
       "  country-year   gdp_for_year ($)   gdp_per_capita ($)    generation  \\\n",
       "0  Albania1987          2156624900                 796  Generation X   \n",
       "1  Albania1987          2156624900                 796        Silent   \n",
       "\n",
       "       suicides_range  \n",
       "0  low_suicides_range  \n",
       "1  low_suicides_range  "
      ]
     },
     "execution_count": 15,
     "metadata": {},
     "output_type": "execute_result"
    }
   ],
   "source": [
    "# Define the labels and conditions\n",
    "conditions = [\n",
    "    (data['suicides_no'] <= data['suicides_no'].quantile(0.5)),\n",
    "    (data['suicides_no'] > data['suicides_no'].quantile(0.5)) & (data['suicides_no'] <= data['suicides_no'].quantile(0.75)),\n",
    "    (data['suicides_no'] > data['suicides_no'].quantile(0.75))\n",
    "]\n",
    "\n",
    "labels = ['low_suicides_range', 'medium_suicides_range', 'high_suicides_range']\n",
    "\n",
    "# Create a new column with the labels\n",
    "data['suicides_range'] = np.select(conditions, labels, default='unknown')\n",
    "data.drop(['suicides_no'], axis=1, inplace=True)   # Remove the column 'suicides_no' because we are using 'suicides_range' in place of that.\n",
    "# Display the first few rows of the DataFrame with the new column\n",
    "data.head(2)"
   ]
  },
  {
   "cell_type": "code",
   "execution_count": 16,
   "id": "3d0ce0c8-2a07-4974-a65d-1a91be084b64",
   "metadata": {},
   "outputs": [
    {
     "name": "stdout",
     "output_type": "stream",
     "text": [
      "Unique values in column population:\n",
      " [ 312900  308000  289700 ... 2762158 2631600 1438935]\n",
      "--------------------------------------------\n",
      "Number of unique values: 25564\n"
     ]
    }
   ],
   "source": [
    "print(\"Unique values in column population:\\n\", data[\"population\"].unique())\n",
    "print(\"--------------------------------------------\")\n",
    "print(\"Number of unique values:\", data[\"population\"].nunique())"
   ]
  },
  {
   "cell_type": "markdown",
   "id": "b286a120-48ee-4db0-8989-ffb39344bef4",
   "metadata": {},
   "source": [
    "- \"population\" can't be used directly. Need to perform AOI to create higher-level descriptions or categories for numerical data."
   ]
  },
  {
   "cell_type": "code",
   "execution_count": 17,
   "id": "5ae67545-4cc9-4548-83fb-1ac8f239bf08",
   "metadata": {},
   "outputs": [
    {
     "data": {
      "text/plain": [
       "count       27820.000000\n",
       "mean      1844793.617398\n",
       "std       3911779.441756\n",
       "min           278.000000\n",
       "25%         97498.500000\n",
       "50%        430150.000000\n",
       "75%       1486143.250000\n",
       "max      43805214.000000\n",
       "Name: population, dtype: object"
      ]
     },
     "execution_count": 17,
     "metadata": {},
     "output_type": "execute_result"
    }
   ],
   "source": [
    "data[\"population\"].describe().apply(lambda x: format(x, 'f')) # Suppress Scientific Notation"
   ]
  },
  {
   "cell_type": "code",
   "execution_count": 18,
   "id": "ef2a1256-e997-4081-a439-59537daf7345",
   "metadata": {},
   "outputs": [
    {
     "data": {
      "text/plain": [
       "population\n",
       "24000      20\n",
       "26900      13\n",
       "20700      12\n",
       "22000      12\n",
       "4900       11\n",
       "           ..\n",
       "3282478     1\n",
       "3953119     1\n",
       "5745824     1\n",
       "8448839     1\n",
       "1438935     1\n",
       "Name: count, Length: 25564, dtype: int64"
      ]
     },
     "execution_count": 18,
     "metadata": {},
     "output_type": "execute_result"
    }
   ],
   "source": [
    "data[\"population\"].value_counts()"
   ]
  },
  {
   "cell_type": "markdown",
   "id": "394cddce-4080-4d74-ab6e-d6352e878b0d",
   "metadata": {},
   "source": [
    "- We can derive from the describe() that, the minimum reported population is 278. The maximum reported population is 43805214.\n",
    "- At 25th percentile, the reported population value is 97498.5. This means that 25 percent of data that lies below this 25th percentile point will have value equal to or less than 97498.\n",
    "- At 50th percentile, the population value is 430150. This means half of the data points below 50th percentile point will have value equal to or less than 430150.\n",
    "- At 75th percentile, the population value is 1486143.25. This means that 75% of the data points that lies below this 75th percentile point will have value equal to or less than 1486143.\n",
    "- For the high-level description purpose:\n",
    "    - we can label all those values that lie between 0 and 25th percentile value as `low_population_range`.\n",
    "    - all the values that lie between 25th percentile value and 75th percentile value as `medium_population_range`.\n",
    "    - all values that lie between 75th percentile value to the maximum reported value can be termed as `high_population_range`."
   ]
  },
  {
   "cell_type": "code",
   "execution_count": 19,
   "id": "89cb677c-18f2-4d36-9b8c-2346451f10de",
   "metadata": {},
   "outputs": [
    {
     "data": {
      "text/html": [
       "<div>\n",
       "<style scoped>\n",
       "    .dataframe tbody tr th:only-of-type {\n",
       "        vertical-align: middle;\n",
       "    }\n",
       "\n",
       "    .dataframe tbody tr th {\n",
       "        vertical-align: top;\n",
       "    }\n",
       "\n",
       "    .dataframe thead th {\n",
       "        text-align: right;\n",
       "    }\n",
       "</style>\n",
       "<table border=\"1\" class=\"dataframe\">\n",
       "  <thead>\n",
       "    <tr style=\"text-align: right;\">\n",
       "      <th></th>\n",
       "      <th>country</th>\n",
       "      <th>year</th>\n",
       "      <th>sex</th>\n",
       "      <th>age</th>\n",
       "      <th>suicides/100k pop</th>\n",
       "      <th>country-year</th>\n",
       "      <th>gdp_for_year ($)</th>\n",
       "      <th>gdp_per_capita ($)</th>\n",
       "      <th>generation</th>\n",
       "      <th>suicides_range</th>\n",
       "      <th>population_range</th>\n",
       "    </tr>\n",
       "  </thead>\n",
       "  <tbody>\n",
       "    <tr>\n",
       "      <th>0</th>\n",
       "      <td>Albania</td>\n",
       "      <td>1987</td>\n",
       "      <td>male</td>\n",
       "      <td>15-24 years</td>\n",
       "      <td>6.71</td>\n",
       "      <td>Albania1987</td>\n",
       "      <td>2156624900</td>\n",
       "      <td>796</td>\n",
       "      <td>Generation X</td>\n",
       "      <td>low_suicides_range</td>\n",
       "      <td>medium_population_range</td>\n",
       "    </tr>\n",
       "    <tr>\n",
       "      <th>1</th>\n",
       "      <td>Albania</td>\n",
       "      <td>1987</td>\n",
       "      <td>male</td>\n",
       "      <td>35-54 years</td>\n",
       "      <td>5.19</td>\n",
       "      <td>Albania1987</td>\n",
       "      <td>2156624900</td>\n",
       "      <td>796</td>\n",
       "      <td>Silent</td>\n",
       "      <td>low_suicides_range</td>\n",
       "      <td>medium_population_range</td>\n",
       "    </tr>\n",
       "  </tbody>\n",
       "</table>\n",
       "</div>"
      ],
      "text/plain": [
       "   country  year   sex          age  suicides/100k pop country-year  \\\n",
       "0  Albania  1987  male  15-24 years               6.71  Albania1987   \n",
       "1  Albania  1987  male  35-54 years               5.19  Albania1987   \n",
       "\n",
       "    gdp_for_year ($)   gdp_per_capita ($)    generation      suicides_range  \\\n",
       "0          2156624900                 796  Generation X  low_suicides_range   \n",
       "1          2156624900                 796        Silent  low_suicides_range   \n",
       "\n",
       "          population_range  \n",
       "0  medium_population_range  \n",
       "1  medium_population_range  "
      ]
     },
     "execution_count": 19,
     "metadata": {},
     "output_type": "execute_result"
    }
   ],
   "source": [
    "# Define the labels and conditions\n",
    "conditions = [\n",
    "    (data['population'] <= data['population'].quantile(0.25)),\n",
    "    (data['population'] > data['population'].quantile(0.25)) & (data['population'] <= data['population'].quantile(0.75)),\n",
    "    (data['population'] > data['population'].quantile(0.75))\n",
    "]\n",
    "\n",
    "labels = ['low_population_range', 'medium_population_range', 'high_population_range']\n",
    "\n",
    "# Create a new column with the labels\n",
    "data['population_range'] = np.select(conditions, labels, default='unknown')\n",
    "data.drop(['population'], axis=1, inplace=True)   # Remove the column 'population' because we are using 'population_range' in place of that.\n",
    "# Display the first few rows of the DataFrame with the new column\n",
    "data.head(2)"
   ]
  },
  {
   "cell_type": "code",
   "execution_count": 20,
   "id": "ab410499-ae96-40fa-b3f5-a1dad1fe28a0",
   "metadata": {},
   "outputs": [
    {
     "name": "stdout",
     "output_type": "stream",
     "text": [
      "suicides/100k pop\n",
      "0.00     4281\n",
      "0.29       72\n",
      "0.32       69\n",
      "0.34       55\n",
      "0.37       52\n",
      "         ... \n",
      "46.73       1\n",
      "41.47       1\n",
      "61.03       1\n",
      "28.25       1\n",
      "26.61       1\n",
      "Name: count, Length: 5298, dtype: int64\n"
     ]
    }
   ],
   "source": [
    "print(data[\"suicides/100k pop\"].value_counts())"
   ]
  },
  {
   "cell_type": "code",
   "execution_count": 21,
   "id": "f61e6827-85ed-4485-b16b-d3648f0c4033",
   "metadata": {},
   "outputs": [
    {
     "name": "stdout",
     "output_type": "stream",
     "text": [
      "Unique values in the column \"suicides/100k pop\":\n",
      " [ 6.71  5.19  4.83 ... 47.86 40.75 26.61]\n",
      "Number of unique values: 5298\n",
      "--------------------------------------------\n",
      "Unique values in the column \"country-year\":\n",
      " ['Albania1987' 'Albania1988' 'Albania1989' ... 'Uzbekistan2012'\n",
      " 'Uzbekistan2013' 'Uzbekistan2014']\n",
      "Number of unique values: 2321\n",
      "--------------------------------------------\n"
     ]
    }
   ],
   "source": [
    "print(\"Unique values in the column \\\"suicides/100k pop\\\":\\n\", data[\"suicides/100k pop\"].unique())\n",
    "print(\"Number of unique values:\", data[\"suicides/100k pop\"].nunique())\n",
    "print(\"--------------------------------------------\")\n",
    "print(\"Unique values in the column \\\"country-year\\\":\\n\", data[\"country-year\"].unique())\n",
    "print(\"Number of unique values:\", data[\"country-year\"].nunique())\n",
    "print(\"--------------------------------------------\")"
   ]
  },
  {
   "cell_type": "markdown",
   "id": "6c3303f6-c453-4c37-82df-ad92d495c9b6",
   "metadata": {},
   "source": [
    "- As we are already using 'population' and 'suicides_no' attributes in their generalized form, we can remove the dimension \"suicides/100k pop\" from our dataset.\n",
    "- Similarly, we are using distinct values in 'country' and 'year' dimension, therefore, we will drop the dimension 'country-year'."
   ]
  },
  {
   "cell_type": "code",
   "execution_count": 22,
   "id": "4efef144-6aef-48c2-9f31-edfccae23511",
   "metadata": {},
   "outputs": [],
   "source": [
    "data.drop(['suicides/100k pop'], axis=1, inplace=True)   # Remove the mentioned column\n",
    "data.drop(['country-year'], axis=1, inplace=True)   # Remove the mentioned column\n",
    "data.drop(['gdp_per_capita ($)'], axis=1, inplace=True)"
   ]
  },
  {
   "cell_type": "code",
   "execution_count": 23,
   "id": "5c974b26-1b8a-4b22-9d26-a0ca1ac5aa26",
   "metadata": {},
   "outputs": [
    {
     "data": {
      "text/plain": [
       "count             27820.000000\n",
       "mean       445580969025.726624\n",
       "std       1453609985940.912109\n",
       "min            46919625.000000\n",
       "25%          8985352832.000000\n",
       "50%         48114688201.000000\n",
       "75%        260202429150.000000\n",
       "max      18120714000000.000000\n",
       "Name:  gdp_for_year ($) , dtype: object"
      ]
     },
     "execution_count": 23,
     "metadata": {},
     "output_type": "execute_result"
    }
   ],
   "source": [
    "data[\" gdp_for_year ($) \"].describe().apply(lambda x: format(x, 'f')) # Suppress Scientific Notation"
   ]
  },
  {
   "cell_type": "markdown",
   "id": "c0d15d76-8f74-41ab-af5c-4df3a43df13d",
   "metadata": {},
   "source": [
    "- We can derive from the describe() that, the minimum reported gdp_per_year value is 46,919,625\\\\$. The maximum reported population is 18,120,714,000,000\\\\$.\n",
    "- At 25th percentile, the reported gdp_per_year value is 8,985,352,832\\\\$. This means that 25 percent of data that lies below this 25th percentile point will have value equal to or less than 8,985,352,832\\\\$.\n",
    "- At 50th percentile, the gdp_per_year value is 48,114,688,201\\\\$. This means half of the data points below 50th percentile point will have value equal to or less than 48,114,688,201\\\\$.\n",
    "- At 75th percentile, the gdp_per_year value is 260,202,429,150\\\\$. This means that 75\\% of the data points that lies below this 75th percentile point will have value equal to or less than 260,202,429,150\\\\$. \n",
    "- For the high-level description purpose:\n",
    "    - we can label all those values that lie between 0 and 25th percentile value as `low_income_range`.\n",
    "    - all the values that lie between 25th percentile value and 75th percentile value as `medium_income_range`.\n",
    "    - all values that lie between 75th percentile value to the maximum reported value can be termed as `high_income_range`."
   ]
  },
  {
   "cell_type": "code",
   "execution_count": 24,
   "id": "6a244244-5b77-4695-b70d-8a061ae388d0",
   "metadata": {},
   "outputs": [
    {
     "data": {
      "text/html": [
       "<div>\n",
       "<style scoped>\n",
       "    .dataframe tbody tr th:only-of-type {\n",
       "        vertical-align: middle;\n",
       "    }\n",
       "\n",
       "    .dataframe tbody tr th {\n",
       "        vertical-align: top;\n",
       "    }\n",
       "\n",
       "    .dataframe thead th {\n",
       "        text-align: right;\n",
       "    }\n",
       "</style>\n",
       "<table border=\"1\" class=\"dataframe\">\n",
       "  <thead>\n",
       "    <tr style=\"text-align: right;\">\n",
       "      <th></th>\n",
       "      <th>country</th>\n",
       "      <th>year</th>\n",
       "      <th>sex</th>\n",
       "      <th>age</th>\n",
       "      <th>generation</th>\n",
       "      <th>suicides_range</th>\n",
       "      <th>population_range</th>\n",
       "      <th>gdp_per_year_income_range</th>\n",
       "    </tr>\n",
       "  </thead>\n",
       "  <tbody>\n",
       "    <tr>\n",
       "      <th>0</th>\n",
       "      <td>Albania</td>\n",
       "      <td>1987</td>\n",
       "      <td>male</td>\n",
       "      <td>15-24 years</td>\n",
       "      <td>Generation X</td>\n",
       "      <td>low_suicides_range</td>\n",
       "      <td>medium_population_range</td>\n",
       "      <td>low_income_range</td>\n",
       "    </tr>\n",
       "    <tr>\n",
       "      <th>1</th>\n",
       "      <td>Albania</td>\n",
       "      <td>1987</td>\n",
       "      <td>male</td>\n",
       "      <td>35-54 years</td>\n",
       "      <td>Silent</td>\n",
       "      <td>low_suicides_range</td>\n",
       "      <td>medium_population_range</td>\n",
       "      <td>low_income_range</td>\n",
       "    </tr>\n",
       "  </tbody>\n",
       "</table>\n",
       "</div>"
      ],
      "text/plain": [
       "   country  year   sex          age    generation      suicides_range  \\\n",
       "0  Albania  1987  male  15-24 years  Generation X  low_suicides_range   \n",
       "1  Albania  1987  male  35-54 years        Silent  low_suicides_range   \n",
       "\n",
       "          population_range gdp_per_year_income_range  \n",
       "0  medium_population_range          low_income_range  \n",
       "1  medium_population_range          low_income_range  "
      ]
     },
     "execution_count": 24,
     "metadata": {},
     "output_type": "execute_result"
    }
   ],
   "source": [
    "# Define the labels and conditions\n",
    "conditions = [\n",
    "    (data[' gdp_for_year ($) '] <= data[' gdp_for_year ($) '].quantile(0.25)),\n",
    "    (data[' gdp_for_year ($) '] > data[' gdp_for_year ($) '].quantile(0.25)) & (data[' gdp_for_year ($) '] <= data[' gdp_for_year ($) '].quantile(0.75)),\n",
    "    (data[' gdp_for_year ($) '] > data[' gdp_for_year ($) '].quantile(0.75))\n",
    "]\n",
    "\n",
    "labels = ['low_income_range', 'medium_income_range', 'high_income_range']\n",
    "\n",
    "# Create a new column with the labels\n",
    "data['gdp_per_year_income_range'] = np.select(conditions, labels, default='unknown')\n",
    "data.drop([' gdp_for_year ($) '], axis=1, inplace=True)   # Remove the column 'gdp+per_year ($)' because we are using 'gdp_per_year_income_range' in place of that.\n",
    "# Display the first few rows of the DataFrame with the new column\n",
    "data.head(2)"
   ]
  },
  {
   "cell_type": "code",
   "execution_count": 25,
   "id": "79ab6f56-3ccb-41f7-9dd6-59502a654324",
   "metadata": {},
   "outputs": [
    {
     "name": "stdout",
     "output_type": "stream",
     "text": [
      "generation\n",
      "Generation X       6408\n",
      "Silent             6364\n",
      "Millenials         5844\n",
      "Boomers            4990\n",
      "G.I. Generation    2744\n",
      "Generation Z       1470\n",
      "Name: count, dtype: int64\n"
     ]
    }
   ],
   "source": [
    "print(data[\"generation\"].value_counts())"
   ]
  },
  {
   "cell_type": "code",
   "execution_count": 26,
   "id": "7654c187-4686-4b4e-9dbf-69fce1de5753",
   "metadata": {},
   "outputs": [
    {
     "name": "stdout",
     "output_type": "stream",
     "text": [
      "Unique values:\n",
      " ['Generation X' 'Silent' 'G.I. Generation' 'Boomers' 'Millenials'\n",
      " 'Generation Z']\n",
      "--------------------------------------------\n",
      "Number of unique values: 6\n"
     ]
    }
   ],
   "source": [
    "print(\"Unique values:\\n\", data[\"generation\"].unique())\n",
    "print(\"--------------------------------------------\")\n",
    "print(\"Number of unique values:\", data[\"generation\"].nunique())"
   ]
  },
  {
   "cell_type": "code",
   "execution_count": 27,
   "id": "1ae2f327-ec22-430d-be92-6fa83bb91f2a",
   "metadata": {},
   "outputs": [
    {
     "name": "stdout",
     "output_type": "stream",
     "text": [
      "<bound method DataFrame.info of           country  year     sex          age       generation  \\\n",
      "0         Albania  1987    male  15-24 years     Generation X   \n",
      "1         Albania  1987    male  35-54 years           Silent   \n",
      "2         Albania  1987  female  15-24 years     Generation X   \n",
      "3         Albania  1987    male    75+ years  G.I. Generation   \n",
      "4         Albania  1987    male  25-34 years          Boomers   \n",
      "...           ...   ...     ...          ...              ...   \n",
      "27815  Uzbekistan  2014  female  35-54 years     Generation X   \n",
      "27816  Uzbekistan  2014  female    75+ years           Silent   \n",
      "27817  Uzbekistan  2014    male   5-14 years     Generation Z   \n",
      "27818  Uzbekistan  2014  female   5-14 years     Generation Z   \n",
      "27819  Uzbekistan  2014  female  55-74 years          Boomers   \n",
      "\n",
      "              suicides_range         population_range  \\\n",
      "0         low_suicides_range  medium_population_range   \n",
      "1         low_suicides_range  medium_population_range   \n",
      "2         low_suicides_range  medium_population_range   \n",
      "3         low_suicides_range     low_population_range   \n",
      "4         low_suicides_range  medium_population_range   \n",
      "...                      ...                      ...   \n",
      "27815  medium_suicides_range    high_population_range   \n",
      "27816     low_suicides_range  medium_population_range   \n",
      "27817  medium_suicides_range    high_population_range   \n",
      "27818  medium_suicides_range    high_population_range   \n",
      "27819     low_suicides_range  medium_population_range   \n",
      "\n",
      "      gdp_per_year_income_range  \n",
      "0              low_income_range  \n",
      "1              low_income_range  \n",
      "2              low_income_range  \n",
      "3              low_income_range  \n",
      "4              low_income_range  \n",
      "...                         ...  \n",
      "27815       medium_income_range  \n",
      "27816       medium_income_range  \n",
      "27817       medium_income_range  \n",
      "27818       medium_income_range  \n",
      "27819       medium_income_range  \n",
      "\n",
      "[27820 rows x 8 columns]>\n"
     ]
    }
   ],
   "source": [
    "print(data.info)"
   ]
  },
  {
   "cell_type": "code",
   "execution_count": 28,
   "id": "0e92266f-5fd8-441d-9eb4-7e8d07c8b425",
   "metadata": {},
   "outputs": [],
   "source": [
    "#Delete unnecessary variabels after Preprocessing stesps\n",
    "del conditions, duplicate, labels"
   ]
  },
  {
   "cell_type": "markdown",
   "id": "5cb06d96-89e2-4938-9a31-1ab1721eae0f",
   "metadata": {},
   "source": [
    "<a name = Section4></a>\n",
    "#### **4. BUC Implementation**"
   ]
  },
  {
   "cell_type": "markdown",
   "id": "04067b10-d9cb-48ef-b692-754ebbe0d99d",
   "metadata": {},
   "source": [
    "- The cell below contains a function to encode categorical attributes to numerical."
   ]
  },
  {
   "cell_type": "code",
   "execution_count": 29,
   "id": "b5188bf1-2560-40d5-9e9d-30fa6c3a78b4",
   "metadata": {},
   "outputs": [],
   "source": [
    "class preprocess_df:\n",
    "  '''\n",
    "  Class to preprocess DataFrame\n",
    "  '''\n",
    "  def encode_attributes(self, input_df, column_indices):\n",
    "    transformed_dicts_ls = []\n",
    "    transformed_df = input_df.copy(deep = True)\n",
    "    column_names = transformed_df.columns.tolist()\n",
    "    for col_iter in column_indices:\n",
    "      temp_dict = {}\n",
    "      temp_key = 0\n",
    "      temp_ls = []\n",
    "      column_name = column_names[col_iter]\n",
    "      for col in transformed_df.iloc[:,col_iter].tolist():\n",
    "        if col not in [*temp_dict.keys()]:\n",
    "          temp_dict[col] = temp_key\n",
    "          temp_key += 1\n",
    "        temp_ls.append(temp_dict[col])\n",
    "      dict_inv = {v:k for k,v in temp_dict.items()}\n",
    "      transformed_dicts_ls.append(dict_inv)\n",
    "      transformed_df[column_name] = temp_ls\n",
    "    return transformed_df, transformed_dicts_ls"
   ]
  },
  {
   "cell_type": "markdown",
   "id": "dd5e2177-2817-428d-a77f-b2a2a02a9e68",
   "metadata": {},
   "source": [
    "#### When the entire dataframe fits into the main memory\n",
    "- Below cell contains the class for BUC implementation when the dataframe fits into the main memory.\n",
    "- Most of the variable names are exactly as indicated in the paper.\n",
    "- Counting sort is used as prescribed in the paper."
   ]
  },
  {
   "cell_type": "code",
   "execution_count": 30,
   "id": "5733c2da-62a2-44a5-9dc1-9089e8b43430",
   "metadata": {},
   "outputs": [],
   "source": [
    "class buc:\n",
    "    '''\n",
    "    Class for implementing BUC\n",
    "    '''\n",
    "    def __init__(self, df, column_enc_dicts_ls, minsup):\n",
    "        self.numDims = df.shape[1]\n",
    "        self.cardinality = []\n",
    "        self.minsup = minsup\n",
    "        self.output_df = None\n",
    "        self.datacounts = [[]] * df.shape[1]\n",
    "        self.attribute_ls = [\"*\"] * df.shape[1]\n",
    "        self.debug_counter = 0\n",
    "        self.output_dict = {}\n",
    "        self.column_enc_dicts_ls = column_enc_dicts_ls\n",
    "\n",
    "    def counting_sort(self, array_a, df_idx_ls):\n",
    "      '''\n",
    "      Inputs \n",
    "      array_a: List to be sorted\n",
    "      df_idx_ls: Index list corresponding to the array_a. For example: DataFrame indices corresponding to array_a.\n",
    "      Output\n",
    "      idx_ls: Order in which df_idx_ls should be arranged so that array_a is in the sorted order i.e argsorting array_a\n",
    "      '''\n",
    "      array_c = [0]*(max(array_a) + 1)\n",
    "      idx_ls = [-1] * (len(array_a))\n",
    "\n",
    "      for i in range(0, len(array_a)):\n",
    "        array_c[array_a[i]] += 1\n",
    "\n",
    "      for i in range(0, len(array_c) - 1):\n",
    "        array_c[i+1] = array_c[i] + array_c[i+1]\n",
    "\n",
    "      for i in range(len(array_a) - 1, -1, -1):\n",
    "        array_c[array_a[i]] = array_c[array_a[i]] - 1\n",
    "        idx = array_c[array_a[i]]\n",
    "        idx_ls[idx] = df_idx_ls[i]\n",
    "\n",
    "      return idx_ls\n",
    "\n",
    "\n",
    "    def partition(self, input_df, d):\n",
    "        '''\n",
    "        Implements partitioning logic i.e sorts the input dataframe and populates self.datacounts\n",
    "        Inputs:\n",
    "        input_df: Input DataFrame\n",
    "        d: column number based on which sorting is performed\n",
    "        Output:\n",
    "        input_df: DataFrame which is sorted according to the specified column\n",
    "        '''\n",
    "        #Sorting the dataframe\n",
    "        temp_counter_dict = {}\n",
    "        sorted_idx = self.counting_sort(input_df.iloc[:,d].tolist(), input_df.index.tolist())\n",
    "        input_df = input_df.reindex(sorted_idx)\n",
    "        #Populating self.datacounts\n",
    "        for attribute in input_df.iloc[:,d].tolist():\n",
    "            temp_counter_dict[attribute] = temp_counter_dict.get(attribute, 0) + 1\n",
    "        self.datacounts[d] = [*temp_counter_dict.values()]\n",
    "        return input_df\n",
    "\n",
    "    def buc_implementation(self, input, dim):\n",
    "        '''\n",
    "        Function to implement BUC as indicated in the original paper. \n",
    "        Populates self.output_dict which is the output dictionary.\n",
    "        NOTE:Most of the variable names are exactly as indicated in the original paper.\n",
    "        Input\n",
    "        input: Input DataFrame\n",
    "        dim: Starting column for performing aggregation\n",
    "        '''\n",
    "        self.debug_counter += 1\n",
    "        if tuple(self.attribute_ls) in [*self.output_dict.keys()]:\n",
    "          print(f\"Error!!\")\n",
    "        self.output_dict[tuple(self.attribute_ls)] = input.shape[0]\n",
    "       \n",
    "        for d in range(dim, self.numDims,1):\n",
    "            bigc = input.iloc[:,d].nunique()\n",
    "            input = self.partition(input, d)\n",
    "            k = 0\n",
    "            for i in range(0, bigc, 1):\n",
    "                smallc = self.datacounts[d][i]\n",
    "                if smallc >= self.minsup:\n",
    "                    self.attribute_ls[d] = self.column_enc_dicts_ls[d][input.iloc[k,d]]\n",
    "                    self.buc_implementation(input.iloc[k:k+smallc,:], dim=d+1)\n",
    "                k += smallc\n",
    "            self.attribute_ls[d] = \"*\""
   ]
  },
  {
   "cell_type": "code",
   "execution_count": 31,
   "id": "2c52681a-75dc-4d6e-bfee-3279f4a78e8b",
   "metadata": {},
   "outputs": [],
   "source": [
    "def format_output(output_dict):\n",
    "    '''\n",
    "    Function that takes the output dictionary and converts it into a dataframe for readability\n",
    "    '''\n",
    "    output_dict_transformed = {}\n",
    "    columns_ls = input_df.columns.tolist()\n",
    "    for column in columns_ls:\n",
    "        output_dict_transformed[column] = []\n",
    "        output_dict_transformed['count'] = []\n",
    "    for tuple_key, value in output_dict.items():\n",
    "        output_dict_transformed['count'].append(value)\n",
    "        for tuple_key_iter in range(0,len(tuple_key)):\n",
    "            output_dict_transformed[columns_ls[tuple_key_iter]].append(tuple_key[tuple_key_iter])\n",
    "    output_df = pd.DataFrame.from_dict(output_dict_transformed)\n",
    "    columns_order = ['country', 'year', 'sex', 'age', 'generation', 'suicides_range', 'population_range', 'gdp_per_year_income_range', 'count']\n",
    "    output_df = output_df.reindex(columns = columns_order)\n",
    "    return output_df"
   ]
  },
  {
   "cell_type": "markdown",
   "id": "898c9d2f-dede-4bc1-b214-1ae3f7505b87",
   "metadata": {},
   "source": [
    "- BUC Output when the entire dataframe fits into the main memory."
   ]
  },
  {
   "cell_type": "code",
   "execution_count": 32,
   "id": "3244659d-62cc-42c7-83be-5f46d617c62a",
   "metadata": {},
   "outputs": [
    {
     "data": {
      "text/html": [
       "<div>\n",
       "<style scoped>\n",
       "    .dataframe tbody tr th:only-of-type {\n",
       "        vertical-align: middle;\n",
       "    }\n",
       "\n",
       "    .dataframe tbody tr th {\n",
       "        vertical-align: top;\n",
       "    }\n",
       "\n",
       "    .dataframe thead th {\n",
       "        text-align: right;\n",
       "    }\n",
       "</style>\n",
       "<table border=\"1\" class=\"dataframe\">\n",
       "  <thead>\n",
       "    <tr style=\"text-align: right;\">\n",
       "      <th></th>\n",
       "      <th>country</th>\n",
       "      <th>year</th>\n",
       "      <th>sex</th>\n",
       "      <th>age</th>\n",
       "      <th>generation</th>\n",
       "      <th>suicides_range</th>\n",
       "      <th>population_range</th>\n",
       "      <th>gdp_per_year_income_range</th>\n",
       "      <th>count</th>\n",
       "    </tr>\n",
       "  </thead>\n",
       "  <tbody>\n",
       "    <tr>\n",
       "      <th>0</th>\n",
       "      <td>*</td>\n",
       "      <td>*</td>\n",
       "      <td>*</td>\n",
       "      <td>*</td>\n",
       "      <td>*</td>\n",
       "      <td>*</td>\n",
       "      <td>*</td>\n",
       "      <td>*</td>\n",
       "      <td>27820</td>\n",
       "    </tr>\n",
       "    <tr>\n",
       "      <th>1</th>\n",
       "      <td>Albania</td>\n",
       "      <td>*</td>\n",
       "      <td>*</td>\n",
       "      <td>*</td>\n",
       "      <td>*</td>\n",
       "      <td>*</td>\n",
       "      <td>*</td>\n",
       "      <td>*</td>\n",
       "      <td>264</td>\n",
       "    </tr>\n",
       "    <tr>\n",
       "      <th>2</th>\n",
       "      <td>Albania</td>\n",
       "      <td>*</td>\n",
       "      <td>male</td>\n",
       "      <td>*</td>\n",
       "      <td>*</td>\n",
       "      <td>*</td>\n",
       "      <td>*</td>\n",
       "      <td>*</td>\n",
       "      <td>132</td>\n",
       "    </tr>\n",
       "    <tr>\n",
       "      <th>3</th>\n",
       "      <td>Albania</td>\n",
       "      <td>*</td>\n",
       "      <td>male</td>\n",
       "      <td>*</td>\n",
       "      <td>*</td>\n",
       "      <td>low_suicides_range</td>\n",
       "      <td>*</td>\n",
       "      <td>*</td>\n",
       "      <td>119</td>\n",
       "    </tr>\n",
       "    <tr>\n",
       "      <th>4</th>\n",
       "      <td>Albania</td>\n",
       "      <td>*</td>\n",
       "      <td>male</td>\n",
       "      <td>*</td>\n",
       "      <td>*</td>\n",
       "      <td>*</td>\n",
       "      <td>medium_population_range</td>\n",
       "      <td>*</td>\n",
       "      <td>110</td>\n",
       "    </tr>\n",
       "    <tr>\n",
       "      <th>...</th>\n",
       "      <td>...</td>\n",
       "      <td>...</td>\n",
       "      <td>...</td>\n",
       "      <td>...</td>\n",
       "      <td>...</td>\n",
       "      <td>...</td>\n",
       "      <td>...</td>\n",
       "      <td>...</td>\n",
       "      <td>...</td>\n",
       "    </tr>\n",
       "    <tr>\n",
       "      <th>6602</th>\n",
       "      <td>*</td>\n",
       "      <td>*</td>\n",
       "      <td>*</td>\n",
       "      <td>*</td>\n",
       "      <td>*</td>\n",
       "      <td>*</td>\n",
       "      <td>high_population_range</td>\n",
       "      <td>medium_income_range</td>\n",
       "      <td>2219</td>\n",
       "    </tr>\n",
       "    <tr>\n",
       "      <th>6603</th>\n",
       "      <td>*</td>\n",
       "      <td>*</td>\n",
       "      <td>*</td>\n",
       "      <td>*</td>\n",
       "      <td>*</td>\n",
       "      <td>*</td>\n",
       "      <td>high_population_range</td>\n",
       "      <td>high_income_range</td>\n",
       "      <td>4727</td>\n",
       "    </tr>\n",
       "    <tr>\n",
       "      <th>6604</th>\n",
       "      <td>*</td>\n",
       "      <td>*</td>\n",
       "      <td>*</td>\n",
       "      <td>*</td>\n",
       "      <td>*</td>\n",
       "      <td>*</td>\n",
       "      <td>*</td>\n",
       "      <td>low_income_range</td>\n",
       "      <td>6958</td>\n",
       "    </tr>\n",
       "    <tr>\n",
       "      <th>6605</th>\n",
       "      <td>*</td>\n",
       "      <td>*</td>\n",
       "      <td>*</td>\n",
       "      <td>*</td>\n",
       "      <td>*</td>\n",
       "      <td>*</td>\n",
       "      <td>*</td>\n",
       "      <td>medium_income_range</td>\n",
       "      <td>13910</td>\n",
       "    </tr>\n",
       "    <tr>\n",
       "      <th>6606</th>\n",
       "      <td>*</td>\n",
       "      <td>*</td>\n",
       "      <td>*</td>\n",
       "      <td>*</td>\n",
       "      <td>*</td>\n",
       "      <td>*</td>\n",
       "      <td>*</td>\n",
       "      <td>high_income_range</td>\n",
       "      <td>6952</td>\n",
       "    </tr>\n",
       "  </tbody>\n",
       "</table>\n",
       "<p>6607 rows × 9 columns</p>\n",
       "</div>"
      ],
      "text/plain": [
       "      country year   sex age generation      suicides_range  \\\n",
       "0           *    *     *   *          *                   *   \n",
       "1     Albania    *     *   *          *                   *   \n",
       "2     Albania    *  male   *          *                   *   \n",
       "3     Albania    *  male   *          *  low_suicides_range   \n",
       "4     Albania    *  male   *          *                   *   \n",
       "...       ...  ...   ...  ..        ...                 ...   \n",
       "6602        *    *     *   *          *                   *   \n",
       "6603        *    *     *   *          *                   *   \n",
       "6604        *    *     *   *          *                   *   \n",
       "6605        *    *     *   *          *                   *   \n",
       "6606        *    *     *   *          *                   *   \n",
       "\n",
       "             population_range gdp_per_year_income_range  count  \n",
       "0                           *                         *  27820  \n",
       "1                           *                         *    264  \n",
       "2                           *                         *    132  \n",
       "3                           *                         *    119  \n",
       "4     medium_population_range                         *    110  \n",
       "...                       ...                       ...    ...  \n",
       "6602    high_population_range       medium_income_range   2219  \n",
       "6603    high_population_range         high_income_range   4727  \n",
       "6604                        *          low_income_range   6958  \n",
       "6605                        *       medium_income_range  13910  \n",
       "6606                        *         high_income_range   6952  \n",
       "\n",
       "[6607 rows x 9 columns]"
      ]
     },
     "execution_count": 32,
     "metadata": {},
     "output_type": "execute_result"
    }
   ],
   "source": [
    "#BUC Implementation: When the entire dataframe fits into the main memory.\n",
    "minsup = 100\n",
    "num_splits = 10\n",
    "input_df = data\n",
    "#Encode all of the categorical attributes into numerical form.\n",
    "preprocess_obj = preprocess_df()\n",
    "transformed_df, column_enc_dicts_ls = preprocess_obj.encode_attributes(input_df, [*range(0,input_df.shape[1])]) #NOTE: This should be modified as required\n",
    "buc_obj = buc(transformed_df, column_enc_dicts_ls, minsup)\n",
    "buc_obj.buc_implementation(transformed_df, 0)\n",
    "output_dict = buc_obj.output_dict\n",
    "format_output(output_dict)"
   ]
  },
  {
   "cell_type": "code",
   "execution_count": 33,
   "id": "30811611-18d8-4906-ad46-dd8ef83c538e",
   "metadata": {},
   "outputs": [],
   "source": [
    "del minsup, num_splits, input_df, preprocess_obj, transformed_df, column_enc_dicts_ls, buc_obj, output_dict"
   ]
  },
  {
   "cell_type": "markdown",
   "id": "cd2626f0-c134-4cfa-8bc6-38ec7cb8e318",
   "metadata": {},
   "source": [
    "#### When the entire dataframe doesn't fit into the main memory\n",
    "- The dataframe is partitioned into a certain number of chunks which are saved on the disk.\n",
    "- External merge sort is implemented for partitioning.\n",
    "- For external merge sort, we perform a k-way merge after sorting each individual list (assuming that we are given k lists)."
   ]
  },
  {
   "cell_type": "code",
   "execution_count": 34,
   "id": "4582f75f-c4f4-441f-a966-f02b4fffd0f0",
   "metadata": {},
   "outputs": [],
   "source": [
    "def external_merge_sort_implementation(chunk_paths, d, iteration_num, index_dict, file_path):\n",
    "    '''\n",
    "    Implements external merge sort i.e to sort k dataframes when all of them don't fit in the main memory.\n",
    "    Given K chunks, the function replaces the unsorted chunks with their globally sorted versions.\n",
    "    Inputs:\n",
    "    chunk_paths: Locations of each chunk\n",
    "    d: Column number on which sorting is to be performed\n",
    "    iteration_num: Iteration number\n",
    "    index_dict: Dictionary containing the indices in each chunked dataframe.\n",
    "    Output:\n",
    "    None\n",
    "    '''\n",
    "    sorted_chunk_paths = []\n",
    "    index_ls = copy.deepcopy([*index_dict.values()])\n",
    "    output_len_ls = copy.deepcopy([*index_dict.values()])\n",
    "    index_ls = [len(i) for i in index_ls]\n",
    "    output_len_ls = [len(i) for i in output_len_ls]\n",
    "    output_len_idx = 0\n",
    "    #Sorting each individual dataframe\n",
    "    for i_iter, chunk_path in enumerate(chunk_paths):\n",
    "        chunk_df = pd.read_pickle(chunk_path)\n",
    "        if i_iter == 0:\n",
    "            df_columns = chunk_df.columns\n",
    "        chunk_df_ls = chunk_df.values.tolist()\n",
    "        chunk_df_ls.sort(key = lambda x: (x[d]))\n",
    "        sorted_chunk_path = f\"./sorted_{chunk_path.split('/')[-1].split('.pkl')[0]}\"\n",
    "        sorted_chunk_df = pd.DataFrame(chunk_df_ls, columns=df_columns)\n",
    "        sorted_chunk_df.to_pickle(sorted_chunk_path)\n",
    "        sorted_chunk_paths.append(sorted_chunk_path)\n",
    "\n",
    "    #Merging the sorted chunks by performing a K-way merge operation\n",
    "    output_ls = []\n",
    "    idxs_ls = [0] * len(chunk_paths)\n",
    "    input_ls = []\n",
    "    min_idx = -1\n",
    "    debug_counter = 0\n",
    "    sorted_chunks_path_cpy = copy.deepcopy(sorted_chunk_paths)\n",
    "    while True:\n",
    "        #First iteration\n",
    "        if min_idx == -1:\n",
    "            for sorted_chunk_path in sorted_chunks_path_cpy:\n",
    "                df = pd.read_pickle(sorted_chunk_path)\n",
    "                input_ls.append(df.values.tolist()[idxs_ls[i_iter]])\n",
    "        else:\n",
    "            try:\n",
    "                df = pd.read_pickle(sorted_chunks_path_cpy[min_idx])\n",
    "                input_ls.insert(min_idx, df.values.tolist()[idxs_ls[min_idx]])\n",
    "            except Exception as err:\n",
    "                print(f\"Inside except block... {err}\")\n",
    "  \n",
    "        input_arr = np.array(input_ls)\n",
    "        min_idx = np.argmin(input_arr, axis=0)[d]\n",
    "        output_ls.append(input_ls[min_idx])\n",
    "        input_ls.pop(min_idx)\n",
    "        idxs_ls[min_idx] += 1\n",
    "\n",
    "        #Writing output\n",
    "        if len(output_ls) >= output_len_ls[output_len_idx]:\n",
    "            sorted_chunk_df = pd.DataFrame(output_ls, columns=df_columns)\n",
    "            sorted_chunk_df.to_pickle(f\"{file_path}{iteration_num}{output_len_idx}.pkl\")\n",
    "            output_ls = []\n",
    "            output_len_idx += 1\n",
    "        \n",
    "        if idxs_ls[min_idx] > (index_ls[min_idx] -1):\n",
    "            idxs_ls.pop(min_idx)\n",
    "            sorted_chunks_path_cpy.pop(min_idx)\n",
    "            index_ls.pop(min_idx)\n",
    "            if len(input_ls) == 0:\n",
    "                break \n",
    "            try:\n",
    "                if min_idx > len(input_ls) - 1:\n",
    "                    min_idx -= 1\n",
    "                    input_ls.pop(min_idx)\n",
    "                else:\n",
    "                    input_ls.pop(min_idx)\n",
    "            except Exception as err:\n",
    "                print(f\"{err}\")\n",
    "                \n",
    "    #Remove sorted_chunk_paths\n",
    "    for sorted_chunk in sorted_chunk_paths:\n",
    "        os.remove(sorted_chunk)"
   ]
  },
  {
   "cell_type": "markdown",
   "id": "3c1c5638-e107-451f-b50e-8da617d8f126",
   "metadata": {},
   "source": [
    "- Below cell contains the code for implementing the BUC class when the entire dataframe doesn't fit into the main memory."
   ]
  },
  {
   "cell_type": "code",
   "execution_count": 35,
   "id": "6c989479-8cef-4ced-9c96-b0f3b7d514ad",
   "metadata": {},
   "outputs": [],
   "source": [
    "#BUC implementation\n",
    "class buc_external:\n",
    "    '''\n",
    "    Class for implementing BUC\n",
    "    '''\n",
    "    def __init__(self, df, column_enc_dicts_ls, minsup):\n",
    "        self.numDims = df.shape[1]\n",
    "        self.cardinality = []\n",
    "        self.minsup = minsup\n",
    "        self.output_df = None\n",
    "        self.datacounts = [[]] * df.shape[1]\n",
    "        self.attribute_ls = [\"*\"] * df.shape[1]\n",
    "        self.debug_counter = 0\n",
    "        self.output_dict = {}\n",
    "        self.column_enc_dicts_ls = column_enc_dicts_ls\n",
    "        self.file_path = './dfs/iter_run_'\n",
    "        os.makedirs(f\"./dfs\", exist_ok=True)\n",
    "\n",
    "    def counting_sort(self, array_a, df_idx_ls):\n",
    "      '''\n",
    "      Inputs \n",
    "      array_a: List to be sorted\n",
    "      df_idx_ls: Index list corresponding to the array_a. For example: DataFrame indices corresponding to array_a.\n",
    "      Output\n",
    "      idx_ls: Order in which df_idx_ls should be arranged so that array_a is in the sorted order.\n",
    "      '''\n",
    "      array_c = [0]*(max(array_a) + 1)\n",
    "      idx_ls = [-1] * (len(array_a))\n",
    "\n",
    "      for i in range(0, len(array_a)):\n",
    "        array_c[array_a[i]] += 1\n",
    "\n",
    "      for i in range(0, len(array_c) - 1):\n",
    "        array_c[i+1] = array_c[i] + array_c[i+1]\n",
    "\n",
    "      for i in range(len(array_a) - 1, -1, -1):\n",
    "        array_c[array_a[i]] = array_c[array_a[i]] - 1\n",
    "        idx = array_c[array_a[i]]\n",
    "        idx_ls[idx] = df_idx_ls[i]\n",
    "\n",
    "      return idx_ls\n",
    "\n",
    "    def partition(self, iteration_num, num_splits, index_dict, d):\n",
    "        '''\n",
    "        Function to perform partitioning, external merge sort is used here.\n",
    "        Inputs:\n",
    "        iteration_num: Iteration number.\n",
    "        num_splits: No. of chunks into which the input file is divided.\n",
    "        index_dict: Dictionary containing the indices in each chunked dataframe.\n",
    "        d: Attribute on which sorting is to be performed.\n",
    "        '''\n",
    "        chunk_paths_ls = []\n",
    "        for i_iter in range(0, num_splits):\n",
    "            if os.path.exists(f\"{self.file_path}{iteration_num}{i_iter}.pkl\"):\n",
    "                chunk_paths_ls.append(f\"{self.file_path}{iteration_num}{i_iter}.pkl\")\n",
    "                \n",
    "        external_merge_sort_implementation(chunk_paths_ls, d, iteration_num, index_dict, self.file_path)\n",
    "        \n",
    "        input_df = pd.DataFrame()\n",
    "        for i_iter in range(0, num_splits):\n",
    "            if os.path.exists(f\"{self.file_path}{iteration_num}{i_iter}.pkl\"):\n",
    "                df = pd.read_pickle(f\"{self.file_path}{iteration_num}{i_iter}.pkl\")\n",
    "                input_df = pd.concat([input_df, df])\n",
    "        \n",
    "        #Populating self.datacounts\n",
    "        temp_counter_dict = {}\n",
    "        for attribute in input_df.iloc[:,d].tolist():\n",
    "            temp_counter_dict[attribute] = temp_counter_dict.get(attribute, 0) + 1\n",
    "        self.datacounts[d] = [*temp_counter_dict.values()]\n",
    "        return None\n",
    "                    \n",
    "        \n",
    "    def compute_aggregate(self, iteration_num, num_splits):\n",
    "        '''\n",
    "        Function to find the count i.e the total number of rows in all the chunks combined.\n",
    "        '''\n",
    "        count = 0\n",
    "        for i_iter in range(0,num_splits):\n",
    "            if os.path.exists(f\"{self.file_path}{iteration_num}{i_iter}.pkl\"):\n",
    "                df = pd.read_pickle(f\"{self.file_path}{iteration_num}{i_iter}.pkl\")\n",
    "                count += df.shape[0]\n",
    "        return count\n",
    "\n",
    "    \n",
    "    def find_bigc(self, iteration_num, num_splits, d): \n",
    "        '''\n",
    "        Bigc refers to the cardinality of the dth attribute in the dataframe\n",
    "        '''\n",
    "        computed_values = []\n",
    "        bigc = 0\n",
    "        for i_iter in range(0, num_splits):\n",
    "            if os.path.exists(f\"{self.file_path}{iteration_num}{i_iter}.pkl\"):\n",
    "                df = pd.read_pickle(f\"{self.file_path}{iteration_num}{i_iter}.pkl\")\n",
    "                for attribute_name in df.iloc[:,d].unique().tolist():\n",
    "                    if attribute_name not in computed_values:\n",
    "                        computed_values.append(attribute_name)\n",
    "                        bigc += 1\n",
    "        return bigc\n",
    "\n",
    "    def split_input(self, slice_range, iteration_num, num_splits):\n",
    "        '''\n",
    "        Function to split the input dataframe into a specified number of chunks. \n",
    "        Chunks in iteration 't' are obtained by taking the correct indices from iteration 't-1'\n",
    "        '''\n",
    "        #Delete previous files of current iteration\n",
    "        for i_iter in range(0, num_splits):\n",
    "            if os.path.exists(f\"{self.file_path}{iteration_num}{i_iter}.pkl\"):\n",
    "                os.remove(f\"{self.file_path}{iteration_num}{i_iter}.pkl\")\n",
    "                            \n",
    "        index_dict_t = {} #Stores the indices that are present in each dictionary\n",
    "        #Indicates the very first iteration\n",
    "        if not os.path.exists(f\"{self.file_path}{iteration_num-1}0.pkl\"):\n",
    "            input_df = transformed_df\n",
    "            split_df = np.array_split(input_df, num_splits)\n",
    "            start_idx = 0\n",
    "            for i_iter, df in enumerate(split_df):\n",
    "                # print(f\"DF after splitting: {df}\")\n",
    "                df.to_pickle(f\"{self.file_path}{iteration_num}{i_iter}.pkl\")\n",
    "                index_dict_t[i_iter] = [*range(start_idx, start_idx + df.shape[0])]\n",
    "                start_idx += df.shape[0]   \n",
    "            with open(f\"{self.file_path}_dict_{iteration_num}.pkl\", \"wb\") as fp:\n",
    "                pickle.dump(index_dict_t, fp)\n",
    "        else:  \n",
    "            if (slice_range[1] - slice_range[0]) < num_splits:\n",
    "                df_lengths_t = [slice_range[1] - slice_range[0]]\n",
    "                df_lengths_t.extend([0]*(num_splits-1))\n",
    "            else:\n",
    "                df_lengths_t = [math.floor((slice_range[1] - slice_range[0])/num_splits)]*num_splits\n",
    "                df_lengths_t[-1] += (slice_range[1] - slice_range[0])%num_splits\n",
    "            df_ranges_t_ls = []\n",
    "            start_idx = slice_range[0]\n",
    "            for df_length in df_lengths_t:\n",
    "                if df_length != 0:\n",
    "                    df_ranges_t_ls.append([*range(start_idx,start_idx + df_length)])\n",
    "                    start_idx += df_length\n",
    "            del start_idx \n",
    "            \n",
    "            with open(f\"{self.file_path}_dict_{iteration_num-1}.pkl\", \"rb\") as fp:\n",
    "                index_dict_tminus = pickle.load(fp)\n",
    "\n",
    "            start_dict_idx = 0\n",
    "            index_dict_t = {}\n",
    "            for i_iter, df_range_t in enumerate(df_ranges_t_ls):\n",
    "                start_df_idx = 0\n",
    "                df = pd.DataFrame()\n",
    "                for df_tminus_name, df_tminus_range in index_dict_tminus.items():\n",
    "                    common_elements = [i for i in df_range_t for j in df_tminus_range if i == j]\n",
    "                    common_elements = [i-start_df_idx for i in common_elements]\n",
    "                    if len(common_elements) > 0:\n",
    "                        temp_df = pd.read_pickle(f\"{self.file_path}{iteration_num-1}{df_tminus_name}.pkl\")\n",
    "                        df = pd.concat([df, temp_df.iloc[common_elements,:]])\n",
    "                    start_df_idx += len(df_tminus_range)\n",
    "                #Writing output pickle files\n",
    "                df.to_pickle(f\"{self.file_path}{iteration_num}{i_iter}.pkl\")\n",
    "                index_dict_t[i_iter] = [*range(start_dict_idx, start_dict_idx + df.shape[0])]\n",
    "                start_dict_idx += df.shape[0]\n",
    "                #Writing the output dictionary\n",
    "                with open(f\"{self.file_path}_dict_{iteration_num}.pkl\", \"wb\") as fp:\n",
    "                    pickle.dump(index_dict_t, fp)\n",
    "        return index_dict_t\n",
    "\n",
    "    def populate_attribute_ls(self, k, d, iteration_num):\n",
    "        '''\n",
    "        Function to populate items in the output dictionary\n",
    "        '''\n",
    "        with open(f\"{self.file_path}_dict_{iteration_num}.pkl\", \"rb\") as fp:\n",
    "            index_dict_t = pickle.load(fp)\n",
    "\n",
    "        k_idx = k\n",
    "        for df_name, df_idxs in index_dict_t.items():\n",
    "            if k in df_idxs:\n",
    "                df = pd.read_pickle(f\"{self.file_path}{iteration_num}{df_name}.pkl\")\n",
    "                self.attribute_ls[d] = self.column_enc_dicts_ls[d][df.iloc[k_idx,d]]\n",
    "                return None\n",
    "            k_idx -= len(df_idxs)\n",
    "        \n",
    "        \n",
    "    \n",
    "    def buc_implementation(self, slice_range, dim, iteration_num, num_splits):\n",
    "        '''\n",
    "        Function to implement BUC when it is assumed that the dataframe doesn't fit in the main memory. \n",
    "        Populates self.output_dict which is the output dictionary.\n",
    "        Inputs\n",
    "        slice_range: Rows of the dataframe which have to sliced at iteration 't'.\n",
    "        dim: Starting column for performing aggregation.\n",
    "        iteration_num: Iteration number.\n",
    "        num_splits: No.of chunks into which the input dataframe is to be divided.\n",
    "        '''\n",
    "        self.debug_counter += 1\n",
    "        #Split the input into chunks, chunks at iteration 't' are computed from chunks at iteration 't-1'\n",
    "        index_dict = self.split_input(slice_range, iteration_num, num_splits)\n",
    "        #Compute count\n",
    "        aggregate = self.compute_aggregate(iteration_num, num_splits)\n",
    "        self.output_dict[tuple(self.attribute_ls)] = aggregate\n",
    "        \n",
    "        for d in range(dim, self.numDims,1):\n",
    "            bigc = self.find_bigc(iteration_num, num_splits, d)\n",
    "            #External partitioning: Calls merge sort\n",
    "            self.partition(iteration_num, num_splits, index_dict, d)\n",
    "            k = 0\n",
    "            for i in range(0, bigc, 1):\n",
    "                smallc = self.datacounts[d][i]\n",
    "                if smallc >= self.minsup:\n",
    "                    self.populate_attribute_ls(k, d, iteration_num)\n",
    "                    self.buc_implementation(slice_range = [k,k+smallc], dim=d+1, iteration_num=iteration_num+1, num_splits=num_splits)\n",
    "                k += smallc\n",
    "            self.attribute_ls[d] = \"*\""
   ]
  },
  {
   "cell_type": "code",
   "execution_count": 36,
   "id": "e01c752e-5fdc-467b-9ce5-85fc6976669d",
   "metadata": {},
   "outputs": [
    {
     "data": {
      "text/html": [
       "<div>\n",
       "<style scoped>\n",
       "    .dataframe tbody tr th:only-of-type {\n",
       "        vertical-align: middle;\n",
       "    }\n",
       "\n",
       "    .dataframe tbody tr th {\n",
       "        vertical-align: top;\n",
       "    }\n",
       "\n",
       "    .dataframe thead th {\n",
       "        text-align: right;\n",
       "    }\n",
       "</style>\n",
       "<table border=\"1\" class=\"dataframe\">\n",
       "  <thead>\n",
       "    <tr style=\"text-align: right;\">\n",
       "      <th></th>\n",
       "      <th>country</th>\n",
       "      <th>year</th>\n",
       "      <th>sex</th>\n",
       "      <th>age</th>\n",
       "      <th>generation</th>\n",
       "      <th>suicides_range</th>\n",
       "      <th>population_range</th>\n",
       "      <th>gdp_per_year_income_range</th>\n",
       "      <th>count</th>\n",
       "    </tr>\n",
       "  </thead>\n",
       "  <tbody>\n",
       "    <tr>\n",
       "      <th>0</th>\n",
       "      <td>*</td>\n",
       "      <td>*</td>\n",
       "      <td>*</td>\n",
       "      <td>*</td>\n",
       "      <td>*</td>\n",
       "      <td>*</td>\n",
       "      <td>*</td>\n",
       "      <td>*</td>\n",
       "      <td>27820</td>\n",
       "    </tr>\n",
       "    <tr>\n",
       "      <th>1</th>\n",
       "      <td>Albania</td>\n",
       "      <td>*</td>\n",
       "      <td>*</td>\n",
       "      <td>*</td>\n",
       "      <td>*</td>\n",
       "      <td>*</td>\n",
       "      <td>*</td>\n",
       "      <td>*</td>\n",
       "      <td>264</td>\n",
       "    </tr>\n",
       "    <tr>\n",
       "      <th>2</th>\n",
       "      <td>Albania</td>\n",
       "      <td>*</td>\n",
       "      <td>male</td>\n",
       "      <td>*</td>\n",
       "      <td>*</td>\n",
       "      <td>*</td>\n",
       "      <td>*</td>\n",
       "      <td>*</td>\n",
       "      <td>132</td>\n",
       "    </tr>\n",
       "    <tr>\n",
       "      <th>3</th>\n",
       "      <td>Albania</td>\n",
       "      <td>*</td>\n",
       "      <td>male</td>\n",
       "      <td>*</td>\n",
       "      <td>*</td>\n",
       "      <td>low_suicides_range</td>\n",
       "      <td>*</td>\n",
       "      <td>*</td>\n",
       "      <td>119</td>\n",
       "    </tr>\n",
       "    <tr>\n",
       "      <th>4</th>\n",
       "      <td>Albania</td>\n",
       "      <td>*</td>\n",
       "      <td>male</td>\n",
       "      <td>*</td>\n",
       "      <td>*</td>\n",
       "      <td>*</td>\n",
       "      <td>medium_population_range</td>\n",
       "      <td>*</td>\n",
       "      <td>110</td>\n",
       "    </tr>\n",
       "    <tr>\n",
       "      <th>...</th>\n",
       "      <td>...</td>\n",
       "      <td>...</td>\n",
       "      <td>...</td>\n",
       "      <td>...</td>\n",
       "      <td>...</td>\n",
       "      <td>...</td>\n",
       "      <td>...</td>\n",
       "      <td>...</td>\n",
       "      <td>...</td>\n",
       "    </tr>\n",
       "    <tr>\n",
       "      <th>6602</th>\n",
       "      <td>*</td>\n",
       "      <td>*</td>\n",
       "      <td>*</td>\n",
       "      <td>*</td>\n",
       "      <td>*</td>\n",
       "      <td>*</td>\n",
       "      <td>high_population_range</td>\n",
       "      <td>medium_income_range</td>\n",
       "      <td>2219</td>\n",
       "    </tr>\n",
       "    <tr>\n",
       "      <th>6603</th>\n",
       "      <td>*</td>\n",
       "      <td>*</td>\n",
       "      <td>*</td>\n",
       "      <td>*</td>\n",
       "      <td>*</td>\n",
       "      <td>*</td>\n",
       "      <td>high_population_range</td>\n",
       "      <td>high_income_range</td>\n",
       "      <td>4727</td>\n",
       "    </tr>\n",
       "    <tr>\n",
       "      <th>6604</th>\n",
       "      <td>*</td>\n",
       "      <td>*</td>\n",
       "      <td>*</td>\n",
       "      <td>*</td>\n",
       "      <td>*</td>\n",
       "      <td>*</td>\n",
       "      <td>*</td>\n",
       "      <td>low_income_range</td>\n",
       "      <td>6958</td>\n",
       "    </tr>\n",
       "    <tr>\n",
       "      <th>6605</th>\n",
       "      <td>*</td>\n",
       "      <td>*</td>\n",
       "      <td>*</td>\n",
       "      <td>*</td>\n",
       "      <td>*</td>\n",
       "      <td>*</td>\n",
       "      <td>*</td>\n",
       "      <td>medium_income_range</td>\n",
       "      <td>13910</td>\n",
       "    </tr>\n",
       "    <tr>\n",
       "      <th>6606</th>\n",
       "      <td>*</td>\n",
       "      <td>*</td>\n",
       "      <td>*</td>\n",
       "      <td>*</td>\n",
       "      <td>*</td>\n",
       "      <td>*</td>\n",
       "      <td>*</td>\n",
       "      <td>high_income_range</td>\n",
       "      <td>6952</td>\n",
       "    </tr>\n",
       "  </tbody>\n",
       "</table>\n",
       "<p>6607 rows × 9 columns</p>\n",
       "</div>"
      ],
      "text/plain": [
       "      country year   sex age generation      suicides_range  \\\n",
       "0           *    *     *   *          *                   *   \n",
       "1     Albania    *     *   *          *                   *   \n",
       "2     Albania    *  male   *          *                   *   \n",
       "3     Albania    *  male   *          *  low_suicides_range   \n",
       "4     Albania    *  male   *          *                   *   \n",
       "...       ...  ...   ...  ..        ...                 ...   \n",
       "6602        *    *     *   *          *                   *   \n",
       "6603        *    *     *   *          *                   *   \n",
       "6604        *    *     *   *          *                   *   \n",
       "6605        *    *     *   *          *                   *   \n",
       "6606        *    *     *   *          *                   *   \n",
       "\n",
       "             population_range gdp_per_year_income_range  count  \n",
       "0                           *                         *  27820  \n",
       "1                           *                         *    264  \n",
       "2                           *                         *    132  \n",
       "3                           *                         *    119  \n",
       "4     medium_population_range                         *    110  \n",
       "...                       ...                       ...    ...  \n",
       "6602    high_population_range       medium_income_range   2219  \n",
       "6603    high_population_range         high_income_range   4727  \n",
       "6604                        *          low_income_range   6958  \n",
       "6605                        *       medium_income_range  13910  \n",
       "6606                        *         high_income_range   6952  \n",
       "\n",
       "[6607 rows x 9 columns]"
      ]
     },
     "execution_count": 36,
     "metadata": {},
     "output_type": "execute_result"
    }
   ],
   "source": [
    "minsup = 100\n",
    "input_df = data\n",
    "num_splits = 20\n",
    "preprocess_obj = preprocess_df()\n",
    "transformed_df, column_enc_dicts_ls = preprocess_obj.encode_attributes(input_df, [*range(0,input_df.shape[1])]) #NOTE: This should be modified as required\n",
    "buc_obj = buc_external(transformed_df, column_enc_dicts_ls, minsup)\n",
    "buc_obj.buc_implementation([0,transformed_df.shape[0]], 0, 0, num_splits)\n",
    "output_dict = buc_obj.output_dict\n",
    "format_output(output_dict)"
   ]
  },
  {
   "cell_type": "markdown",
   "id": "51b35ba6-988b-4de6-aade-a2f0e70d32c2",
   "metadata": {},
   "source": [
    "#### a) A plot of minsup vs. runtime, keeping allotted memory fixed."
   ]
  },
  {
   "cell_type": "markdown",
   "id": "df0f2047-ed57-4e67-86bf-a3c4de868fe6",
   "metadata": {},
   "source": [
    "- Here it is assumed that the dataframe fits into the main memory.\n",
    "- The value of minsup is varied between 90 and 200 in steps of 10."
   ]
  },
  {
   "cell_type": "code",
   "execution_count": 37,
   "id": "1243bbe2-647f-40c5-b84f-d4ee1a55c0d4",
   "metadata": {},
   "outputs": [],
   "source": [
    "num_splits = 10\n",
    "input_df = data\n",
    "#Encode all of the categorical attributes into numerical form.\n",
    "preprocess_obj = preprocess_df()\n",
    "transformed_df, column_enc_dicts_ls = preprocess_obj.encode_attributes(input_df, [*range(0,input_df.shape[1])]) #NOTE: This should be modified as required\n",
    "minsup_ls = []\n",
    "time_taken_ls = []\n",
    "for minsup in range(90, 200, 10):\n",
    "    minsup_ls.append(minsup)\n",
    "    start_time = time.time()\n",
    "    buc_obj = buc(transformed_df, column_enc_dicts_ls, minsup)\n",
    "    buc_obj.buc_implementation(transformed_df, 0)\n",
    "    time_taken_ls.append(time.time() - start_time)\n",
    "del minsup, num_splits, input_df, preprocess_obj, transformed_df, column_enc_dicts_ls"
   ]
  },
  {
   "cell_type": "code",
   "execution_count": 38,
   "id": "583575da-9d06-4a64-8bc2-70ff7ba4fc0e",
   "metadata": {},
   "outputs": [
    {
     "data": {
      "image/png": "[encoded data removed]",
      "text/plain": [
       "<Figure size 640x480 with 1 Axes>"
      ]
     },
     "metadata": {},
     "output_type": "display_data"
    }
   ],
   "source": [
    "plt.scatter(minsup_ls, time_taken_ls)\n",
    "plt.xlabel(f\"Minimum Support\")\n",
    "plt.ylabel(f\"Runtime (seconds)\")\n",
    "plt.title(f\"Plot of Minimum support vs Runtime(seconds)\")\n",
    "del minsup_ls, time_taken_ls"
   ]
  },
  {
   "cell_type": "markdown",
   "id": "d3b4870e-7458-4389-8557-c573004c1f59",
   "metadata": {},
   "source": [
    "#### b) A plot of allotted memory vs. runtime, keeping minsup fixed."
   ]
  },
  {
   "cell_type": "markdown",
   "id": "dd412209-3a90-4359-a380-0423803054bb",
   "metadata": {},
   "source": [
    "- The variation in the allocated main memory is indicated by varying the number of chunks into which the original dataframe is divided i.e greater the number of chunks lesser is the main memory that is allocated.\n",
    "-  NOTE: The dataframe is restricted to 10K rows to speed up the execution."
   ]
  },
  {
   "cell_type": "code",
   "execution_count": 39,
   "id": "0dec3252-608a-4886-b0b7-73b4fc9b4657",
   "metadata": {},
   "outputs": [],
   "source": [
    "minsup = 200\n",
    "input_df = data.loc[0:10000,:]\n",
    "preprocess_obj = preprocess_df()\n",
    "transformed_df, column_enc_dicts_ls = preprocess_obj.encode_attributes(input_df, [*range(0,input_df.shape[1])]) #NOTE: This should be modified as required\n",
    "chunks_ls = []\n",
    "time_taken_ls = []\n",
    "for num_splits in range(30,50,5):\n",
    "    chunks_ls.append(num_splits)\n",
    "    start_time = time.time()\n",
    "    buc_obj = buc_external(transformed_df, column_enc_dicts_ls, minsup)\n",
    "    buc_obj.buc_implementation([0,transformed_df.shape[0]], 0, 0, num_splits)\n",
    "    time_taken_ls.append(time.time() - start_time)\n",
    "    # print(f\"{time_taken_ls = }\")\n",
    "del minsup, num_splits, input_df, preprocess_obj, transformed_df, column_enc_dicts_ls"
   ]
  },
  {
   "cell_type": "code",
   "execution_count": 40,
   "id": "2fb59bcc-caa5-47aa-ad55-fee1106fe3bb",
   "metadata": {},
   "outputs": [
    {
     "data": {
      "text/plain": [
       "Text(0.5, 1.0, 'Plot of Number of chunks(indication of main memory) vs Runtime (seconds)')"
      ]
     },
     "execution_count": 40,
     "metadata": {},
     "output_type": "execute_result"
    },
    {
     "data": {
      "image/png": "[encoded data removed]",
      "text/plain": [
       "<Figure size 640x480 with 1 Axes>"
      ]
     },
     "metadata": {},
     "output_type": "display_data"
    }
   ],
   "source": [
    "plt.plot(chunks_ls, time_taken_ls)\n",
    "plt.xlabel(f\"No.of chunks into which main memory is divided\")\n",
    "plt.ylabel(f\"Time taken in seconds\")\n",
    "plt.title(f\"Plot of Number of chunks(indication of main memory) vs Runtime (seconds)\")"
   ]
  },
  {
   "cell_type": "markdown",
   "id": "144153b8",
   "metadata": {},
   "source": [
    "----"
   ]
  },
  {
   "cell_type": "markdown",
   "id": "15ebb197",
   "metadata": {},
   "source": [
    "## PART B"
   ]
  },
  {
   "cell_type": "markdown",
   "id": "5dfc82cc",
   "metadata": {},
   "source": [
    "<a name = Section1></a>\n",
    "#### **1. Data Acquisition and Description**"
   ]
  },
  {
   "cell_type": "markdown",
   "id": "f8cce39d",
   "metadata": {},
   "source": [
    "Lets analyze the dataset and identify what attributes require generalization/categorization"
   ]
  },
  {
   "cell_type": "code",
   "execution_count": 41,
   "id": "9fec46b1",
   "metadata": {},
   "outputs": [
    {
     "name": "stdout",
     "output_type": "stream",
     "text": [
      "Shape of the dataset: (143708, 32)\n"
     ]
    },
    {
     "data": {
      "text/html": [
       "<div>\n",
       "<style scoped>\n",
       "    .dataframe tbody tr th:only-of-type {\n",
       "        vertical-align: middle;\n",
       "    }\n",
       "\n",
       "    .dataframe tbody tr th {\n",
       "        vertical-align: top;\n",
       "    }\n",
       "\n",
       "    .dataframe thead th {\n",
       "        text-align: right;\n",
       "    }\n",
       "</style>\n",
       "<table border=\"1\" class=\"dataframe\">\n",
       "  <thead>\n",
       "    <tr style=\"text-align: right;\">\n",
       "      <th></th>\n",
       "      <th>Property_Name</th>\n",
       "      <th>Property_id</th>\n",
       "      <th>Property_type</th>\n",
       "      <th>Property_status</th>\n",
       "      <th>Price_per_unit_area</th>\n",
       "      <th>Posted_On</th>\n",
       "      <th>Project_URL</th>\n",
       "      <th>builder_id</th>\n",
       "      <th>Builder_name</th>\n",
       "      <th>Property_building_status</th>\n",
       "      <th>...</th>\n",
       "      <th>is_furnished</th>\n",
       "      <th>listing_domain_score</th>\n",
       "      <th>is_plot</th>\n",
       "      <th>is_RERA_registered</th>\n",
       "      <th>is_Apartment</th>\n",
       "      <th>is_ready_to_move</th>\n",
       "      <th>is_commercial_Listing</th>\n",
       "      <th>is_PentaHouse</th>\n",
       "      <th>is_studio</th>\n",
       "      <th>Listing_Category</th>\n",
       "    </tr>\n",
       "  </thead>\n",
       "  <tbody>\n",
       "    <tr>\n",
       "      <th>0</th>\n",
       "      <td>Arkiton Luxe</td>\n",
       "      <td>15446514</td>\n",
       "      <td>Apartment</td>\n",
       "      <td>Under Construction</td>\n",
       "      <td>4285</td>\n",
       "      <td>1 day ago</td>\n",
       "      <td>https://www.makaan.com/ahmedabad/arkiton-life-...</td>\n",
       "      <td>100563465</td>\n",
       "      <td>Arkiton life Space</td>\n",
       "      <td>ACTIVE</td>\n",
       "      <td>...</td>\n",
       "      <td>Unfurnished</td>\n",
       "      <td>4.0</td>\n",
       "      <td>False</td>\n",
       "      <td>True</td>\n",
       "      <td>True</td>\n",
       "      <td>False</td>\n",
       "      <td>False</td>\n",
       "      <td>False</td>\n",
       "      <td>False</td>\n",
       "      <td>sell</td>\n",
       "    </tr>\n",
       "    <tr>\n",
       "      <th>1</th>\n",
       "      <td>Keshav Akshar Ocean Pearl</td>\n",
       "      <td>15367414</td>\n",
       "      <td>Apartment</td>\n",
       "      <td>Under Construction</td>\n",
       "      <td>7000</td>\n",
       "      <td>2 days ago</td>\n",
       "      <td>https://www.makaan.com/ahmedabad/keshav-naraya...</td>\n",
       "      <td>100009433</td>\n",
       "      <td>Keshav Narayan Group</td>\n",
       "      <td>ACTIVE</td>\n",
       "      <td>...</td>\n",
       "      <td>Unfurnished</td>\n",
       "      <td>4.0</td>\n",
       "      <td>False</td>\n",
       "      <td>True</td>\n",
       "      <td>True</td>\n",
       "      <td>False</td>\n",
       "      <td>False</td>\n",
       "      <td>False</td>\n",
       "      <td>False</td>\n",
       "      <td>sell</td>\n",
       "    </tr>\n",
       "    <tr>\n",
       "      <th>2</th>\n",
       "      <td>Vishwa Opulence</td>\n",
       "      <td>14683118</td>\n",
       "      <td>Apartment</td>\n",
       "      <td>Ready to move</td>\n",
       "      <td>5752</td>\n",
       "      <td>2 days ago</td>\n",
       "      <td>https://www.makaan.com/ahmedabad/vishwa-develo...</td>\n",
       "      <td>100207731</td>\n",
       "      <td>Vishwa Developers Ahmedabad</td>\n",
       "      <td>ACTIVE</td>\n",
       "      <td>...</td>\n",
       "      <td>Unfurnished</td>\n",
       "      <td>4.0</td>\n",
       "      <td>False</td>\n",
       "      <td>False</td>\n",
       "      <td>True</td>\n",
       "      <td>True</td>\n",
       "      <td>False</td>\n",
       "      <td>False</td>\n",
       "      <td>False</td>\n",
       "      <td>sell</td>\n",
       "    </tr>\n",
       "  </tbody>\n",
       "</table>\n",
       "<p>3 rows × 32 columns</p>\n",
       "</div>"
      ],
      "text/plain": [
       "               Property_Name  Property_id Property_type     Property_status  \\\n",
       "0               Arkiton Luxe     15446514     Apartment  Under Construction   \n",
       "1  Keshav Akshar Ocean Pearl     15367414     Apartment  Under Construction   \n",
       "2            Vishwa Opulence     14683118     Apartment       Ready to move   \n",
       "\n",
       "  Price_per_unit_area   Posted_On  \\\n",
       "0                4285   1 day ago   \n",
       "1                7000  2 days ago   \n",
       "2                5752  2 days ago   \n",
       "\n",
       "                                         Project_URL  builder_id  \\\n",
       "0  https://www.makaan.com/ahmedabad/arkiton-life-...   100563465   \n",
       "1  https://www.makaan.com/ahmedabad/keshav-naraya...   100009433   \n",
       "2  https://www.makaan.com/ahmedabad/vishwa-develo...   100207731   \n",
       "\n",
       "                  Builder_name Property_building_status  ...  is_furnished  \\\n",
       "0           Arkiton life Space                   ACTIVE  ...   Unfurnished   \n",
       "1         Keshav Narayan Group                   ACTIVE  ...   Unfurnished   \n",
       "2  Vishwa Developers Ahmedabad                   ACTIVE  ...   Unfurnished   \n",
       "\n",
       "  listing_domain_score is_plot  is_RERA_registered is_Apartment  \\\n",
       "0                  4.0   False                True         True   \n",
       "1                  4.0   False                True         True   \n",
       "2                  4.0   False               False         True   \n",
       "\n",
       "   is_ready_to_move  is_commercial_Listing is_PentaHouse is_studio  \\\n",
       "0             False                  False         False     False   \n",
       "1             False                  False         False     False   \n",
       "2              True                  False         False     False   \n",
       "\n",
       "   Listing_Category  \n",
       "0              sell  \n",
       "1              sell  \n",
       "2              sell  \n",
       "\n",
       "[3 rows x 32 columns]"
      ]
     },
     "execution_count": 41,
     "metadata": {},
     "output_type": "execute_result"
    }
   ],
   "source": [
    "property_data = pd.read_excel('./data/cleaned_data.xlsx')      # Load the Excel dataset\n",
    "print('Shape of the dataset:', property_data.shape)\n",
    "property_data.head(3)"
   ]
  },
  {
   "cell_type": "markdown",
   "id": "22e659ee",
   "metadata": {},
   "source": [
    "- We have 143,708 records and 32 attributes.\n",
    "- In our records, we have variety of data including nominal data, binomial data, numerical data and textual data."
   ]
  },
  {
   "cell_type": "code",
   "execution_count": 42,
   "id": "7c1b435d",
   "metadata": {},
   "outputs": [
    {
     "name": "stdout",
     "output_type": "stream",
     "text": [
      "<class 'pandas.core.frame.DataFrame'>\n",
      "RangeIndex: 143708 entries, 0 to 143707\n",
      "Data columns (total 32 columns):\n",
      " #   Column                    Non-Null Count   Dtype  \n",
      "---  ------                    --------------   -----  \n",
      " 0   Property_Name             143708 non-null  object \n",
      " 1   Property_id               143708 non-null  int64  \n",
      " 2   Property_type             143708 non-null  object \n",
      " 3   Property_status           143708 non-null  object \n",
      " 4   Price_per_unit_area       143708 non-null  object \n",
      " 5   Posted_On                 143708 non-null  object \n",
      " 6   Project_URL               143708 non-null  object \n",
      " 7   builder_id                143708 non-null  int64  \n",
      " 8   Builder_name              143708 non-null  object \n",
      " 9   Property_building_status  143708 non-null  object \n",
      " 10  City_id                   143708 non-null  int64  \n",
      " 11  City_name                 143708 non-null  object \n",
      " 12  No_of_BHK                 143708 non-null  object \n",
      " 13  Locality_ID               143708 non-null  int64  \n",
      " 14  Locality_Name             143708 non-null  object \n",
      " 15  Longitude                 143708 non-null  float64\n",
      " 16  Latitude                  143708 non-null  float64\n",
      " 17  Price                     143708 non-null  object \n",
      " 18  Size                      143708 non-null  object \n",
      " 19  Sub_urban_ID              143708 non-null  int64  \n",
      " 20  Sub_urban_name            143708 non-null  object \n",
      " 21  description               143708 non-null  object \n",
      " 22  is_furnished              143708 non-null  object \n",
      " 23  listing_domain_score      143708 non-null  float64\n",
      " 24  is_plot                   143708 non-null  bool   \n",
      " 25  is_RERA_registered        143708 non-null  bool   \n",
      " 26  is_Apartment              143708 non-null  bool   \n",
      " 27  is_ready_to_move          143708 non-null  bool   \n",
      " 28  is_commercial_Listing     143708 non-null  bool   \n",
      " 29  is_PentaHouse             143708 non-null  bool   \n",
      " 30  is_studio                 143708 non-null  bool   \n",
      " 31  Listing_Category          143708 non-null  object \n",
      "dtypes: bool(7), float64(3), int64(5), object(17)\n",
      "memory usage: 28.4+ MB\n"
     ]
    }
   ],
   "source": [
    "property_data.info() # Display basic information about the dataset"
   ]
  },
  {
   "cell_type": "markdown",
   "id": "706ed886",
   "metadata": {},
   "source": [
    "- Here we show the data type of our various attributes."
   ]
  },
  {
   "cell_type": "markdown",
   "id": "acad29cb",
   "metadata": {},
   "source": [
    "Always check for:\n",
    "1. duplicate values in rows - delete duplicate rows\n",
    "2. missing values in column"
   ]
  },
  {
   "cell_type": "code",
   "execution_count": 43,
   "id": "59faf4e5",
   "metadata": {},
   "outputs": [
    {
     "data": {
      "text/html": [
       "<div>\n",
       "<style scoped>\n",
       "    .dataframe tbody tr th:only-of-type {\n",
       "        vertical-align: middle;\n",
       "    }\n",
       "\n",
       "    .dataframe tbody tr th {\n",
       "        vertical-align: top;\n",
       "    }\n",
       "\n",
       "    .dataframe thead th {\n",
       "        text-align: right;\n",
       "    }\n",
       "</style>\n",
       "<table border=\"1\" class=\"dataframe\">\n",
       "  <thead>\n",
       "    <tr style=\"text-align: right;\">\n",
       "      <th></th>\n",
       "      <th>Property_Name</th>\n",
       "      <th>Property_id</th>\n",
       "      <th>Property_type</th>\n",
       "      <th>Property_status</th>\n",
       "      <th>Price_per_unit_area</th>\n",
       "      <th>Posted_On</th>\n",
       "      <th>Project_URL</th>\n",
       "      <th>builder_id</th>\n",
       "      <th>Builder_name</th>\n",
       "      <th>Property_building_status</th>\n",
       "      <th>...</th>\n",
       "      <th>is_furnished</th>\n",
       "      <th>listing_domain_score</th>\n",
       "      <th>is_plot</th>\n",
       "      <th>is_RERA_registered</th>\n",
       "      <th>is_Apartment</th>\n",
       "      <th>is_ready_to_move</th>\n",
       "      <th>is_commercial_Listing</th>\n",
       "      <th>is_PentaHouse</th>\n",
       "      <th>is_studio</th>\n",
       "      <th>Listing_Category</th>\n",
       "    </tr>\n",
       "  </thead>\n",
       "  <tbody>\n",
       "  </tbody>\n",
       "</table>\n",
       "<p>0 rows × 32 columns</p>\n",
       "</div>"
      ],
      "text/plain": [
       "Empty DataFrame\n",
       "Columns: [Property_Name, Property_id, Property_type, Property_status, Price_per_unit_area, Posted_On, Project_URL, builder_id, Builder_name, Property_building_status, City_id, City_name, No_of_BHK, Locality_ID, Locality_Name, Longitude, Latitude, Price, Size, Sub_urban_ID, Sub_urban_name, description, is_furnished, listing_domain_score, is_plot, is_RERA_registered, is_Apartment, is_ready_to_move, is_commercial_Listing, is_PentaHouse, is_studio, Listing_Category]\n",
       "Index: []\n",
       "\n",
       "[0 rows x 32 columns]"
      ]
     },
     "execution_count": 43,
     "metadata": {},
     "output_type": "execute_result"
    }
   ],
   "source": [
    "duplicate = property_data[property_data.duplicated()]     # Selecting duplicate rows except first occurrence based on all columns\n",
    "duplicate"
   ]
  },
  {
   "cell_type": "code",
   "execution_count": 44,
   "id": "654bf1d3",
   "metadata": {},
   "outputs": [
    {
     "name": "stdout",
     "output_type": "stream",
     "text": [
      "Property_Name               0\n",
      "Property_id                 0\n",
      "Property_type               0\n",
      "Property_status             0\n",
      "Price_per_unit_area         0\n",
      "Posted_On                   0\n",
      "Project_URL                 0\n",
      "builder_id                  0\n",
      "Builder_name                0\n",
      "Property_building_status    0\n",
      "City_id                     0\n",
      "City_name                   0\n",
      "No_of_BHK                   0\n",
      "Locality_ID                 0\n",
      "Locality_Name               0\n",
      "Longitude                   0\n",
      "Latitude                    0\n",
      "Price                       0\n",
      "Size                        0\n",
      "Sub_urban_ID                0\n",
      "Sub_urban_name              0\n",
      "description                 0\n",
      "is_furnished                0\n",
      "listing_domain_score        0\n",
      "is_plot                     0\n",
      "is_RERA_registered          0\n",
      "is_Apartment                0\n",
      "is_ready_to_move            0\n",
      "is_commercial_Listing       0\n",
      "is_PentaHouse               0\n",
      "is_studio                   0\n",
      "Listing_Category            0\n",
      "dtype: int64\n"
     ]
    }
   ],
   "source": [
    "print(property_data.isnull().sum())      # Check for missing values"
   ]
  },
  {
   "cell_type": "markdown",
   "id": "cf07cb91",
   "metadata": {},
   "source": [
    "- We observe that there are no missing and duplicate values."
   ]
  },
  {
   "cell_type": "code",
   "execution_count": 45,
   "id": "54835130",
   "metadata": {},
   "outputs": [
    {
     "data": {
      "text/plain": [
       "Index(['Property_Name', 'Property_id', 'Property_type', 'Property_status',\n",
       "       'Price_per_unit_area', 'Posted_On', 'Project_URL', 'builder_id',\n",
       "       'Builder_name', 'Property_building_status', 'City_id', 'City_name',\n",
       "       'No_of_BHK', 'Locality_ID', 'Locality_Name', 'Longitude', 'Latitude',\n",
       "       'Price', 'Size', 'Sub_urban_ID', 'Sub_urban_name', 'description',\n",
       "       'is_furnished', 'listing_domain_score', 'is_plot', 'is_RERA_registered',\n",
       "       'is_Apartment', 'is_ready_to_move', 'is_commercial_Listing',\n",
       "       'is_PentaHouse', 'is_studio', 'Listing_Category'],\n",
       "      dtype='object')"
      ]
     },
     "execution_count": 45,
     "metadata": {},
     "output_type": "execute_result"
    }
   ],
   "source": [
    "property_data.columns # columns in our dataframe"
   ]
  },
  {
   "cell_type": "markdown",
   "id": "aaba037c",
   "metadata": {},
   "source": [
    "<a name = Section2></a>\n",
    "#### **2. Data Analysis and AOI**"
   ]
  },
  {
   "cell_type": "markdown",
   "id": "388c0d97",
   "metadata": {},
   "source": [
    "Now, let's one by one, analyze the 32 dimensions and determine for which dimension, we need to perform Attribute Oriented Induction (AOI) for generalization/categorization.\n",
    "\n",
    "Data generalization summarizes data by replacing relatively low-level values with higher-level concepts, or by reducing the number of dimensions to summarize data in concept space involving fewer dimensions."
   ]
  },
  {
   "cell_type": "markdown",
   "id": "4b5cee8e",
   "metadata": {},
   "source": [
    "----"
   ]
  },
  {
   "cell_type": "code",
   "execution_count": 46,
   "id": "662b9dcb",
   "metadata": {},
   "outputs": [
    {
     "name": "stdout",
     "output_type": "stream",
     "text": [
      "Unique values in coloumn 'Property_Name':\n",
      " ['Arkiton Luxe' 'Keshav Akshar Ocean Pearl' 'Vishwa Opulence' ...\n",
      " 'Harmony Apartments' 'Terraform Lotus' 'Antalica Tower']\n",
      ".......................................................................\n",
      "Number of unique values: 20509\n"
     ]
    }
   ],
   "source": [
    "print(\"Unique values in coloumn 'Property_Name':\\n\", property_data[\"Property_Name\"].unique())\n",
    "print(\".......................................................................\")\n",
    "print(\"Number of unique values:\", property_data[\"Property_Name\"].nunique())"
   ]
  },
  {
   "cell_type": "code",
   "execution_count": 47,
   "id": "2a6a05be",
   "metadata": {},
   "outputs": [
    {
     "name": "stdout",
     "output_type": "stream",
     "text": [
      "Unique values in coloumn 'Property_id':\n",
      " [15446514 15367414 14683118 ... 10324762 15076700 14683740]\n",
      ".......................................................................\n",
      "Number of unique values: 100691\n"
     ]
    }
   ],
   "source": [
    "print(\"Unique values in coloumn 'Property_id':\\n\", property_data[\"Property_id\"].unique())\n",
    "print(\".......................................................................\")\n",
    "print(\"Number of unique values:\", property_data[\"Property_id\"].nunique())"
   ]
  },
  {
   "cell_type": "code",
   "execution_count": 48,
   "id": "c94c4c3c",
   "metadata": {},
   "outputs": [
    {
     "name": "stdout",
     "output_type": "stream",
     "text": [
      "Unique values in coloumn 'builder_id':\n",
      " [100563465 100009433 100207731 ...    568928    674854 100479765]\n",
      ".......................................................................\n",
      "Number of unique values: 8350\n"
     ]
    }
   ],
   "source": [
    "print(\"Unique values in coloumn 'builder_id':\\n\", property_data[\"builder_id\"].unique())\n",
    "print(\".......................................................................\")\n",
    "print(\"Number of unique values:\", property_data[\"builder_id\"].nunique())"
   ]
  },
  {
   "cell_type": "code",
   "execution_count": 49,
   "id": "acff4590",
   "metadata": {},
   "outputs": [
    {
     "name": "stdout",
     "output_type": "stream",
     "text": [
      "Unique values in coloumn 'Builder_name':\n",
      " ['Arkiton life Space' 'Keshav Narayan Group' 'Vishwa Developers Ahmedabad'\n",
      " ... 'Aum JMD' 'Walchand Group' 'Antalica Group']\n",
      ".......................................................................\n",
      "Number of unique values: 8347\n"
     ]
    }
   ],
   "source": [
    "print(\"Unique values in coloumn 'Builder_name':\\n\", property_data[\"Builder_name\"].unique())\n",
    "print(\".......................................................................\")\n",
    "print(\"Number of unique values:\", property_data[\"Builder_name\"].nunique())"
   ]
  },
  {
   "cell_type": "markdown",
   "id": "263b7e74",
   "metadata": {},
   "source": [
    "Let's drop all these columns as they don't seem to provide any significant information, also they have a lot of distinct values."
   ]
  },
  {
   "cell_type": "code",
   "execution_count": 50,
   "id": "8e9adfd6",
   "metadata": {},
   "outputs": [],
   "source": [
    "property_data.drop(['Property_Name'], axis=1, inplace=True)     # Remove the mentioned column\n",
    "property_data.drop(['Property_id'], axis=1, inplace=True)     # Remove the mentioned column\n",
    "property_data.drop(['builder_id'], axis=1, inplace=True)     # Remove the mentioned column\n",
    "property_data.drop(['Builder_name'], axis=1, inplace=True)     # Remove the mentioned column"
   ]
  },
  {
   "cell_type": "markdown",
   "id": "85d54329",
   "metadata": {},
   "source": [
    "----"
   ]
  },
  {
   "cell_type": "code",
   "execution_count": 51,
   "id": "b0b032ce",
   "metadata": {},
   "outputs": [
    {
     "name": "stdout",
     "output_type": "stream",
     "text": [
      "Unique values in coloumn 'Property_type':\n",
      " ['Apartment' 'Independent House' 'Villa' 'Independent Floor'\n",
      " 'Residential Plot']\n",
      ".......................................................................\n",
      "Number of unique values: 5\n"
     ]
    }
   ],
   "source": [
    "print(\"Unique values in coloumn 'Property_type':\\n\", property_data[\"Property_type\"].unique())\n",
    "print(\".......................................................................\")\n",
    "print(\"Number of unique values:\", property_data[\"Property_type\"].nunique())"
   ]
  },
  {
   "cell_type": "markdown",
   "id": "4e88db4f",
   "metadata": {},
   "source": [
    "- We will use the values of 'Property_type' dimension as it is because it is already characterized by five distinct values."
   ]
  },
  {
   "cell_type": "code",
   "execution_count": 52,
   "id": "d022b03a",
   "metadata": {},
   "outputs": [
    {
     "name": "stdout",
     "output_type": "stream",
     "text": [
      "Unique values in coloumn 'Property_status':\n",
      " ['Under Construction' 'Ready to move']\n",
      ".......................................................................\n",
      "Number of unique values: 2\n"
     ]
    }
   ],
   "source": [
    "print(\"Unique values in coloumn 'Property_status':\\n\", property_data[\"Property_status\"].unique())\n",
    "print(\".......................................................................\")\n",
    "print(\"Number of unique values:\", property_data[\"Property_status\"].nunique())"
   ]
  },
  {
   "cell_type": "markdown",
   "id": "2dabe3f5",
   "metadata": {},
   "source": [
    "- We will use the values of 'Property_status' dimension as it is because it is characterized by 2 distinct values."
   ]
  },
  {
   "cell_type": "markdown",
   "id": "446f519f",
   "metadata": {},
   "source": [
    "----"
   ]
  },
  {
   "cell_type": "code",
   "execution_count": 53,
   "id": "572f1898",
   "metadata": {},
   "outputs": [
    {
     "name": "stdout",
     "output_type": "stream",
     "text": [
      "Unique values in coloumn 'Price_per_unit_area':\n",
      " [4285 7000 5752 ... 38910 550 709]\n",
      ".......................................................................\n",
      "Number of unique values: 21577\n"
     ]
    }
   ],
   "source": [
    "print(\"Unique values in coloumn 'Price_per_unit_area':\\n\", property_data[\"Price_per_unit_area\"].unique())\n",
    "print(\".......................................................................\")\n",
    "print(\"Number of unique values:\", property_data[\"Price_per_unit_area\"].nunique())"
   ]
  },
  {
   "cell_type": "markdown",
   "id": "4c274b40",
   "metadata": {},
   "source": [
    "- Let's remove the dimension 'Price_per_unit_area' as we already have the dimensions 'Price' and 'Size' that we will generalize."
   ]
  },
  {
   "cell_type": "code",
   "execution_count": 54,
   "id": "489d3fcd",
   "metadata": {},
   "outputs": [],
   "source": [
    "property_data.drop(['Price_per_unit_area'], axis=1, inplace=True)     # Remove the mentioned column"
   ]
  },
  {
   "cell_type": "code",
   "execution_count": 55,
   "id": "1f1fdb8a",
   "metadata": {},
   "outputs": [
    {
     "name": "stdout",
     "output_type": "stream",
     "text": [
      "Unique values in coloumn 'Price':\n",
      " ['75,00,000' '2,36,88,000' '1,32,00,840' ... '26,49,999' '26,98,434'\n",
      " '35,29,577']\n",
      ".......................................................................\n",
      "Number of unique values: 29490\n"
     ]
    }
   ],
   "source": [
    "print(\"Unique values in coloumn 'Price':\\n\", property_data[\"Price\"].unique())\n",
    "print(\".......................................................................\")\n",
    "print(\"Number of unique values:\", property_data[\"Price\"].nunique())"
   ]
  },
  {
   "cell_type": "code",
   "execution_count": 56,
   "id": "83213068",
   "metadata": {},
   "outputs": [
    {
     "data": {
      "text/plain": [
       "0      75,00,000\n",
       "1    2,36,88,000\n",
       "2    1,32,00,840\n",
       "3      22,83,000\n",
       "4      93,71,000\n",
       "Name: Price, dtype: object"
      ]
     },
     "execution_count": 56,
     "metadata": {},
     "output_type": "execute_result"
    }
   ],
   "source": [
    "property_data['Price'].head()"
   ]
  },
  {
   "cell_type": "markdown",
   "id": "2bb4674c",
   "metadata": {},
   "source": [
    "- However, it seems that the data type of **Price** is object. Let's change that to float, so that we can describe the data."
   ]
  },
  {
   "cell_type": "code",
   "execution_count": 57,
   "id": "4ed1cfa8",
   "metadata": {},
   "outputs": [
    {
     "data": {
      "text/plain": [
       "0     7500000.0\n",
       "1    23688000.0\n",
       "2    13200840.0\n",
       "3     2283000.0\n",
       "4     9371000.0\n",
       "Name: Price, dtype: float64"
      ]
     },
     "execution_count": 57,
     "metadata": {},
     "output_type": "execute_result"
    }
   ],
   "source": [
    "# convert object type to str, removing comma and then convert str dtype to float\n",
    "property_data['Price'] = property_data['Price'].astype('str') \n",
    "property_data['Price'] = property_data['Price'].str.replace(',','')\n",
    "property_data['Price'] = property_data['Price'].astype(float)\n",
    "\n",
    "property_data['Price'].head()"
   ]
  },
  {
   "cell_type": "code",
   "execution_count": 58,
   "id": "93c4c659",
   "metadata": {},
   "outputs": [
    {
     "data": {
      "text/plain": [
       "count       143708.000000\n",
       "mean      13650943.067860\n",
       "std       19408706.823444\n",
       "min         100000.000000\n",
       "25%        5259437.500000\n",
       "50%        8500000.000000\n",
       "75%       15498000.000000\n",
       "max      800000000.000000\n",
       "Name: Price, dtype: object"
      ]
     },
     "execution_count": 58,
     "metadata": {},
     "output_type": "execute_result"
    }
   ],
   "source": [
    "property_data['Price'].describe().apply(lambda x: format(x, 'f')) # suppress scientific notation"
   ]
  },
  {
   "cell_type": "markdown",
   "id": "5fdfa1ee",
   "metadata": {},
   "source": [
    "- We can derive from the describe() that, the minimum value of Price is 100000. The maximum value of Price is 800000000. \n",
    "At 25th percentile, the value of Price is value is 5259437. This means that 25 percent of data that lies below this 25th percentile point will have value equal to or less than 5259437. \n",
    "- At 50th percentile, the value of Price is 8500000. This means half of the data points below 50th percentile point will have value equal to or less than 8500000.\n",
    "- At 75th percentile, the price value is 15498000. This means that 75% of the data points that lies below this 75th percentile point will have value equal to or less than 15498000. \n",
    "- For the high-level description purpose, we label all those values below 25th percentile point as `low_price_range`.\n",
    "- We label all those values above low_price_range and below the value at 75th percentile as `medium_price_range`.\n",
    "- Similarly, all values that lie between 75th percentile value to the maximum reported value can be termed as `high_price_range`."
   ]
  },
  {
   "cell_type": "code",
   "execution_count": 59,
   "id": "219f1ddf",
   "metadata": {},
   "outputs": [
    {
     "data": {
      "text/html": [
       "<div>\n",
       "<style scoped>\n",
       "    .dataframe tbody tr th:only-of-type {\n",
       "        vertical-align: middle;\n",
       "    }\n",
       "\n",
       "    .dataframe tbody tr th {\n",
       "        vertical-align: top;\n",
       "    }\n",
       "\n",
       "    .dataframe thead th {\n",
       "        text-align: right;\n",
       "    }\n",
       "</style>\n",
       "<table border=\"1\" class=\"dataframe\">\n",
       "  <thead>\n",
       "    <tr style=\"text-align: right;\">\n",
       "      <th></th>\n",
       "      <th>Property_type</th>\n",
       "      <th>Property_status</th>\n",
       "      <th>Posted_On</th>\n",
       "      <th>Project_URL</th>\n",
       "      <th>Property_building_status</th>\n",
       "      <th>City_id</th>\n",
       "      <th>City_name</th>\n",
       "      <th>No_of_BHK</th>\n",
       "      <th>Locality_ID</th>\n",
       "      <th>Locality_Name</th>\n",
       "      <th>...</th>\n",
       "      <th>listing_domain_score</th>\n",
       "      <th>is_plot</th>\n",
       "      <th>is_RERA_registered</th>\n",
       "      <th>is_Apartment</th>\n",
       "      <th>is_ready_to_move</th>\n",
       "      <th>is_commercial_Listing</th>\n",
       "      <th>is_PentaHouse</th>\n",
       "      <th>is_studio</th>\n",
       "      <th>Listing_Category</th>\n",
       "      <th>Price_range</th>\n",
       "    </tr>\n",
       "  </thead>\n",
       "  <tbody>\n",
       "    <tr>\n",
       "      <th>0</th>\n",
       "      <td>Apartment</td>\n",
       "      <td>Under Construction</td>\n",
       "      <td>1 day ago</td>\n",
       "      <td>https://www.makaan.com/ahmedabad/arkiton-life-...</td>\n",
       "      <td>ACTIVE</td>\n",
       "      <td>1</td>\n",
       "      <td>Ahmedabad</td>\n",
       "      <td>3 BHK</td>\n",
       "      <td>51907</td>\n",
       "      <td>Bopal</td>\n",
       "      <td>...</td>\n",
       "      <td>4.0</td>\n",
       "      <td>False</td>\n",
       "      <td>True</td>\n",
       "      <td>True</td>\n",
       "      <td>False</td>\n",
       "      <td>False</td>\n",
       "      <td>False</td>\n",
       "      <td>False</td>\n",
       "      <td>sell</td>\n",
       "      <td>mid_price_range</td>\n",
       "    </tr>\n",
       "    <tr>\n",
       "      <th>1</th>\n",
       "      <td>Apartment</td>\n",
       "      <td>Under Construction</td>\n",
       "      <td>2 days ago</td>\n",
       "      <td>https://www.makaan.com/ahmedabad/keshav-naraya...</td>\n",
       "      <td>ACTIVE</td>\n",
       "      <td>1</td>\n",
       "      <td>Ahmedabad</td>\n",
       "      <td>4 BHK</td>\n",
       "      <td>56407</td>\n",
       "      <td>Ambli</td>\n",
       "      <td>...</td>\n",
       "      <td>4.0</td>\n",
       "      <td>False</td>\n",
       "      <td>True</td>\n",
       "      <td>True</td>\n",
       "      <td>False</td>\n",
       "      <td>False</td>\n",
       "      <td>False</td>\n",
       "      <td>False</td>\n",
       "      <td>sell</td>\n",
       "      <td>high_price_range</td>\n",
       "    </tr>\n",
       "  </tbody>\n",
       "</table>\n",
       "<p>2 rows × 27 columns</p>\n",
       "</div>"
      ],
      "text/plain": [
       "  Property_type     Property_status   Posted_On  \\\n",
       "0     Apartment  Under Construction   1 day ago   \n",
       "1     Apartment  Under Construction  2 days ago   \n",
       "\n",
       "                                         Project_URL Property_building_status  \\\n",
       "0  https://www.makaan.com/ahmedabad/arkiton-life-...                   ACTIVE   \n",
       "1  https://www.makaan.com/ahmedabad/keshav-naraya...                   ACTIVE   \n",
       "\n",
       "   City_id  City_name No_of_BHK  Locality_ID Locality_Name  ...  \\\n",
       "0        1  Ahmedabad     3 BHK        51907         Bopal  ...   \n",
       "1        1  Ahmedabad     4 BHK        56407         Ambli  ...   \n",
       "\n",
       "   listing_domain_score  is_plot is_RERA_registered  is_Apartment  \\\n",
       "0                   4.0    False               True          True   \n",
       "1                   4.0    False               True          True   \n",
       "\n",
       "  is_ready_to_move is_commercial_Listing is_PentaHouse  is_studio  \\\n",
       "0            False                 False         False      False   \n",
       "1            False                 False         False      False   \n",
       "\n",
       "   Listing_Category       Price_range  \n",
       "0              sell   mid_price_range  \n",
       "1              sell  high_price_range  \n",
       "\n",
       "[2 rows x 27 columns]"
      ]
     },
     "execution_count": 59,
     "metadata": {},
     "output_type": "execute_result"
    }
   ],
   "source": [
    "# Define the labels and conditions\n",
    "conditions = [\n",
    "    (property_data[\"Price\"] <= property_data[\"Price\"].quantile(0.25)),\n",
    "    (property_data[\"Price\"] > property_data[\"Price\"].quantile(0.25)) & (property_data[\"Price\"] <= property_data[\"Price\"].quantile(0.75)),\n",
    "    (property_data[\"Price\"] > property_data[\"Price\"].quantile(0.75))\n",
    "]\n",
    "\n",
    "labels = ['low_price_range', 'mid_price_range', 'high_price_range']\n",
    "\n",
    "# Create a new column with the labels\n",
    "property_data[\"Price_range\"] = np.select(conditions, labels, default='unknown')\n",
    "property_data.drop(['Price'], axis=1, inplace=True)   # Remove the column 'Price' because we are using 'Price_range' in place of that.\n",
    "# Display the first few rows of the DataFrame with the new column\n",
    "property_data.head(2)"
   ]
  },
  {
   "cell_type": "code",
   "execution_count": 60,
   "id": "17e2e431",
   "metadata": {},
   "outputs": [
    {
     "name": "stdout",
     "output_type": "stream",
     "text": [
      "Unique values in coloumn 'Size':\n",
      " ['1,750 sq ft' '3,384 sq ft' '2,295 sq ft' ... '2,606 sq ft' '2,434 sq ft'\n",
      " '190 sq ft']\n",
      ".......................................................................\n",
      "Number of unique values: 4120\n"
     ]
    }
   ],
   "source": [
    "print(\"Unique values in coloumn 'Size':\\n\", property_data[\"Size\"].unique())\n",
    "print(\".......................................................................\")\n",
    "print(\"Number of unique values:\", property_data[\"Size\"].nunique())"
   ]
  },
  {
   "cell_type": "code",
   "execution_count": 61,
   "id": "d3c3ee65",
   "metadata": {},
   "outputs": [
    {
     "data": {
      "text/plain": [
       "0    1,750 sq ft\n",
       "1    3,384 sq ft\n",
       "Name: Size, dtype: object"
      ]
     },
     "execution_count": 61,
     "metadata": {},
     "output_type": "execute_result"
    }
   ],
   "source": [
    "property_data[\"Size\"].head(2)"
   ]
  },
  {
   "cell_type": "markdown",
   "id": "94e35b61",
   "metadata": {},
   "source": [
    "- However, it seems that the data type of **Size** is object. Let's change that to float, so that we can describe the data."
   ]
  },
  {
   "cell_type": "code",
   "execution_count": 62,
   "id": "fdee5d0c",
   "metadata": {},
   "outputs": [
    {
     "data": {
      "text/plain": [
       "0    1750\n",
       "1    3384\n",
       "2    2295\n",
       "3     918\n",
       "4    1760\n",
       "Name: Size, dtype: int64"
      ]
     },
     "execution_count": 62,
     "metadata": {},
     "output_type": "execute_result"
    }
   ],
   "source": [
    "# convert object type to str, removing comma and letters and then convert str dtype to int\n",
    "property_data['Size'] = property_data['Size'].astype('str') \n",
    "property_data['Size'] = property_data['Size'].str.replace(',','') \n",
    "property_data['Size'] = property_data['Size'].str.extract('(^[^\\s]+)')\n",
    "property_data['Size'] = property_data['Size'].astype(int)\n",
    "property_data['Size'].head()"
   ]
  },
  {
   "cell_type": "code",
   "execution_count": 63,
   "id": "56d2849b",
   "metadata": {},
   "outputs": [
    {
     "data": {
      "text/plain": [
       "count    143708.000000\n",
       "mean       1277.933247\n",
       "std         951.101861\n",
       "min         100.000000\n",
       "25%         720.000000\n",
       "50%        1076.000000\n",
       "75%        1516.000000\n",
       "max       90000.000000\n",
       "Name: Size, dtype: float64"
      ]
     },
     "execution_count": 63,
     "metadata": {},
     "output_type": "execute_result"
    }
   ],
   "source": [
    "property_data[\"Size\"].describe()"
   ]
  },
  {
   "cell_type": "markdown",
   "id": "d4fdff03",
   "metadata": {},
   "source": [
    "- We can derive from the describe() that, the minimum value of Size is 100 sq. ft.. The maximum value of Size is 90000 sq. ft.. \n",
    "At 25th percentile, the value of Size is value is 720 sq. ft. This means that 25 percent of the entire data that lies below this 25th percentile point will have value equal to or less than 720 sq. ft. \n",
    "- At 50th percentile, the value of Size is 1076 sq ft. This means half of the data points below 50th percentile point will have value equal to or less than 1076.\n",
    "- At 75th percentile, the Size value is 1516. This means that 75% of the data points that lies below this 75th percentile point will have value equal to or less than 1516 sq ft. \n",
    "- For the high-level description purpose, let's create bins grouping certain sizes together."
   ]
  },
  {
   "cell_type": "code",
   "execution_count": 64,
   "id": "f2a9cf31",
   "metadata": {},
   "outputs": [
    {
     "data": {
      "text/html": [
       "<div>\n",
       "<style scoped>\n",
       "    .dataframe tbody tr th:only-of-type {\n",
       "        vertical-align: middle;\n",
       "    }\n",
       "\n",
       "    .dataframe tbody tr th {\n",
       "        vertical-align: top;\n",
       "    }\n",
       "\n",
       "    .dataframe thead th {\n",
       "        text-align: right;\n",
       "    }\n",
       "</style>\n",
       "<table border=\"1\" class=\"dataframe\">\n",
       "  <thead>\n",
       "    <tr style=\"text-align: right;\">\n",
       "      <th></th>\n",
       "      <th>Property_type</th>\n",
       "      <th>Property_status</th>\n",
       "      <th>Posted_On</th>\n",
       "      <th>Project_URL</th>\n",
       "      <th>Property_building_status</th>\n",
       "      <th>City_id</th>\n",
       "      <th>City_name</th>\n",
       "      <th>No_of_BHK</th>\n",
       "      <th>Locality_ID</th>\n",
       "      <th>Locality_Name</th>\n",
       "      <th>...</th>\n",
       "      <th>is_plot</th>\n",
       "      <th>is_RERA_registered</th>\n",
       "      <th>is_Apartment</th>\n",
       "      <th>is_ready_to_move</th>\n",
       "      <th>is_commercial_Listing</th>\n",
       "      <th>is_PentaHouse</th>\n",
       "      <th>is_studio</th>\n",
       "      <th>Listing_Category</th>\n",
       "      <th>Price_range</th>\n",
       "      <th>Size_range</th>\n",
       "    </tr>\n",
       "  </thead>\n",
       "  <tbody>\n",
       "    <tr>\n",
       "      <th>0</th>\n",
       "      <td>Apartment</td>\n",
       "      <td>Under Construction</td>\n",
       "      <td>1 day ago</td>\n",
       "      <td>https://www.makaan.com/ahmedabad/arkiton-life-...</td>\n",
       "      <td>ACTIVE</td>\n",
       "      <td>1</td>\n",
       "      <td>Ahmedabad</td>\n",
       "      <td>3 BHK</td>\n",
       "      <td>51907</td>\n",
       "      <td>Bopal</td>\n",
       "      <td>...</td>\n",
       "      <td>False</td>\n",
       "      <td>True</td>\n",
       "      <td>True</td>\n",
       "      <td>False</td>\n",
       "      <td>False</td>\n",
       "      <td>False</td>\n",
       "      <td>False</td>\n",
       "      <td>sell</td>\n",
       "      <td>mid_price_range</td>\n",
       "      <td>&gt;1400</td>\n",
       "    </tr>\n",
       "    <tr>\n",
       "      <th>1</th>\n",
       "      <td>Apartment</td>\n",
       "      <td>Under Construction</td>\n",
       "      <td>2 days ago</td>\n",
       "      <td>https://www.makaan.com/ahmedabad/keshav-naraya...</td>\n",
       "      <td>ACTIVE</td>\n",
       "      <td>1</td>\n",
       "      <td>Ahmedabad</td>\n",
       "      <td>4 BHK</td>\n",
       "      <td>56407</td>\n",
       "      <td>Ambli</td>\n",
       "      <td>...</td>\n",
       "      <td>False</td>\n",
       "      <td>True</td>\n",
       "      <td>True</td>\n",
       "      <td>False</td>\n",
       "      <td>False</td>\n",
       "      <td>False</td>\n",
       "      <td>False</td>\n",
       "      <td>sell</td>\n",
       "      <td>high_price_range</td>\n",
       "      <td>&gt;1400</td>\n",
       "    </tr>\n",
       "  </tbody>\n",
       "</table>\n",
       "<p>2 rows × 27 columns</p>\n",
       "</div>"
      ],
      "text/plain": [
       "  Property_type     Property_status   Posted_On  \\\n",
       "0     Apartment  Under Construction   1 day ago   \n",
       "1     Apartment  Under Construction  2 days ago   \n",
       "\n",
       "                                         Project_URL Property_building_status  \\\n",
       "0  https://www.makaan.com/ahmedabad/arkiton-life-...                   ACTIVE   \n",
       "1  https://www.makaan.com/ahmedabad/keshav-naraya...                   ACTIVE   \n",
       "\n",
       "   City_id  City_name No_of_BHK  Locality_ID Locality_Name  ...  is_plot  \\\n",
       "0        1  Ahmedabad     3 BHK        51907         Bopal  ...    False   \n",
       "1        1  Ahmedabad     4 BHK        56407         Ambli  ...    False   \n",
       "\n",
       "   is_RERA_registered  is_Apartment is_ready_to_move is_commercial_Listing  \\\n",
       "0                True          True            False                 False   \n",
       "1                True          True            False                 False   \n",
       "\n",
       "  is_PentaHouse  is_studio  Listing_Category       Price_range  Size_range  \n",
       "0         False      False              sell   mid_price_range       >1400  \n",
       "1         False      False              sell  high_price_range       >1400  \n",
       "\n",
       "[2 rows x 27 columns]"
      ]
     },
     "execution_count": 64,
     "metadata": {},
     "output_type": "execute_result"
    }
   ],
   "source": [
    "bins = [i*100 for i in range(int(property_data['Size'].quantile(0.75))//100)]\n",
    "bins.append(int(property_data['Size'].max()))\n",
    "labels = [\"{}-{}\".format(bins[i], bins[i+1]) for i in range(len(bins) - 1)]\n",
    "# print(bins)\n",
    "labels[-1]=\">{}\".format(bins[-2])\n",
    "# print(labels)\n",
    "\n",
    "property_data[\"Size_range\"] = pd.cut(property_data[\"Size\"], bins=bins, labels=labels)\n",
    "\n",
    "property_data.drop(['Size'], axis=1, inplace=True)   # Remove the column 'Size' because we are using 'Size_range' in place of that.\n",
    "# Display the first few rows of the DataFrame with the new column\n",
    "property_data.head(2)"
   ]
  },
  {
   "cell_type": "code",
   "execution_count": 65,
   "id": "6de794d8",
   "metadata": {},
   "outputs": [
    {
     "name": "stdout",
     "output_type": "stream",
     "text": [
      "Unique values in coloumn 'Size_range':\n",
      " ['>1400', '900-1000', '1300-1400', '1200-1300', '1100-1200', ..., '500-600', '800-900', '200-300', '100-200', '0-100']\n",
      "Length: 15\n",
      "Categories (15, object): ['0-100' < '100-200' < '200-300' < '300-400' ... '1100-1200' < '1200-1300' < '1300-1400' < '>1400']\n",
      ".......................................................................\n",
      "Number of unique values: 15\n"
     ]
    }
   ],
   "source": [
    "print(\"Unique values in coloumn 'Size_range':\\n\", property_data[\"Size_range\"].unique())\n",
    "print(\".......................................................................\")\n",
    "print(\"Number of unique values:\", property_data[\"Size_range\"].nunique())"
   ]
  },
  {
   "cell_type": "markdown",
   "id": "ab445355",
   "metadata": {},
   "source": [
    "----"
   ]
  },
  {
   "cell_type": "code",
   "execution_count": 66,
   "id": "b6158a99",
   "metadata": {},
   "outputs": [
    {
     "name": "stdout",
     "output_type": "stream",
     "text": [
      "Unique values in coloumn 'Posted_On':\n",
      " ['1 day ago' '2 days ago' '5 days ago' '8 days ago' '9 days ago'\n",
      " '17 days ago' '21 days ago' '18 days ago' '25 days ago' 'a month ago'\n",
      " '24 days ago' '2 months ago' '10 hours ago' '3 months ago' '4 months ago'\n",
      " '5 months ago' '6 days ago' '3 days ago' '7 days ago' '19 days ago'\n",
      " '10 months ago' '22 days ago' 'a year ago' '9 months ago' '4 days ago'\n",
      " '16 days ago' '9 hours ago' '6 hours ago' '11 days ago' '12 days ago'\n",
      " '14 days ago' '7 months ago' '10 days ago' '23 days ago' '15 days ago'\n",
      " '20 days ago' '8 months ago' '6 months ago' '2 years ago' '13 days ago'\n",
      " '7 hours ago' '4 hours ago' '2 hours ago' '3 hours ago' '8 hours ago'\n",
      " '5 hours ago' '19 hours ago' '12 hours ago' 'an hour ago' '11 hours ago'\n",
      " '26 minutes ago' '37 minutes ago' '18 hours ago' '20 hours ago'\n",
      " '42 minutes ago' '13 hours ago' '3 years ago' '21 hours ago'\n",
      " '14 hours ago' '15 hours ago' '31 minutes ago' '27 minutes ago'\n",
      " '22 minutes ago' '40 minutes ago' '41 minutes ago' '25 minutes ago'\n",
      " '28 minutes ago' '30 minutes ago' '33 minutes ago' '43 minutes ago'\n",
      " '36 minutes ago' '38 minutes ago' '17 hours ago' '35 minutes ago'\n",
      " '34 minutes ago' '23 minutes ago']\n",
      ".......................................................................\n",
      "Number of unique values: 76\n"
     ]
    }
   ],
   "source": [
    "print(\"Unique values in coloumn 'Posted_On':\\n\", property_data[\"Posted_On\"].unique())\n",
    "print(\".......................................................................\")\n",
    "print(\"Number of unique values:\", property_data[\"Posted_On\"].nunique())"
   ]
  },
  {
   "cell_type": "markdown",
   "id": "6db34090",
   "metadata": {},
   "source": [
    "- Let's use AOI to categorize the values of 'Posted_On' dimension into the following values:\n",
    "    - `< an hour`:               This encompasses all the postings done within an hour\n",
    "    - `>= hour and < 1 day`:     This encompasses all the postings done between an hour (include) and a day (exclude)    \n",
    "    - `=> 1 day and < 1 month`:  This encompasses all the postings done between one day (include) and a month (exclude)    \n",
    "    - `=> 1 month and < 1 year`: This encompasses all the postings done between one month (include) and a year (exclude)    \n",
    "    - `=> 1 year and < 5 year`:  This encompasses all the postings done between one year (include) and five years (exclude)  "
   ]
  },
  {
   "cell_type": "code",
   "execution_count": 67,
   "id": "5028663b",
   "metadata": {},
   "outputs": [
    {
     "data": {
      "text/html": [
       "<div>\n",
       "<style scoped>\n",
       "    .dataframe tbody tr th:only-of-type {\n",
       "        vertical-align: middle;\n",
       "    }\n",
       "\n",
       "    .dataframe tbody tr th {\n",
       "        vertical-align: top;\n",
       "    }\n",
       "\n",
       "    .dataframe thead th {\n",
       "        text-align: right;\n",
       "    }\n",
       "</style>\n",
       "<table border=\"1\" class=\"dataframe\">\n",
       "  <thead>\n",
       "    <tr style=\"text-align: right;\">\n",
       "      <th></th>\n",
       "      <th>Property_type</th>\n",
       "      <th>Property_status</th>\n",
       "      <th>Posted_On</th>\n",
       "      <th>Project_URL</th>\n",
       "      <th>Property_building_status</th>\n",
       "      <th>City_id</th>\n",
       "      <th>City_name</th>\n",
       "      <th>No_of_BHK</th>\n",
       "      <th>Locality_ID</th>\n",
       "      <th>Locality_Name</th>\n",
       "      <th>...</th>\n",
       "      <th>is_RERA_registered</th>\n",
       "      <th>is_Apartment</th>\n",
       "      <th>is_ready_to_move</th>\n",
       "      <th>is_commercial_Listing</th>\n",
       "      <th>is_PentaHouse</th>\n",
       "      <th>is_studio</th>\n",
       "      <th>Listing_Category</th>\n",
       "      <th>Price_range</th>\n",
       "      <th>Size_range</th>\n",
       "      <th>Posted_On_range</th>\n",
       "    </tr>\n",
       "  </thead>\n",
       "  <tbody>\n",
       "    <tr>\n",
       "      <th>0</th>\n",
       "      <td>Apartment</td>\n",
       "      <td>Under Construction</td>\n",
       "      <td>1 day ago</td>\n",
       "      <td>https://www.makaan.com/ahmedabad/arkiton-life-...</td>\n",
       "      <td>ACTIVE</td>\n",
       "      <td>1</td>\n",
       "      <td>Ahmedabad</td>\n",
       "      <td>3 BHK</td>\n",
       "      <td>51907</td>\n",
       "      <td>Bopal</td>\n",
       "      <td>...</td>\n",
       "      <td>True</td>\n",
       "      <td>True</td>\n",
       "      <td>False</td>\n",
       "      <td>False</td>\n",
       "      <td>False</td>\n",
       "      <td>False</td>\n",
       "      <td>sell</td>\n",
       "      <td>mid_price_range</td>\n",
       "      <td>&gt;1400</td>\n",
       "      <td>=&gt; 1 day and &lt; 1 month</td>\n",
       "    </tr>\n",
       "    <tr>\n",
       "      <th>1</th>\n",
       "      <td>Apartment</td>\n",
       "      <td>Under Construction</td>\n",
       "      <td>2 days ago</td>\n",
       "      <td>https://www.makaan.com/ahmedabad/keshav-naraya...</td>\n",
       "      <td>ACTIVE</td>\n",
       "      <td>1</td>\n",
       "      <td>Ahmedabad</td>\n",
       "      <td>4 BHK</td>\n",
       "      <td>56407</td>\n",
       "      <td>Ambli</td>\n",
       "      <td>...</td>\n",
       "      <td>True</td>\n",
       "      <td>True</td>\n",
       "      <td>False</td>\n",
       "      <td>False</td>\n",
       "      <td>False</td>\n",
       "      <td>False</td>\n",
       "      <td>sell</td>\n",
       "      <td>high_price_range</td>\n",
       "      <td>&gt;1400</td>\n",
       "      <td>=&gt; 1 day and &lt; 1 month</td>\n",
       "    </tr>\n",
       "  </tbody>\n",
       "</table>\n",
       "<p>2 rows × 28 columns</p>\n",
       "</div>"
      ],
      "text/plain": [
       "  Property_type     Property_status   Posted_On  \\\n",
       "0     Apartment  Under Construction   1 day ago   \n",
       "1     Apartment  Under Construction  2 days ago   \n",
       "\n",
       "                                         Project_URL Property_building_status  \\\n",
       "0  https://www.makaan.com/ahmedabad/arkiton-life-...                   ACTIVE   \n",
       "1  https://www.makaan.com/ahmedabad/keshav-naraya...                   ACTIVE   \n",
       "\n",
       "   City_id  City_name No_of_BHK  Locality_ID Locality_Name  ...  \\\n",
       "0        1  Ahmedabad     3 BHK        51907         Bopal  ...   \n",
       "1        1  Ahmedabad     4 BHK        56407         Ambli  ...   \n",
       "\n",
       "   is_RERA_registered  is_Apartment  is_ready_to_move is_commercial_Listing  \\\n",
       "0                True          True             False                 False   \n",
       "1                True          True             False                 False   \n",
       "\n",
       "  is_PentaHouse is_studio  Listing_Category       Price_range  Size_range  \\\n",
       "0         False     False              sell   mid_price_range       >1400   \n",
       "1         False     False              sell  high_price_range       >1400   \n",
       "\n",
       "          Posted_On_range  \n",
       "0  => 1 day and < 1 month  \n",
       "1  => 1 day and < 1 month  \n",
       "\n",
       "[2 rows x 28 columns]"
      ]
     },
     "execution_count": 67,
     "metadata": {},
     "output_type": "execute_result"
    }
   ],
   "source": [
    "property_data.loc[property_data[\"Posted_On\"].str.contains('minute'), \"Posted_On_range\"] = '< an hour'\n",
    "property_data.loc[property_data[\"Posted_On\"].str.contains('hour'), \"Posted_On_range\"] = '=> hour and < 1 day'\n",
    "property_data.loc[property_data[\"Posted_On\"].str.contains('day'), \"Posted_On_range\"] = '=> 1 day and < 1 month'\n",
    "property_data.loc[property_data[\"Posted_On\"].str.contains('month'), \"Posted_On_range\"] = '=> 1 month and < 1 year'\n",
    "property_data.loc[property_data[\"Posted_On\"].str.contains('year'), \"Posted_On_range\"] = '=> 1 year and < 5 year'\n",
    "\n",
    "property_data.head(2)"
   ]
  },
  {
   "cell_type": "code",
   "execution_count": 68,
   "id": "f02eaa33",
   "metadata": {},
   "outputs": [
    {
     "name": "stdout",
     "output_type": "stream",
     "text": [
      "Posted_On_range\n",
      "=> 1 month and < 1 year    77470\n",
      "=> 1 day and < 1 month     51549\n",
      "=> 1 year and < 5 year     12987\n",
      "=> hour and < 1 day         1653\n",
      "< an hour                     49\n",
      "Name: count, dtype: int64\n",
      ".......................................................................\n",
      "Unique values 5\n"
     ]
    }
   ],
   "source": [
    "print(property_data[\"Posted_On_range\"].value_counts())\n",
    "print(\".......................................................................\")\n",
    "print(\"Unique values\", property_data[\"Posted_On_range\"].nunique())"
   ]
  },
  {
   "cell_type": "code",
   "execution_count": 69,
   "id": "a3a965c1",
   "metadata": {},
   "outputs": [],
   "source": [
    "property_data.drop(['Posted_On'], axis=1, inplace=True)   # Remove the column 'Posted_On' because we are using 'Posted_On_range' in place of that."
   ]
  },
  {
   "cell_type": "markdown",
   "id": "5b519b8b",
   "metadata": {},
   "source": [
    "----"
   ]
  },
  {
   "cell_type": "code",
   "execution_count": 70,
   "id": "4911620f",
   "metadata": {},
   "outputs": [
    {
     "name": "stdout",
     "output_type": "stream",
     "text": [
      "Unique values in coloumn 'Project_URL':\n",
      " ['https://www.makaan.com/ahmedabad/arkiton-life-space-luxe-in-bopal-3178597'\n",
      " 'https://www.makaan.com/ahmedabad/keshav-narayan-group-akshar-ocean-pearl-in-ambli-3177719'\n",
      " 'https://www.makaan.com/ahmedabad/vishwa-developers-ahmedabad-opulence-in-naryanpura-2050295'\n",
      " ...\n",
      " 'https://www.makaan.com/mumbai/harmony-lifestyles-apartments-in-andheri-east-662556'\n",
      " 'https://www.makaan.com/mumbai/terraform-realty-lotus-in-thane-west-1651889'\n",
      " 'https://www.makaan.com/mumbai/antalica-group-tower-in-ambernath-west-3146311']\n",
      ".......................................................................\n",
      "Number of unique values: 20674\n"
     ]
    }
   ],
   "source": [
    "print(\"Unique values in coloumn 'Project_URL':\\n\", property_data[\"Project_URL\"].unique())\n",
    "print(\".......................................................................\")\n",
    "print(\"Number of unique values:\", property_data[\"Project_URL\"].nunique())"
   ]
  },
  {
   "cell_type": "code",
   "execution_count": 71,
   "id": "0bc30af9",
   "metadata": {},
   "outputs": [],
   "source": [
    "property_data.drop(['Project_URL'], axis=1, inplace=True)     # Dropping the dimension"
   ]
  },
  {
   "cell_type": "markdown",
   "id": "332ff7b7",
   "metadata": {},
   "source": [
    "----"
   ]
  },
  {
   "cell_type": "code",
   "execution_count": 72,
   "id": "1b4f693d",
   "metadata": {},
   "outputs": [
    {
     "name": "stdout",
     "output_type": "stream",
     "text": [
      "Unique values in coloumn 'Property_building_status':\n",
      " ['ACTIVE' 'INACTIVE' 'UNVERIFIED']\n",
      ".......................................................................\n",
      "Number of unique values: 3\n"
     ]
    }
   ],
   "source": [
    "print(\"Unique values in coloumn 'Property_building_status':\\n\", property_data[\"Property_building_status\"].unique())\n",
    "print(\".......................................................................\")\n",
    "print(\"Number of unique values:\", property_data[\"Property_building_status\"].nunique())"
   ]
  },
  {
   "cell_type": "markdown",
   "id": "900b2bff",
   "metadata": {},
   "source": [
    "- We will use the values of 'Property_building_status' dimension as it is, because it is generalized into 3 distinct values."
   ]
  },
  {
   "cell_type": "markdown",
   "id": "7fb74de2",
   "metadata": {},
   "source": [
    "----"
   ]
  },
  {
   "cell_type": "code",
   "execution_count": 73,
   "id": "3a206133",
   "metadata": {},
   "outputs": [
    {
     "name": "stdout",
     "output_type": "stream",
     "text": [
      "Unique values in coloumn 'City_id':\n",
      " [ 1  2  5  6 12 16 23 18]\n",
      ".......................................................................\n",
      "Number of unique values: 8\n"
     ]
    }
   ],
   "source": [
    "print(\"Unique values in coloumn 'City_id':\\n\", property_data[\"City_id\"].unique())\n",
    "print(\".......................................................................\")\n",
    "print(\"Number of unique values:\", property_data[\"City_id\"].nunique())"
   ]
  },
  {
   "cell_type": "code",
   "execution_count": 74,
   "id": "37de4921",
   "metadata": {},
   "outputs": [
    {
     "name": "stdout",
     "output_type": "stream",
     "text": [
      "Unique values in coloumn 'City_name':\n",
      " ['Ahmedabad' 'Bangalore' 'Chennai' 'Delhi' 'Hyderabad' 'Kolkata' 'Lucknow'\n",
      " 'Mumbai']\n",
      ".......................................................................\n",
      "Number of unique values: 8\n"
     ]
    }
   ],
   "source": [
    "print(\"Unique values in coloumn 'City_name':\\n\", property_data[\"City_name\"].unique())\n",
    "print(\".......................................................................\")\n",
    "print(\"Number of unique values:\", property_data[\"City_name\"].nunique())"
   ]
  },
  {
   "cell_type": "markdown",
   "id": "16f438ce",
   "metadata": {},
   "source": [
    "- As we can see, 'City_id' is just a unique ID corresponding to a unique 'City_name', that is both the dimensions represent the same entity.\n",
    "- Therefore, we can remove any one of them.\n",
    "- Let's remove 'City_id' as using 'City_name' is much more intuitive for humans."
   ]
  },
  {
   "cell_type": "code",
   "execution_count": 75,
   "id": "5f926853",
   "metadata": {},
   "outputs": [],
   "source": [
    "property_data.drop(['City_id'], axis=1, inplace=True)     # Remove the mentioned column"
   ]
  },
  {
   "cell_type": "markdown",
   "id": "c8dc4f85",
   "metadata": {},
   "source": [
    "----"
   ]
  },
  {
   "cell_type": "code",
   "execution_count": 76,
   "id": "2518c332",
   "metadata": {},
   "outputs": [
    {
     "name": "stdout",
     "output_type": "stream",
     "text": [
      "Unique values in coloumn 'No_of_BHK':\n",
      " ['3 BHK' '4 BHK' '2 BHK' '5 BHK' '1 BHK' '1 RK' '0 BHK' '6 BHK' '7 BHK'\n",
      " '11 BHK' '9 BHK' '10 BHK' '8 BHK' '3 RK' '14 BHK' '2 RK' '12 BHK']\n",
      ".......................................................................\n",
      "Number of unique values: 17\n"
     ]
    }
   ],
   "source": [
    "print(\"Unique values in coloumn 'No_of_BHK':\\n\", property_data[\"No_of_BHK\"].unique())\n",
    "print(\".......................................................................\")\n",
    "print(\"Number of unique values:\", property_data[\"No_of_BHK\"].nunique())"
   ]
  },
  {
   "cell_type": "markdown",
   "id": "07794e31",
   "metadata": {},
   "source": [
    "- We will use the values of 'No_of_BHK' dimension as it is because it is already characterized by 17 distinct values."
   ]
  },
  {
   "cell_type": "markdown",
   "id": "f12fe739",
   "metadata": {},
   "source": [
    "----"
   ]
  },
  {
   "cell_type": "code",
   "execution_count": 77,
   "id": "f57bcb50",
   "metadata": {},
   "outputs": [
    {
     "name": "stdout",
     "output_type": "stream",
     "text": [
      "Unique values in coloumn 'Locality_ID':\n",
      " [ 51907  56407  66627 ... 105287 104040  61747]\n",
      ".......................................................................\n",
      "Number of unique values: 1252\n"
     ]
    }
   ],
   "source": [
    "print(\"Unique values in coloumn 'Locality_ID':\\n\", property_data[\"Locality_ID\"].unique())\n",
    "print(\".......................................................................\")\n",
    "print(\"Number of unique values:\", property_data[\"Locality_ID\"].nunique())"
   ]
  },
  {
   "cell_type": "code",
   "execution_count": 78,
   "id": "6494a42e",
   "metadata": {},
   "outputs": [
    {
     "name": "stdout",
     "output_type": "stream",
     "text": [
      "Unique values in coloumn 'Locality_Name':\n",
      " ['Bopal' 'Ambli' 'Naryanpura' ... 'Khatiwali' 'Desale Pada' 'Mulund']\n",
      ".......................................................................\n",
      "Number of unique values: 1244\n"
     ]
    }
   ],
   "source": [
    "print(\"Unique values in coloumn 'Locality_Name':\\n\", property_data[\"Locality_Name\"].unique())\n",
    "print(\".......................................................................\")\n",
    "print(\"Number of unique values:\", property_data[\"Locality_Name\"].nunique())"
   ]
  },
  {
   "cell_type": "code",
   "execution_count": 79,
   "id": "a4546e7b",
   "metadata": {},
   "outputs": [
    {
     "name": "stdout",
     "output_type": "stream",
     "text": [
      "Unique values in coloumn 'Longitude':\n",
      " [72.46510315 72.47966766 72.5585022  ... 72.96482849 72.98180389\n",
      " 73.19194794]\n",
      ".......................................................................\n",
      "Number of unique values: 20572\n"
     ]
    }
   ],
   "source": [
    "print(\"Unique values in coloumn 'Longitude':\\n\", property_data[\"Longitude\"].unique())\n",
    "print(\".......................................................................\")\n",
    "print(\"Number of unique values:\", property_data[\"Longitude\"].nunique())"
   ]
  },
  {
   "cell_type": "code",
   "execution_count": 80,
   "id": "f7325a27",
   "metadata": {},
   "outputs": [],
   "source": [
    "property_data.drop(['Longitude'], axis=1, inplace=True)   # Remove the column 'Longitude'\n",
    "property_data.drop(['Latitude'], axis=1, inplace=True)   # Remove the column 'Latitude'"
   ]
  },
  {
   "cell_type": "code",
   "execution_count": 81,
   "id": "151b5a54",
   "metadata": {},
   "outputs": [
    {
     "name": "stdout",
     "output_type": "stream",
     "text": [
      "Unique values in coloumn 'Sub_urban_ID':\n",
      " [10229 10228 10226 10221 10003 10237 10094 11262 10383 10512 10008 10010\n",
      " 10450 10447 10445 10011 10007 10442 10444 10441 10451 10006 10446 10443\n",
      " 10088 10259 10015 10263 10089 10257 10013 10016 10266 10202 11478 11488\n",
      " 10022 11606 10176 10212 10571 10018 10177 10019 10558 10559 11475 11613\n",
      " 10082 10233 10238 10033 10071 10977 10179 10976 10234 10560 10092 11472\n",
      " 10039 10035 10036 10038 10093 10235 11482 10223 10276 10271 10242 10275\n",
      " 10099 10078 10293 10474 10272 10285 10297 10042 10048 10043 10045 10041\n",
      " 10044 10040 10175 10299 10046 10096 10561]\n",
      ".......................................................................\n",
      "Number of unique values: 91\n"
     ]
    }
   ],
   "source": [
    "print(\"Unique values in coloumn 'Sub_urban_ID':\\n\", property_data[\"Sub_urban_ID\"].unique())\n",
    "print(\".......................................................................\")\n",
    "print(\"Number of unique values:\", property_data[\"Sub_urban_ID\"].nunique())"
   ]
  },
  {
   "cell_type": "code",
   "execution_count": 82,
   "id": "bd51ef7b",
   "metadata": {},
   "outputs": [
    {
     "name": "stdout",
     "output_type": "stream",
     "text": [
      "Unique values in coloumn 'Sub_urban_name':\n",
      " ['Ahmedabad West' 'Ahmedabad South' 'Ahmedabad North' 'Ahmedabad East'\n",
      " 'SG Highway' 'Ahmedabad Central' 'Other' 'Sarjapur Road Before Wipro'\n",
      " 'Bannerghatta Road' 'Whitefield' 'Bangalore North' 'Bangalore West'\n",
      " 'Mysore Road' 'Hosur Road' 'Old Madras Road' 'Bangalore South'\n",
      " 'Bangalore East' 'Sarjapur Road' 'Hennur Main Road' 'Old Airport Road'\n",
      " 'Kanakapura Road' 'Bangalore Central' 'Outer Ring Road'\n",
      " 'Thanisandra Main Road' 'ECR' 'Chennai West' 'GST' 'OMR' 'Chennai North'\n",
      " 'Chennai South' 'Vandalur Kelambakkam Road' 'Chennai Central'\n",
      " 'Arcot Road  Saligramam' 'Tharamani' 'Delhi South' 'Rohini' 'West Delhi'\n",
      " 'Dwarka' 'Delhi Central' 'North Delhi' 'Delhi East' 'Delhi North'\n",
      " 'Delhi West' 'North West Delhi' 'Near Bahadurgarh Metro Station'\n",
      " 'Hyderabad West' 'Hyderabad East' 'Hyderabad South' 'Secunderabad'\n",
      " 'Hyderabad North' 'ORR North' 'ORR West' 'ORR South' 'Hyderabad Central'\n",
      " 'Gr Hyderabad' 'South Hyderabad' 'Kolkata West' 'Kolkata East'\n",
      " 'Kolkata North' 'Kolkata South' 'Kolkata Central'\n",
      " 'Diamond Harbour Road Thakurpukur' 'EM Bypass' 'Rae Bareli Road'\n",
      " 'Lucknow South' 'Lucknow East' 'Lucknow North' 'Alambagh'\n",
      " 'Sitapur National Hwy' 'Barabanki' 'Lucknow Central' 'Kanpur Road'\n",
      " 'Lucknow West' 'Andheri to Dahisar' 'Thane' 'Beyond Thane' 'Navi Mumbai'\n",
      " 'Mira Road and Beyond' 'Mumbai Harbour' 'Central Mumbai' 'Beyond Panvel'\n",
      " 'Worli to Andheri' 'Mumbai South' 'Mumbai Mira Road and Beyond']\n",
      ".......................................................................\n",
      "Number of unique values: 84\n"
     ]
    }
   ],
   "source": [
    "print(\"Unique values in coloumn 'Sub_urban_name':\\n\", property_data[\"Sub_urban_name\"].unique())\n",
    "print(\".......................................................................\")\n",
    "print(\"Number of unique values:\", property_data[\"Sub_urban_name\"].nunique())"
   ]
  },
  {
   "cell_type": "code",
   "execution_count": 83,
   "id": "5b04b12c",
   "metadata": {},
   "outputs": [],
   "source": [
    "property_data.drop(['Sub_urban_ID'], axis=1, inplace=True)     # Remove the 'Sub_urban_ID' column as we already have 'Sub_urban_name'"
   ]
  },
  {
   "cell_type": "markdown",
   "id": "83cf1b96",
   "metadata": {},
   "source": [
    "----"
   ]
  },
  {
   "cell_type": "code",
   "execution_count": 84,
   "id": "af8aa68d",
   "metadata": {},
   "outputs": [
    {
     "name": "stdout",
     "output_type": "stream",
     "text": [
      "Unique values in coloumn 'description':\n",
      " [\"The house is unfurnished. It has car parking. Other amenities include full power backup, banquet hall, gymnasium, landscape garden and tree planting, children's play area, 24x7 water supply, indoor ga...\"\n",
      " 'A 4 bhk property is available for sale in Keshav Narayan Group Akshar Ocean Pearl, Ambli, Ahmedabad. It has a salable area of 3384 sqft and is available at a price of Rs. 7,000 per sqft. It is an unfu...'\n",
      " 'It has a built-up area of 2295 sqft and is priced at Rs. 1.32 cr . The house is unfurnished. It has closed car parking as well as fire fighting system. The project also has 24 hours water supply, 24 x...'\n",
      " ...\n",
      " 'Well designed 1 bhk multistorey apartment is available at a prime location in Rajlaxmi Developers Mumbai RaajLaxmi Towers. It has a built-up area of 360 sqft and is priced at Rs. 35.50 lac . The house...'\n",
      " 'Itâ€™s a 2 bhk multistorey apartment situated in Rajlaxmi Developers Mumbai RaajLaxmi Towers, Vasai, Mumbai. It has an area of 590 sqft . The property is available at a price of Rs. 52.00 lac . It is an...'\n",
      " 'A spacious 1 bhk multistorey apartment is available for sale in Rajlaxmi Developers Mumbai RaajLaxmi Towers, Vasai, Mumbai. It has a built-up area of 358 sqft and is priced at Rs. 35.30 lac . It is an...']\n",
      ".......................................................................\n",
      "Number of unique values: 143708\n"
     ]
    }
   ],
   "source": [
    "print(\"Unique values in coloumn 'description':\\n\", property_data[\"description\"].unique())\n",
    "print(\".......................................................................\")\n",
    "print(\"Number of unique values:\", property_data[\"description\"].nunique())"
   ]
  },
  {
   "cell_type": "code",
   "execution_count": 85,
   "id": "6eebb0cb",
   "metadata": {},
   "outputs": [],
   "source": [
    "property_data.drop(['description'], axis=1, inplace=True)     # Remove the mentioned column"
   ]
  },
  {
   "cell_type": "markdown",
   "id": "8bc51741",
   "metadata": {},
   "source": [
    "----"
   ]
  },
  {
   "cell_type": "code",
   "execution_count": 86,
   "id": "b9ae857c",
   "metadata": {},
   "outputs": [
    {
     "name": "stdout",
     "output_type": "stream",
     "text": [
      "Unique values in coloumn 'is_furnished':\n",
      " ['Unfurnished' 'Semi-Furnished' 'Furnished']\n",
      ".......................................................................\n",
      "Number of unique values: 3\n"
     ]
    }
   ],
   "source": [
    "print(\"Unique values in coloumn 'is_furnished':\\n\", property_data[\"is_furnished\"].unique())\n",
    "print(\".......................................................................\")\n",
    "print(\"Number of unique values:\", property_data[\"is_furnished\"].nunique())"
   ]
  },
  {
   "cell_type": "markdown",
   "id": "b45722d0",
   "metadata": {},
   "source": [
    "- Dimension 'is_furnished' has 3 distinct values and therefore we will use this as it is"
   ]
  },
  {
   "cell_type": "code",
   "execution_count": 87,
   "id": "573bafc0",
   "metadata": {},
   "outputs": [
    {
     "name": "stdout",
     "output_type": "stream",
     "text": [
      "Unique values in coloumn 'listing_domain_score':\n",
      " [4.      4.82143 4.46429 7.14286 4.5283  5.17857 5.      4.64286 8.39286\n",
      " 8.7104  8.21692 8.45764 8.03835 8.17469 4.28571 4.10714 7.71576 5.81818]\n",
      ".......................................................................\n",
      "Number of unique values: 18\n"
     ]
    }
   ],
   "source": [
    "print(\"Unique values in coloumn 'listing_domain_score':\\n\", property_data[\"listing_domain_score\"].unique())\n",
    "print(\".......................................................................\")\n",
    "print(\"Number of unique values:\", property_data[\"listing_domain_score\"].nunique())"
   ]
  },
  {
   "cell_type": "markdown",
   "id": "7201d5c8",
   "metadata": {},
   "source": [
    "- Listing domain score is an important dimension that we want to keep. Also, it has 18 distinct values that we can use as it is."
   ]
  },
  {
   "cell_type": "markdown",
   "id": "af232c18",
   "metadata": {},
   "source": [
    "----"
   ]
  },
  {
   "cell_type": "code",
   "execution_count": 88,
   "id": "807abd3c",
   "metadata": {},
   "outputs": [
    {
     "name": "stdout",
     "output_type": "stream",
     "text": [
      "Unique values in coloumn 'is_plot':\n",
      " [False  True]\n",
      ".......................................................................\n",
      "Number of unique values: 2\n"
     ]
    }
   ],
   "source": [
    "print(\"Unique values in coloumn 'is_plot':\\n\", property_data[\"is_plot\"].unique())\n",
    "print(\".......................................................................\")\n",
    "print(\"Number of unique values:\", property_data[\"is_plot\"].nunique())"
   ]
  },
  {
   "cell_type": "code",
   "execution_count": 89,
   "id": "a82a1600",
   "metadata": {},
   "outputs": [
    {
     "data": {
      "text/html": [
       "<div>\n",
       "<style scoped>\n",
       "    .dataframe tbody tr th:only-of-type {\n",
       "        vertical-align: middle;\n",
       "    }\n",
       "\n",
       "    .dataframe tbody tr th {\n",
       "        vertical-align: top;\n",
       "    }\n",
       "\n",
       "    .dataframe thead th {\n",
       "        text-align: right;\n",
       "    }\n",
       "</style>\n",
       "<table border=\"1\" class=\"dataframe\">\n",
       "  <thead>\n",
       "    <tr style=\"text-align: right;\">\n",
       "      <th></th>\n",
       "      <th>Property_type</th>\n",
       "      <th>Property_status</th>\n",
       "      <th>Property_building_status</th>\n",
       "      <th>City_name</th>\n",
       "      <th>No_of_BHK</th>\n",
       "      <th>Locality_ID</th>\n",
       "      <th>Locality_Name</th>\n",
       "      <th>Sub_urban_name</th>\n",
       "      <th>is_furnished</th>\n",
       "      <th>listing_domain_score</th>\n",
       "      <th>...</th>\n",
       "      <th>is_RERA_registered</th>\n",
       "      <th>is_Apartment</th>\n",
       "      <th>is_ready_to_move</th>\n",
       "      <th>is_commercial_Listing</th>\n",
       "      <th>is_PentaHouse</th>\n",
       "      <th>is_studio</th>\n",
       "      <th>Listing_Category</th>\n",
       "      <th>Price_range</th>\n",
       "      <th>Size_range</th>\n",
       "      <th>Posted_On_range</th>\n",
       "    </tr>\n",
       "  </thead>\n",
       "  <tbody>\n",
       "    <tr>\n",
       "      <th>230</th>\n",
       "      <td>Residential Plot</td>\n",
       "      <td>Ready to move</td>\n",
       "      <td>ACTIVE</td>\n",
       "      <td>Ahmedabad</td>\n",
       "      <td>0 BHK</td>\n",
       "      <td>52097</td>\n",
       "      <td>Sanand</td>\n",
       "      <td>Ahmedabad West</td>\n",
       "      <td>Unfurnished</td>\n",
       "      <td>4.0</td>\n",
       "      <td>...</td>\n",
       "      <td>False</td>\n",
       "      <td>False</td>\n",
       "      <td>True</td>\n",
       "      <td>False</td>\n",
       "      <td>False</td>\n",
       "      <td>False</td>\n",
       "      <td>sell</td>\n",
       "      <td>low_price_range</td>\n",
       "      <td>&gt;1400</td>\n",
       "      <td>=&gt; 1 month and &lt; 1 year</td>\n",
       "    </tr>\n",
       "    <tr>\n",
       "      <th>232</th>\n",
       "      <td>Residential Plot</td>\n",
       "      <td>Ready to move</td>\n",
       "      <td>ACTIVE</td>\n",
       "      <td>Ahmedabad</td>\n",
       "      <td>0 BHK</td>\n",
       "      <td>52097</td>\n",
       "      <td>Sanand</td>\n",
       "      <td>Ahmedabad West</td>\n",
       "      <td>Unfurnished</td>\n",
       "      <td>4.0</td>\n",
       "      <td>...</td>\n",
       "      <td>False</td>\n",
       "      <td>False</td>\n",
       "      <td>True</td>\n",
       "      <td>False</td>\n",
       "      <td>False</td>\n",
       "      <td>False</td>\n",
       "      <td>sell</td>\n",
       "      <td>low_price_range</td>\n",
       "      <td>&gt;1400</td>\n",
       "      <td>=&gt; 1 month and &lt; 1 year</td>\n",
       "    </tr>\n",
       "  </tbody>\n",
       "</table>\n",
       "<p>2 rows × 21 columns</p>\n",
       "</div>"
      ],
      "text/plain": [
       "        Property_type Property_status Property_building_status  City_name  \\\n",
       "230  Residential Plot   Ready to move                   ACTIVE  Ahmedabad   \n",
       "232  Residential Plot   Ready to move                   ACTIVE  Ahmedabad   \n",
       "\n",
       "    No_of_BHK  Locality_ID Locality_Name  Sub_urban_name is_furnished  \\\n",
       "230     0 BHK        52097        Sanand  Ahmedabad West  Unfurnished   \n",
       "232     0 BHK        52097        Sanand  Ahmedabad West  Unfurnished   \n",
       "\n",
       "     listing_domain_score  ...  is_RERA_registered  is_Apartment  \\\n",
       "230                   4.0  ...               False         False   \n",
       "232                   4.0  ...               False         False   \n",
       "\n",
       "     is_ready_to_move  is_commercial_Listing  is_PentaHouse  is_studio  \\\n",
       "230              True                  False          False      False   \n",
       "232              True                  False          False      False   \n",
       "\n",
       "     Listing_Category      Price_range Size_range          Posted_On_range  \n",
       "230              sell  low_price_range      >1400  => 1 month and < 1 year  \n",
       "232              sell  low_price_range      >1400  => 1 month and < 1 year  \n",
       "\n",
       "[2 rows x 21 columns]"
      ]
     },
     "execution_count": 89,
     "metadata": {},
     "output_type": "execute_result"
    }
   ],
   "source": [
    "property_data[property_data[\"is_plot\"] == True].head(2)"
   ]
  },
  {
   "cell_type": "markdown",
   "id": "2394bd68",
   "metadata": {},
   "source": [
    "- Dimension 'is_plot' has 2 distinct values and it indicates that whether a property is a 'Residential Plot' or not.\n",
    "- We can see from above that 'is_plot'==True can also be represented by value 'Residential Plot' in the dimension 'Property_type'. Given this correlation, we can remove the dimension 'is_plot'."
   ]
  },
  {
   "cell_type": "code",
   "execution_count": 90,
   "id": "daa8fa69",
   "metadata": {},
   "outputs": [],
   "source": [
    "property_data.drop(['is_plot'], axis=1, inplace=True)     # Remove the mentioned column"
   ]
  },
  {
   "cell_type": "markdown",
   "id": "ec47190c",
   "metadata": {},
   "source": [
    "----"
   ]
  },
  {
   "cell_type": "code",
   "execution_count": 91,
   "id": "c42ffa77",
   "metadata": {},
   "outputs": [
    {
     "name": "stdout",
     "output_type": "stream",
     "text": [
      "Unique values in coloumn 'is_RERA_registered':\n",
      " [ True False]\n",
      ".......................................................................\n",
      "Number of unique values: 2\n"
     ]
    }
   ],
   "source": [
    "print(\"Unique values in coloumn 'is_RERA_registered':\\n\", property_data[\"is_RERA_registered\"].unique())\n",
    "print(\".......................................................................\")\n",
    "print(\"Number of unique values:\", property_data[\"is_RERA_registered\"].nunique())"
   ]
  },
  {
   "cell_type": "markdown",
   "id": "590c46f5",
   "metadata": {},
   "source": [
    "- The dimension 'is_RERA_registered' has 2 distinct values and is already in a generalized form."
   ]
  },
  {
   "cell_type": "markdown",
   "id": "fadfc79d",
   "metadata": {},
   "source": [
    "----"
   ]
  },
  {
   "cell_type": "code",
   "execution_count": 92,
   "id": "e26432a4",
   "metadata": {},
   "outputs": [
    {
     "name": "stdout",
     "output_type": "stream",
     "text": [
      "Unique values in coloumn 'is_Apartment':\n",
      " [ True False]\n",
      ".......................................................................\n",
      "Number of unique values: 2\n"
     ]
    }
   ],
   "source": [
    "print(\"Unique values in coloumn 'is_Apartment':\\n\", property_data[\"is_Apartment\"].unique())\n",
    "print(\".......................................................................\")\n",
    "print(\"Number of unique values:\", property_data[\"is_Apartment\"].nunique())"
   ]
  },
  {
   "cell_type": "code",
   "execution_count": 93,
   "id": "b9aaf7b1",
   "metadata": {},
   "outputs": [
    {
     "data": {
      "text/html": [
       "<div>\n",
       "<style scoped>\n",
       "    .dataframe tbody tr th:only-of-type {\n",
       "        vertical-align: middle;\n",
       "    }\n",
       "\n",
       "    .dataframe tbody tr th {\n",
       "        vertical-align: top;\n",
       "    }\n",
       "\n",
       "    .dataframe thead th {\n",
       "        text-align: right;\n",
       "    }\n",
       "</style>\n",
       "<table border=\"1\" class=\"dataframe\">\n",
       "  <thead>\n",
       "    <tr style=\"text-align: right;\">\n",
       "      <th></th>\n",
       "      <th>Property_type</th>\n",
       "      <th>Property_status</th>\n",
       "      <th>Property_building_status</th>\n",
       "      <th>City_name</th>\n",
       "      <th>No_of_BHK</th>\n",
       "      <th>Locality_ID</th>\n",
       "      <th>Locality_Name</th>\n",
       "      <th>Sub_urban_name</th>\n",
       "      <th>is_furnished</th>\n",
       "      <th>listing_domain_score</th>\n",
       "      <th>is_RERA_registered</th>\n",
       "      <th>is_Apartment</th>\n",
       "      <th>is_ready_to_move</th>\n",
       "      <th>is_commercial_Listing</th>\n",
       "      <th>is_PentaHouse</th>\n",
       "      <th>is_studio</th>\n",
       "      <th>Listing_Category</th>\n",
       "      <th>Price_range</th>\n",
       "      <th>Size_range</th>\n",
       "      <th>Posted_On_range</th>\n",
       "    </tr>\n",
       "  </thead>\n",
       "  <tbody>\n",
       "    <tr>\n",
       "      <th>0</th>\n",
       "      <td>Apartment</td>\n",
       "      <td>Under Construction</td>\n",
       "      <td>ACTIVE</td>\n",
       "      <td>Ahmedabad</td>\n",
       "      <td>3 BHK</td>\n",
       "      <td>51907</td>\n",
       "      <td>Bopal</td>\n",
       "      <td>Ahmedabad West</td>\n",
       "      <td>Unfurnished</td>\n",
       "      <td>4.0</td>\n",
       "      <td>True</td>\n",
       "      <td>True</td>\n",
       "      <td>False</td>\n",
       "      <td>False</td>\n",
       "      <td>False</td>\n",
       "      <td>False</td>\n",
       "      <td>sell</td>\n",
       "      <td>mid_price_range</td>\n",
       "      <td>&gt;1400</td>\n",
       "      <td>=&gt; 1 day and &lt; 1 month</td>\n",
       "    </tr>\n",
       "    <tr>\n",
       "      <th>1</th>\n",
       "      <td>Apartment</td>\n",
       "      <td>Under Construction</td>\n",
       "      <td>ACTIVE</td>\n",
       "      <td>Ahmedabad</td>\n",
       "      <td>4 BHK</td>\n",
       "      <td>56407</td>\n",
       "      <td>Ambli</td>\n",
       "      <td>Ahmedabad West</td>\n",
       "      <td>Unfurnished</td>\n",
       "      <td>4.0</td>\n",
       "      <td>True</td>\n",
       "      <td>True</td>\n",
       "      <td>False</td>\n",
       "      <td>False</td>\n",
       "      <td>False</td>\n",
       "      <td>False</td>\n",
       "      <td>sell</td>\n",
       "      <td>high_price_range</td>\n",
       "      <td>&gt;1400</td>\n",
       "      <td>=&gt; 1 day and &lt; 1 month</td>\n",
       "    </tr>\n",
       "  </tbody>\n",
       "</table>\n",
       "</div>"
      ],
      "text/plain": [
       "  Property_type     Property_status Property_building_status  City_name  \\\n",
       "0     Apartment  Under Construction                   ACTIVE  Ahmedabad   \n",
       "1     Apartment  Under Construction                   ACTIVE  Ahmedabad   \n",
       "\n",
       "  No_of_BHK  Locality_ID Locality_Name  Sub_urban_name is_furnished  \\\n",
       "0     3 BHK        51907         Bopal  Ahmedabad West  Unfurnished   \n",
       "1     4 BHK        56407         Ambli  Ahmedabad West  Unfurnished   \n",
       "\n",
       "   listing_domain_score  is_RERA_registered  is_Apartment  is_ready_to_move  \\\n",
       "0                   4.0                True          True             False   \n",
       "1                   4.0                True          True             False   \n",
       "\n",
       "   is_commercial_Listing  is_PentaHouse  is_studio Listing_Category  \\\n",
       "0                  False          False      False             sell   \n",
       "1                  False          False      False             sell   \n",
       "\n",
       "        Price_range Size_range         Posted_On_range  \n",
       "0   mid_price_range      >1400  => 1 day and < 1 month  \n",
       "1  high_price_range      >1400  => 1 day and < 1 month  "
      ]
     },
     "execution_count": 93,
     "metadata": {},
     "output_type": "execute_result"
    }
   ],
   "source": [
    "property_data[property_data[\"is_Apartment\"] == True].head(2)"
   ]
  },
  {
   "cell_type": "markdown",
   "id": "d83693a4",
   "metadata": {},
   "source": [
    "- Dimension 'is_Apartment' has 2 distinct values and it indicates that whether a property is an 'Apartment' or not.\n",
    "- We can see from above that 'is_Apartment'==True can also be represented by value 'Apartment' in the dimension 'Property_type'. Given this correlation, we can remove the dimension 'is_Apartment'."
   ]
  },
  {
   "cell_type": "code",
   "execution_count": 94,
   "id": "bf6d6f6c",
   "metadata": {},
   "outputs": [],
   "source": [
    "property_data.drop(['is_Apartment'], axis=1, inplace=True)     # Remove the mentioned column"
   ]
  },
  {
   "cell_type": "markdown",
   "id": "5591d1cf",
   "metadata": {},
   "source": [
    "----"
   ]
  },
  {
   "cell_type": "code",
   "execution_count": 95,
   "id": "ac329bbd",
   "metadata": {},
   "outputs": [
    {
     "name": "stdout",
     "output_type": "stream",
     "text": [
      "Unique values in coloumn 'is_ready_to_move':\n",
      " [False  True]\n",
      ".......................................................................\n",
      "Number of unique values: 2\n"
     ]
    }
   ],
   "source": [
    "print(\"Unique values in coloumn 'is_ready_to_move':\\n\", property_data[\"is_ready_to_move\"].unique())\n",
    "print(\".......................................................................\")\n",
    "print(\"Number of unique values:\", property_data[\"is_ready_to_move\"].nunique())"
   ]
  },
  {
   "cell_type": "code",
   "execution_count": 96,
   "id": "c541ea3e",
   "metadata": {},
   "outputs": [
    {
     "data": {
      "text/html": [
       "<div>\n",
       "<style scoped>\n",
       "    .dataframe tbody tr th:only-of-type {\n",
       "        vertical-align: middle;\n",
       "    }\n",
       "\n",
       "    .dataframe tbody tr th {\n",
       "        vertical-align: top;\n",
       "    }\n",
       "\n",
       "    .dataframe thead th {\n",
       "        text-align: right;\n",
       "    }\n",
       "</style>\n",
       "<table border=\"1\" class=\"dataframe\">\n",
       "  <thead>\n",
       "    <tr style=\"text-align: right;\">\n",
       "      <th></th>\n",
       "      <th>Property_type</th>\n",
       "      <th>Property_status</th>\n",
       "      <th>Property_building_status</th>\n",
       "      <th>City_name</th>\n",
       "      <th>No_of_BHK</th>\n",
       "      <th>Locality_ID</th>\n",
       "      <th>Locality_Name</th>\n",
       "      <th>Sub_urban_name</th>\n",
       "      <th>is_furnished</th>\n",
       "      <th>listing_domain_score</th>\n",
       "      <th>is_RERA_registered</th>\n",
       "      <th>is_ready_to_move</th>\n",
       "      <th>is_commercial_Listing</th>\n",
       "      <th>is_PentaHouse</th>\n",
       "      <th>is_studio</th>\n",
       "      <th>Listing_Category</th>\n",
       "      <th>Price_range</th>\n",
       "      <th>Size_range</th>\n",
       "      <th>Posted_On_range</th>\n",
       "    </tr>\n",
       "  </thead>\n",
       "  <tbody>\n",
       "    <tr>\n",
       "      <th>2</th>\n",
       "      <td>Apartment</td>\n",
       "      <td>Ready to move</td>\n",
       "      <td>ACTIVE</td>\n",
       "      <td>Ahmedabad</td>\n",
       "      <td>3 BHK</td>\n",
       "      <td>66627</td>\n",
       "      <td>Naryanpura</td>\n",
       "      <td>Ahmedabad West</td>\n",
       "      <td>Unfurnished</td>\n",
       "      <td>4.0</td>\n",
       "      <td>False</td>\n",
       "      <td>True</td>\n",
       "      <td>False</td>\n",
       "      <td>False</td>\n",
       "      <td>False</td>\n",
       "      <td>sell</td>\n",
       "      <td>mid_price_range</td>\n",
       "      <td>&gt;1400</td>\n",
       "      <td>=&gt; 1 day and &lt; 1 month</td>\n",
       "    </tr>\n",
       "    <tr>\n",
       "      <th>3</th>\n",
       "      <td>Apartment</td>\n",
       "      <td>Ready to move</td>\n",
       "      <td>ACTIVE</td>\n",
       "      <td>Ahmedabad</td>\n",
       "      <td>2 BHK</td>\n",
       "      <td>51899</td>\n",
       "      <td>Changodar</td>\n",
       "      <td>Ahmedabad South</td>\n",
       "      <td>Unfurnished</td>\n",
       "      <td>4.0</td>\n",
       "      <td>False</td>\n",
       "      <td>True</td>\n",
       "      <td>False</td>\n",
       "      <td>False</td>\n",
       "      <td>False</td>\n",
       "      <td>sell</td>\n",
       "      <td>low_price_range</td>\n",
       "      <td>900-1000</td>\n",
       "      <td>=&gt; 1 day and &lt; 1 month</td>\n",
       "    </tr>\n",
       "  </tbody>\n",
       "</table>\n",
       "</div>"
      ],
      "text/plain": [
       "  Property_type Property_status Property_building_status  City_name No_of_BHK  \\\n",
       "2     Apartment   Ready to move                   ACTIVE  Ahmedabad     3 BHK   \n",
       "3     Apartment   Ready to move                   ACTIVE  Ahmedabad     2 BHK   \n",
       "\n",
       "   Locality_ID Locality_Name   Sub_urban_name is_furnished  \\\n",
       "2        66627    Naryanpura   Ahmedabad West  Unfurnished   \n",
       "3        51899     Changodar  Ahmedabad South  Unfurnished   \n",
       "\n",
       "   listing_domain_score  is_RERA_registered  is_ready_to_move  \\\n",
       "2                   4.0               False              True   \n",
       "3                   4.0               False              True   \n",
       "\n",
       "   is_commercial_Listing  is_PentaHouse  is_studio Listing_Category  \\\n",
       "2                  False          False      False             sell   \n",
       "3                  False          False      False             sell   \n",
       "\n",
       "       Price_range Size_range         Posted_On_range  \n",
       "2  mid_price_range      >1400  => 1 day and < 1 month  \n",
       "3  low_price_range   900-1000  => 1 day and < 1 month  "
      ]
     },
     "execution_count": 96,
     "metadata": {},
     "output_type": "execute_result"
    }
   ],
   "source": [
    "property_data[property_data[\"is_ready_to_move\"] == True].head(2)"
   ]
  },
  {
   "cell_type": "markdown",
   "id": "102ccaa7",
   "metadata": {},
   "source": [
    "- Dimension 'is_ready_to_move' has 2 distinct values and it indicates that whether a property status is 'is_ready_to_move' or not.\n",
    "- We can see from above that 'is_ready_to_move'==True can also be represented by value 'Ready to move' in the dimension 'Property_status'. Given this correlation, we can remove the dimension 'is_ready_to_move'."
   ]
  },
  {
   "cell_type": "code",
   "execution_count": 97,
   "id": "086771c4",
   "metadata": {},
   "outputs": [],
   "source": [
    "property_data.drop(['is_ready_to_move'], axis=1, inplace=True)     # Remove the mentioned column"
   ]
  },
  {
   "cell_type": "markdown",
   "id": "d83542f7",
   "metadata": {},
   "source": [
    "----"
   ]
  },
  {
   "cell_type": "code",
   "execution_count": 98,
   "id": "1082b8e9",
   "metadata": {},
   "outputs": [
    {
     "name": "stdout",
     "output_type": "stream",
     "text": [
      "Unique values in coloumn 'is_commercial_Listing':\n",
      " [False]\n",
      ".......................................................................\n",
      "Number of unique values: 1\n"
     ]
    }
   ],
   "source": [
    "print(\"Unique values in coloumn 'is_commercial_Listing':\\n\", property_data[\"is_commercial_Listing\"].unique())\n",
    "print(\".......................................................................\")\n",
    "print(\"Number of unique values:\", property_data[\"is_commercial_Listing\"].nunique())"
   ]
  },
  {
   "cell_type": "markdown",
   "id": "f2b55db1",
   "metadata": {},
   "source": [
    "- Dimension 'is_commercial_Listing' has only one value and therefore can be removed."
   ]
  },
  {
   "cell_type": "code",
   "execution_count": 99,
   "id": "702395cb",
   "metadata": {},
   "outputs": [],
   "source": [
    "property_data.drop(['is_commercial_Listing'], axis=1, inplace=True)     # Remove the mentioned column"
   ]
  },
  {
   "cell_type": "markdown",
   "id": "373cd2c2",
   "metadata": {},
   "source": [
    "----"
   ]
  },
  {
   "cell_type": "markdown",
   "id": "bf2083d6",
   "metadata": {},
   "source": [
    "- Now let us analyze the columns 'is_Pentahouse' and 'is_studio'"
   ]
  },
  {
   "cell_type": "code",
   "execution_count": 100,
   "id": "59bc6087",
   "metadata": {},
   "outputs": [
    {
     "name": "stdout",
     "output_type": "stream",
     "text": [
      "Unique values in coloumn 'is_PentaHouse':\n",
      " [False  True]\n",
      ".......................................................................\n",
      "Number of unique values: 2\n"
     ]
    }
   ],
   "source": [
    "print(\"Unique values in coloumn 'is_PentaHouse':\\n\", property_data[\"is_PentaHouse\"].unique())\n",
    "print(\".......................................................................\")\n",
    "print(\"Number of unique values:\", property_data[\"is_PentaHouse\"].nunique())"
   ]
  },
  {
   "cell_type": "code",
   "execution_count": 101,
   "id": "68259968",
   "metadata": {},
   "outputs": [
    {
     "name": "stdout",
     "output_type": "stream",
     "text": [
      "Unique values in coloumn 'is_studio':\n",
      " [False  True]\n",
      ".......................................................................\n",
      "Number of unique values: 2\n"
     ]
    }
   ],
   "source": [
    "print(\"Unique values in coloumn 'is_studio':\\n\", property_data[\"is_studio\"].unique())\n",
    "print(\".......................................................................\")\n",
    "print(\"Number of unique values:\", property_data[\"is_studio\"].nunique())"
   ]
  },
  {
   "cell_type": "markdown",
   "id": "56be3d9d",
   "metadata": {},
   "source": [
    "- We know that both Pentahouse and Studio are a type of apartment.\n",
    "- Let us see how we can perform AOI, by incorporating value 'Pentahouse' and 'Studio' in the dimension 'Property_type' thus reducing the total number of dimensions without losing out on important information."
   ]
  },
  {
   "cell_type": "code",
   "execution_count": 102,
   "id": "2ebbb440",
   "metadata": {},
   "outputs": [
    {
     "data": {
      "text/html": [
       "<div>\n",
       "<style scoped>\n",
       "    .dataframe tbody tr th:only-of-type {\n",
       "        vertical-align: middle;\n",
       "    }\n",
       "\n",
       "    .dataframe tbody tr th {\n",
       "        vertical-align: top;\n",
       "    }\n",
       "\n",
       "    .dataframe thead th {\n",
       "        text-align: right;\n",
       "    }\n",
       "</style>\n",
       "<table border=\"1\" class=\"dataframe\">\n",
       "  <thead>\n",
       "    <tr style=\"text-align: right;\">\n",
       "      <th></th>\n",
       "      <th>Property_type</th>\n",
       "    </tr>\n",
       "  </thead>\n",
       "  <tbody>\n",
       "  </tbody>\n",
       "</table>\n",
       "</div>"
      ],
      "text/plain": [
       "Empty DataFrame\n",
       "Columns: [Property_type]\n",
       "Index: []"
      ]
     },
     "metadata": {},
     "output_type": "display_data"
    }
   ],
   "source": [
    "display(property_data.loc[(property_data['is_PentaHouse']==True) & (property_data['is_studio']==True) & (property_data['Property_type'].str.startswith('Apartment')), ['Property_type']])"
   ]
  },
  {
   "cell_type": "markdown",
   "id": "c1d9f278",
   "metadata": {},
   "source": [
    "- The above output shows that an apartment can never be both 'Pentahouse' and 'Studio' at the same time (which confirms to our intuitive understanding)."
   ]
  },
  {
   "cell_type": "code",
   "execution_count": 103,
   "id": "36014c52",
   "metadata": {},
   "outputs": [
    {
     "data": {
      "text/html": [
       "<div>\n",
       "<style scoped>\n",
       "    .dataframe tbody tr th:only-of-type {\n",
       "        vertical-align: middle;\n",
       "    }\n",
       "\n",
       "    .dataframe tbody tr th {\n",
       "        vertical-align: top;\n",
       "    }\n",
       "\n",
       "    .dataframe thead th {\n",
       "        text-align: right;\n",
       "    }\n",
       "</style>\n",
       "<table border=\"1\" class=\"dataframe\">\n",
       "  <thead>\n",
       "    <tr style=\"text-align: right;\">\n",
       "      <th></th>\n",
       "      <th>Property_type</th>\n",
       "    </tr>\n",
       "  </thead>\n",
       "  <tbody>\n",
       "    <tr>\n",
       "      <th>0</th>\n",
       "      <td>Apartment</td>\n",
       "    </tr>\n",
       "    <tr>\n",
       "      <th>1</th>\n",
       "      <td>Apartment</td>\n",
       "    </tr>\n",
       "    <tr>\n",
       "      <th>2</th>\n",
       "      <td>Apartment</td>\n",
       "    </tr>\n",
       "    <tr>\n",
       "      <th>3</th>\n",
       "      <td>Apartment</td>\n",
       "    </tr>\n",
       "    <tr>\n",
       "      <th>4</th>\n",
       "      <td>Apartment</td>\n",
       "    </tr>\n",
       "    <tr>\n",
       "      <th>...</th>\n",
       "      <td>...</td>\n",
       "    </tr>\n",
       "    <tr>\n",
       "      <th>143703</th>\n",
       "      <td>Apartment</td>\n",
       "    </tr>\n",
       "    <tr>\n",
       "      <th>143704</th>\n",
       "      <td>Apartment</td>\n",
       "    </tr>\n",
       "    <tr>\n",
       "      <th>143705</th>\n",
       "      <td>Apartment</td>\n",
       "    </tr>\n",
       "    <tr>\n",
       "      <th>143706</th>\n",
       "      <td>Apartment</td>\n",
       "    </tr>\n",
       "    <tr>\n",
       "      <th>143707</th>\n",
       "      <td>Apartment</td>\n",
       "    </tr>\n",
       "  </tbody>\n",
       "</table>\n",
       "<p>129823 rows × 1 columns</p>\n",
       "</div>"
      ],
      "text/plain": [
       "       Property_type\n",
       "0          Apartment\n",
       "1          Apartment\n",
       "2          Apartment\n",
       "3          Apartment\n",
       "4          Apartment\n",
       "...              ...\n",
       "143703     Apartment\n",
       "143704     Apartment\n",
       "143705     Apartment\n",
       "143706     Apartment\n",
       "143707     Apartment\n",
       "\n",
       "[129823 rows x 1 columns]"
      ]
     },
     "metadata": {},
     "output_type": "display_data"
    }
   ],
   "source": [
    "display(property_data.loc[(property_data['is_PentaHouse']==False) & (property_data['is_studio']==False) & (property_data['Property_type'].str.startswith('Apartment')), ['Property_type']])"
   ]
  },
  {
   "cell_type": "markdown",
   "id": "12e2b7d6",
   "metadata": {},
   "source": [
    "- The above output shows that an apartment need not be either a 'Pentahouse' or 'Studio'."
   ]
  },
  {
   "cell_type": "markdown",
   "id": "e8914cb7",
   "metadata": {},
   "source": [
    "- Equipped with this knowledge, let's incorporate two more values in the dimension 'Property_type', i.e., `Pentahouse_Apartment` and `Studio_Apartment`.\n",
    "- This will lead to overall 7 values in the dimension 'Property_type'."
   ]
  },
  {
   "cell_type": "code",
   "execution_count": 104,
   "id": "aea49160",
   "metadata": {},
   "outputs": [],
   "source": [
    "property_data.loc[property_data[\"is_PentaHouse\"]==True, \"Property_type\"] = 'Pentahouse_Apartment'\n",
    "property_data.loc[property_data[\"is_studio\"]==True, \"Property_type\"] = 'Studio_Apartment'"
   ]
  },
  {
   "cell_type": "markdown",
   "id": "a54e99de",
   "metadata": {},
   "source": [
    "- Let's see the value of dimension 'Property_type' if 'is_studio'==True"
   ]
  },
  {
   "cell_type": "code",
   "execution_count": 105,
   "id": "eecdd843",
   "metadata": {},
   "outputs": [
    {
     "data": {
      "text/html": [
       "<div>\n",
       "<style scoped>\n",
       "    .dataframe tbody tr th:only-of-type {\n",
       "        vertical-align: middle;\n",
       "    }\n",
       "\n",
       "    .dataframe tbody tr th {\n",
       "        vertical-align: top;\n",
       "    }\n",
       "\n",
       "    .dataframe thead th {\n",
       "        text-align: right;\n",
       "    }\n",
       "</style>\n",
       "<table border=\"1\" class=\"dataframe\">\n",
       "  <thead>\n",
       "    <tr style=\"text-align: right;\">\n",
       "      <th></th>\n",
       "      <th>Property_type</th>\n",
       "      <th>Property_status</th>\n",
       "      <th>Property_building_status</th>\n",
       "      <th>City_name</th>\n",
       "      <th>No_of_BHK</th>\n",
       "      <th>Locality_ID</th>\n",
       "      <th>Locality_Name</th>\n",
       "      <th>Sub_urban_name</th>\n",
       "      <th>is_furnished</th>\n",
       "      <th>listing_domain_score</th>\n",
       "      <th>is_RERA_registered</th>\n",
       "      <th>is_PentaHouse</th>\n",
       "      <th>is_studio</th>\n",
       "      <th>Listing_Category</th>\n",
       "      <th>Price_range</th>\n",
       "      <th>Size_range</th>\n",
       "      <th>Posted_On_range</th>\n",
       "    </tr>\n",
       "  </thead>\n",
       "  <tbody>\n",
       "    <tr>\n",
       "      <th>169</th>\n",
       "      <td>Studio_Apartment</td>\n",
       "      <td>Ready to move</td>\n",
       "      <td>ACTIVE</td>\n",
       "      <td>Ahmedabad</td>\n",
       "      <td>1 RK</td>\n",
       "      <td>51950</td>\n",
       "      <td>Sarkhej</td>\n",
       "      <td>Ahmedabad West</td>\n",
       "      <td>Furnished</td>\n",
       "      <td>4.0</td>\n",
       "      <td>False</td>\n",
       "      <td>False</td>\n",
       "      <td>True</td>\n",
       "      <td>sell</td>\n",
       "      <td>low_price_range</td>\n",
       "      <td>400-500</td>\n",
       "      <td>=&gt; 1 day and &lt; 1 month</td>\n",
       "    </tr>\n",
       "    <tr>\n",
       "      <th>1541</th>\n",
       "      <td>Studio_Apartment</td>\n",
       "      <td>Ready to move</td>\n",
       "      <td>ACTIVE</td>\n",
       "      <td>Ahmedabad</td>\n",
       "      <td>1 RK</td>\n",
       "      <td>52272</td>\n",
       "      <td>Narolgam</td>\n",
       "      <td>Ahmedabad South</td>\n",
       "      <td>Unfurnished</td>\n",
       "      <td>4.0</td>\n",
       "      <td>False</td>\n",
       "      <td>False</td>\n",
       "      <td>True</td>\n",
       "      <td>sell</td>\n",
       "      <td>low_price_range</td>\n",
       "      <td>700-800</td>\n",
       "      <td>=&gt; 1 day and &lt; 1 month</td>\n",
       "    </tr>\n",
       "  </tbody>\n",
       "</table>\n",
       "</div>"
      ],
      "text/plain": [
       "         Property_type Property_status Property_building_status  City_name  \\\n",
       "169   Studio_Apartment   Ready to move                   ACTIVE  Ahmedabad   \n",
       "1541  Studio_Apartment   Ready to move                   ACTIVE  Ahmedabad   \n",
       "\n",
       "     No_of_BHK  Locality_ID Locality_Name   Sub_urban_name is_furnished  \\\n",
       "169       1 RK        51950       Sarkhej   Ahmedabad West    Furnished   \n",
       "1541      1 RK        52272      Narolgam  Ahmedabad South  Unfurnished   \n",
       "\n",
       "      listing_domain_score  is_RERA_registered  is_PentaHouse  is_studio  \\\n",
       "169                    4.0               False          False       True   \n",
       "1541                   4.0               False          False       True   \n",
       "\n",
       "     Listing_Category      Price_range Size_range         Posted_On_range  \n",
       "169              sell  low_price_range    400-500  => 1 day and < 1 month  \n",
       "1541             sell  low_price_range    700-800  => 1 day and < 1 month  "
      ]
     },
     "execution_count": 105,
     "metadata": {},
     "output_type": "execute_result"
    }
   ],
   "source": [
    "property_data[property_data[\"is_studio\"] == True].head(2)"
   ]
  },
  {
   "cell_type": "markdown",
   "id": "940b394c",
   "metadata": {},
   "source": [
    "- Similarly, let's see the value of dimension 'Property_type' if 'is_PentaHouse'==True"
   ]
  },
  {
   "cell_type": "code",
   "execution_count": 106,
   "id": "e49b2ded",
   "metadata": {},
   "outputs": [
    {
     "data": {
      "text/html": [
       "<div>\n",
       "<style scoped>\n",
       "    .dataframe tbody tr th:only-of-type {\n",
       "        vertical-align: middle;\n",
       "    }\n",
       "\n",
       "    .dataframe tbody tr th {\n",
       "        vertical-align: top;\n",
       "    }\n",
       "\n",
       "    .dataframe thead th {\n",
       "        text-align: right;\n",
       "    }\n",
       "</style>\n",
       "<table border=\"1\" class=\"dataframe\">\n",
       "  <thead>\n",
       "    <tr style=\"text-align: right;\">\n",
       "      <th></th>\n",
       "      <th>Property_type</th>\n",
       "      <th>Property_status</th>\n",
       "      <th>Property_building_status</th>\n",
       "      <th>City_name</th>\n",
       "      <th>No_of_BHK</th>\n",
       "      <th>Locality_ID</th>\n",
       "      <th>Locality_Name</th>\n",
       "      <th>Sub_urban_name</th>\n",
       "      <th>is_furnished</th>\n",
       "      <th>listing_domain_score</th>\n",
       "      <th>is_RERA_registered</th>\n",
       "      <th>is_PentaHouse</th>\n",
       "      <th>is_studio</th>\n",
       "      <th>Listing_Category</th>\n",
       "      <th>Price_range</th>\n",
       "      <th>Size_range</th>\n",
       "      <th>Posted_On_range</th>\n",
       "    </tr>\n",
       "  </thead>\n",
       "  <tbody>\n",
       "    <tr>\n",
       "      <th>5843</th>\n",
       "      <td>Pentahouse_Apartment</td>\n",
       "      <td>Ready to move</td>\n",
       "      <td>ACTIVE</td>\n",
       "      <td>Ahmedabad</td>\n",
       "      <td>3 BHK</td>\n",
       "      <td>51932</td>\n",
       "      <td>Motera</td>\n",
       "      <td>Ahmedabad North</td>\n",
       "      <td>Semi-Furnished</td>\n",
       "      <td>4.0</td>\n",
       "      <td>False</td>\n",
       "      <td>True</td>\n",
       "      <td>False</td>\n",
       "      <td>sell</td>\n",
       "      <td>mid_price_range</td>\n",
       "      <td>1000-1100</td>\n",
       "      <td>=&gt; 1 month and &lt; 1 year</td>\n",
       "    </tr>\n",
       "    <tr>\n",
       "      <th>5997</th>\n",
       "      <td>Pentahouse_Apartment</td>\n",
       "      <td>Ready to move</td>\n",
       "      <td>ACTIVE</td>\n",
       "      <td>Ahmedabad</td>\n",
       "      <td>2 BHK</td>\n",
       "      <td>51927</td>\n",
       "      <td>Vasna</td>\n",
       "      <td>Ahmedabad Central</td>\n",
       "      <td>Semi-Furnished</td>\n",
       "      <td>4.0</td>\n",
       "      <td>False</td>\n",
       "      <td>True</td>\n",
       "      <td>False</td>\n",
       "      <td>sell</td>\n",
       "      <td>mid_price_range</td>\n",
       "      <td>1000-1100</td>\n",
       "      <td>=&gt; 1 month and &lt; 1 year</td>\n",
       "    </tr>\n",
       "  </tbody>\n",
       "</table>\n",
       "</div>"
      ],
      "text/plain": [
       "             Property_type Property_status Property_building_status  \\\n",
       "5843  Pentahouse_Apartment   Ready to move                   ACTIVE   \n",
       "5997  Pentahouse_Apartment   Ready to move                   ACTIVE   \n",
       "\n",
       "      City_name No_of_BHK  Locality_ID Locality_Name     Sub_urban_name  \\\n",
       "5843  Ahmedabad     3 BHK        51932        Motera    Ahmedabad North   \n",
       "5997  Ahmedabad     2 BHK        51927         Vasna  Ahmedabad Central   \n",
       "\n",
       "        is_furnished  listing_domain_score  is_RERA_registered  is_PentaHouse  \\\n",
       "5843  Semi-Furnished                   4.0               False           True   \n",
       "5997  Semi-Furnished                   4.0               False           True   \n",
       "\n",
       "      is_studio Listing_Category      Price_range Size_range  \\\n",
       "5843      False             sell  mid_price_range  1000-1100   \n",
       "5997      False             sell  mid_price_range  1000-1100   \n",
       "\n",
       "              Posted_On_range  \n",
       "5843  => 1 month and < 1 year  \n",
       "5997  => 1 month and < 1 year  "
      ]
     },
     "execution_count": 106,
     "metadata": {},
     "output_type": "execute_result"
    }
   ],
   "source": [
    "property_data[property_data[\"is_PentaHouse\"] == True].head(2)"
   ]
  },
  {
   "cell_type": "markdown",
   "id": "1c6b1729",
   "metadata": {},
   "source": [
    "- Let's verify the values of the dimension 'Property_type'."
   ]
  },
  {
   "cell_type": "code",
   "execution_count": 107,
   "id": "dd3ce69b",
   "metadata": {},
   "outputs": [
    {
     "name": "stdout",
     "output_type": "stream",
     "text": [
      "Unique values in coloumn 'Property_type':\n",
      " ['Apartment' 'Independent House' 'Villa' 'Independent Floor'\n",
      " 'Studio_Apartment' 'Residential Plot' 'Pentahouse_Apartment']\n",
      ".......................................................................\n",
      "Number of unique values: 7\n"
     ]
    }
   ],
   "source": [
    "print(\"Unique values in coloumn 'Property_type':\\n\", property_data[\"Property_type\"].unique())\n",
    "print(\".......................................................................\")\n",
    "print(\"Number of unique values:\", property_data[\"Property_type\"].nunique())"
   ]
  },
  {
   "cell_type": "markdown",
   "id": "cc2ed655",
   "metadata": {},
   "source": [
    "- Let's drop the dimensions 'is_PentaHouse' and 'is_studio', as they have been successfully incorporated."
   ]
  },
  {
   "cell_type": "code",
   "execution_count": 108,
   "id": "bea0a093",
   "metadata": {},
   "outputs": [],
   "source": [
    "property_data.drop(['is_PentaHouse', 'is_studio'], axis=1, inplace=True)     # Remove the mentioned two columns"
   ]
  },
  {
   "cell_type": "markdown",
   "id": "62092891",
   "metadata": {},
   "source": [
    "----"
   ]
  },
  {
   "cell_type": "code",
   "execution_count": 109,
   "id": "197443b8",
   "metadata": {},
   "outputs": [
    {
     "name": "stdout",
     "output_type": "stream",
     "text": [
      "Unique values in coloumn 'Listing_Category':\n",
      " ['sell']\n",
      ".......................................................................\n",
      "Number of unique values: 1\n"
     ]
    }
   ],
   "source": [
    "print(\"Unique values in coloumn 'Listing_Category':\\n\", property_data[\"Listing_Category\"].unique())\n",
    "print(\".......................................................................\")\n",
    "print(\"Number of unique values:\", property_data[\"Listing_Category\"].nunique())"
   ]
  },
  {
   "cell_type": "markdown",
   "id": "ca968047",
   "metadata": {},
   "source": [
    "- Dimension 'Listing_Category' has only one value and therefore can be removed."
   ]
  },
  {
   "cell_type": "code",
   "execution_count": 110,
   "id": "93089a96",
   "metadata": {},
   "outputs": [],
   "source": [
    "property_data.drop(['Listing_Category'], axis=1, inplace=True)     # Remove the mentioned column"
   ]
  },
  {
   "cell_type": "markdown",
   "id": "0e5e65ba",
   "metadata": {},
   "source": [
    "----"
   ]
  },
  {
   "cell_type": "code",
   "execution_count": 111,
   "id": "a6a6b814",
   "metadata": {},
   "outputs": [
    {
     "data": {
      "text/plain": [
       "Index(['Property_type', 'Property_status', 'Property_building_status',\n",
       "       'City_name', 'No_of_BHK', 'Locality_ID', 'Locality_Name',\n",
       "       'Sub_urban_name', 'is_furnished', 'listing_domain_score',\n",
       "       'is_RERA_registered', 'Price_range', 'Size_range', 'Posted_On_range'],\n",
       "      dtype='object')"
      ]
     },
     "execution_count": 111,
     "metadata": {},
     "output_type": "execute_result"
    }
   ],
   "source": [
    "property_data.columns"
   ]
  },
  {
   "cell_type": "code",
   "execution_count": 112,
   "id": "5511e7a4",
   "metadata": {},
   "outputs": [
    {
     "name": "stdout",
     "output_type": "stream",
     "text": [
      "Shape of the dataset: (143708, 14)\n"
     ]
    }
   ],
   "source": [
    "print('Shape of the dataset:', property_data.shape)"
   ]
  },
  {
   "cell_type": "markdown",
   "id": "b14c40c9",
   "metadata": {},
   "source": [
    "- As we can observe, after performing AOI, our dimension size has come down from 32 to 14."
   ]
  },
  {
   "cell_type": "markdown",
   "id": "72fdfb48",
   "metadata": {},
   "source": [
    "----"
   ]
  },
  {
   "cell_type": "markdown",
   "id": "c41b56b9",
   "metadata": {},
   "source": [
    "- Final dataframe looks like:"
   ]
  },
  {
   "cell_type": "code",
   "execution_count": 113,
   "id": "86f1e68c",
   "metadata": {},
   "outputs": [
    {
     "data": {
      "text/html": [
       "<div>\n",
       "<style scoped>\n",
       "    .dataframe tbody tr th:only-of-type {\n",
       "        vertical-align: middle;\n",
       "    }\n",
       "\n",
       "    .dataframe tbody tr th {\n",
       "        vertical-align: top;\n",
       "    }\n",
       "\n",
       "    .dataframe thead th {\n",
       "        text-align: right;\n",
       "    }\n",
       "</style>\n",
       "<table border=\"1\" class=\"dataframe\">\n",
       "  <thead>\n",
       "    <tr style=\"text-align: right;\">\n",
       "      <th></th>\n",
       "      <th>Property_type</th>\n",
       "      <th>Property_status</th>\n",
       "      <th>Property_building_status</th>\n",
       "      <th>City_name</th>\n",
       "      <th>No_of_BHK</th>\n",
       "      <th>Locality_ID</th>\n",
       "      <th>Locality_Name</th>\n",
       "      <th>Sub_urban_name</th>\n",
       "      <th>is_furnished</th>\n",
       "      <th>listing_domain_score</th>\n",
       "      <th>is_RERA_registered</th>\n",
       "      <th>Price_range</th>\n",
       "      <th>Size_range</th>\n",
       "      <th>Posted_On_range</th>\n",
       "    </tr>\n",
       "  </thead>\n",
       "  <tbody>\n",
       "    <tr>\n",
       "      <th>0</th>\n",
       "      <td>Apartment</td>\n",
       "      <td>Under Construction</td>\n",
       "      <td>ACTIVE</td>\n",
       "      <td>Ahmedabad</td>\n",
       "      <td>3 BHK</td>\n",
       "      <td>51907</td>\n",
       "      <td>Bopal</td>\n",
       "      <td>Ahmedabad West</td>\n",
       "      <td>Unfurnished</td>\n",
       "      <td>4.0</td>\n",
       "      <td>True</td>\n",
       "      <td>mid_price_range</td>\n",
       "      <td>&gt;1400</td>\n",
       "      <td>=&gt; 1 day and &lt; 1 month</td>\n",
       "    </tr>\n",
       "    <tr>\n",
       "      <th>1</th>\n",
       "      <td>Apartment</td>\n",
       "      <td>Under Construction</td>\n",
       "      <td>ACTIVE</td>\n",
       "      <td>Ahmedabad</td>\n",
       "      <td>4 BHK</td>\n",
       "      <td>56407</td>\n",
       "      <td>Ambli</td>\n",
       "      <td>Ahmedabad West</td>\n",
       "      <td>Unfurnished</td>\n",
       "      <td>4.0</td>\n",
       "      <td>True</td>\n",
       "      <td>high_price_range</td>\n",
       "      <td>&gt;1400</td>\n",
       "      <td>=&gt; 1 day and &lt; 1 month</td>\n",
       "    </tr>\n",
       "    <tr>\n",
       "      <th>2</th>\n",
       "      <td>Apartment</td>\n",
       "      <td>Ready to move</td>\n",
       "      <td>ACTIVE</td>\n",
       "      <td>Ahmedabad</td>\n",
       "      <td>3 BHK</td>\n",
       "      <td>66627</td>\n",
       "      <td>Naryanpura</td>\n",
       "      <td>Ahmedabad West</td>\n",
       "      <td>Unfurnished</td>\n",
       "      <td>4.0</td>\n",
       "      <td>False</td>\n",
       "      <td>mid_price_range</td>\n",
       "      <td>&gt;1400</td>\n",
       "      <td>=&gt; 1 day and &lt; 1 month</td>\n",
       "    </tr>\n",
       "    <tr>\n",
       "      <th>3</th>\n",
       "      <td>Apartment</td>\n",
       "      <td>Ready to move</td>\n",
       "      <td>ACTIVE</td>\n",
       "      <td>Ahmedabad</td>\n",
       "      <td>2 BHK</td>\n",
       "      <td>51899</td>\n",
       "      <td>Changodar</td>\n",
       "      <td>Ahmedabad South</td>\n",
       "      <td>Unfurnished</td>\n",
       "      <td>4.0</td>\n",
       "      <td>False</td>\n",
       "      <td>low_price_range</td>\n",
       "      <td>900-1000</td>\n",
       "      <td>=&gt; 1 day and &lt; 1 month</td>\n",
       "    </tr>\n",
       "    <tr>\n",
       "      <th>4</th>\n",
       "      <td>Apartment</td>\n",
       "      <td>Under Construction</td>\n",
       "      <td>ACTIVE</td>\n",
       "      <td>Ahmedabad</td>\n",
       "      <td>3 BHK</td>\n",
       "      <td>50368</td>\n",
       "      <td>Shilaj</td>\n",
       "      <td>Ahmedabad West</td>\n",
       "      <td>Unfurnished</td>\n",
       "      <td>4.0</td>\n",
       "      <td>True</td>\n",
       "      <td>mid_price_range</td>\n",
       "      <td>&gt;1400</td>\n",
       "      <td>=&gt; 1 day and &lt; 1 month</td>\n",
       "    </tr>\n",
       "    <tr>\n",
       "      <th>5</th>\n",
       "      <td>Apartment</td>\n",
       "      <td>Under Construction</td>\n",
       "      <td>ACTIVE</td>\n",
       "      <td>Ahmedabad</td>\n",
       "      <td>2 BHK</td>\n",
       "      <td>52600</td>\n",
       "      <td>Hathijan</td>\n",
       "      <td>Ahmedabad South</td>\n",
       "      <td>Unfurnished</td>\n",
       "      <td>4.0</td>\n",
       "      <td>True</td>\n",
       "      <td>low_price_range</td>\n",
       "      <td>1300-1400</td>\n",
       "      <td>=&gt; 1 day and &lt; 1 month</td>\n",
       "    </tr>\n",
       "    <tr>\n",
       "      <th>6</th>\n",
       "      <td>Apartment</td>\n",
       "      <td>Under Construction</td>\n",
       "      <td>ACTIVE</td>\n",
       "      <td>Ahmedabad</td>\n",
       "      <td>2 BHK</td>\n",
       "      <td>59110</td>\n",
       "      <td>Tragad</td>\n",
       "      <td>Ahmedabad North</td>\n",
       "      <td>Unfurnished</td>\n",
       "      <td>4.0</td>\n",
       "      <td>True</td>\n",
       "      <td>low_price_range</td>\n",
       "      <td>&gt;1400</td>\n",
       "      <td>=&gt; 1 day and &lt; 1 month</td>\n",
       "    </tr>\n",
       "    <tr>\n",
       "      <th>7</th>\n",
       "      <td>Apartment</td>\n",
       "      <td>Ready to move</td>\n",
       "      <td>ACTIVE</td>\n",
       "      <td>Ahmedabad</td>\n",
       "      <td>3 BHK</td>\n",
       "      <td>52014</td>\n",
       "      <td>Memnagar</td>\n",
       "      <td>Ahmedabad West</td>\n",
       "      <td>Unfurnished</td>\n",
       "      <td>4.0</td>\n",
       "      <td>False</td>\n",
       "      <td>mid_price_range</td>\n",
       "      <td>&gt;1400</td>\n",
       "      <td>=&gt; 1 day and &lt; 1 month</td>\n",
       "    </tr>\n",
       "    <tr>\n",
       "      <th>8</th>\n",
       "      <td>Apartment</td>\n",
       "      <td>Under Construction</td>\n",
       "      <td>ACTIVE</td>\n",
       "      <td>Ahmedabad</td>\n",
       "      <td>3 BHK</td>\n",
       "      <td>59388</td>\n",
       "      <td>Shela</td>\n",
       "      <td>Ahmedabad West</td>\n",
       "      <td>Unfurnished</td>\n",
       "      <td>4.0</td>\n",
       "      <td>True</td>\n",
       "      <td>mid_price_range</td>\n",
       "      <td>&gt;1400</td>\n",
       "      <td>=&gt; 1 day and &lt; 1 month</td>\n",
       "    </tr>\n",
       "    <tr>\n",
       "      <th>9</th>\n",
       "      <td>Apartment</td>\n",
       "      <td>Under Construction</td>\n",
       "      <td>ACTIVE</td>\n",
       "      <td>Ahmedabad</td>\n",
       "      <td>2 BHK</td>\n",
       "      <td>50368</td>\n",
       "      <td>Shilaj</td>\n",
       "      <td>Ahmedabad West</td>\n",
       "      <td>Unfurnished</td>\n",
       "      <td>4.0</td>\n",
       "      <td>True</td>\n",
       "      <td>mid_price_range</td>\n",
       "      <td>1200-1300</td>\n",
       "      <td>=&gt; 1 day and &lt; 1 month</td>\n",
       "    </tr>\n",
       "  </tbody>\n",
       "</table>\n",
       "</div>"
      ],
      "text/plain": [
       "  Property_type     Property_status Property_building_status  City_name  \\\n",
       "0     Apartment  Under Construction                   ACTIVE  Ahmedabad   \n",
       "1     Apartment  Under Construction                   ACTIVE  Ahmedabad   \n",
       "2     Apartment       Ready to move                   ACTIVE  Ahmedabad   \n",
       "3     Apartment       Ready to move                   ACTIVE  Ahmedabad   \n",
       "4     Apartment  Under Construction                   ACTIVE  Ahmedabad   \n",
       "5     Apartment  Under Construction                   ACTIVE  Ahmedabad   \n",
       "6     Apartment  Under Construction                   ACTIVE  Ahmedabad   \n",
       "7     Apartment       Ready to move                   ACTIVE  Ahmedabad   \n",
       "8     Apartment  Under Construction                   ACTIVE  Ahmedabad   \n",
       "9     Apartment  Under Construction                   ACTIVE  Ahmedabad   \n",
       "\n",
       "  No_of_BHK  Locality_ID Locality_Name   Sub_urban_name is_furnished  \\\n",
       "0     3 BHK        51907         Bopal   Ahmedabad West  Unfurnished   \n",
       "1     4 BHK        56407         Ambli   Ahmedabad West  Unfurnished   \n",
       "2     3 BHK        66627    Naryanpura   Ahmedabad West  Unfurnished   \n",
       "3     2 BHK        51899     Changodar  Ahmedabad South  Unfurnished   \n",
       "4     3 BHK        50368        Shilaj   Ahmedabad West  Unfurnished   \n",
       "5     2 BHK        52600      Hathijan  Ahmedabad South  Unfurnished   \n",
       "6     2 BHK        59110        Tragad  Ahmedabad North  Unfurnished   \n",
       "7     3 BHK        52014      Memnagar   Ahmedabad West  Unfurnished   \n",
       "8     3 BHK        59388         Shela   Ahmedabad West  Unfurnished   \n",
       "9     2 BHK        50368        Shilaj   Ahmedabad West  Unfurnished   \n",
       "\n",
       "   listing_domain_score  is_RERA_registered       Price_range Size_range  \\\n",
       "0                   4.0                True   mid_price_range      >1400   \n",
       "1                   4.0                True  high_price_range      >1400   \n",
       "2                   4.0               False   mid_price_range      >1400   \n",
       "3                   4.0               False   low_price_range   900-1000   \n",
       "4                   4.0                True   mid_price_range      >1400   \n",
       "5                   4.0                True   low_price_range  1300-1400   \n",
       "6                   4.0                True   low_price_range      >1400   \n",
       "7                   4.0               False   mid_price_range      >1400   \n",
       "8                   4.0                True   mid_price_range      >1400   \n",
       "9                   4.0                True   mid_price_range  1200-1300   \n",
       "\n",
       "          Posted_On_range  \n",
       "0  => 1 day and < 1 month  \n",
       "1  => 1 day and < 1 month  \n",
       "2  => 1 day and < 1 month  \n",
       "3  => 1 day and < 1 month  \n",
       "4  => 1 day and < 1 month  \n",
       "5  => 1 day and < 1 month  \n",
       "6  => 1 day and < 1 month  \n",
       "7  => 1 day and < 1 month  \n",
       "8  => 1 day and < 1 month  \n",
       "9  => 1 day and < 1 month  "
      ]
     },
     "execution_count": 113,
     "metadata": {},
     "output_type": "execute_result"
    }
   ],
   "source": [
    "property_data.head(10)"
   ]
  },
  {
   "cell_type": "markdown",
   "id": "7bacb641",
   "metadata": {},
   "source": [
    "----"
   ]
  },
  {
   "cell_type": "markdown",
   "id": "6f1141bd",
   "metadata": {},
   "source": [
    "----"
   ]
  }
 ],
 "metadata": {
  "kernelspec": {
   "display_name": "Python 3 (ipykernel)",
   "language": "python",
   "name": "python3"
  },
  "language_info": {
   "codemirror_mode": {
    "name": "ipython",
    "version": 3
   },
   "file_extension": ".py",
   "mimetype": "text/x-python",
   "name": "python",
   "nbconvert_exporter": "python",
   "pygments_lexer": "ipython3",
   "version": "3.8.16"
  }
 },
 "nbformat": 4,
 "nbformat_minor": 5
}
