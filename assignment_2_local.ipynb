{
 "cells": [
  {
   "cell_type": "code",
   "execution_count": 1,
   "id": "36fe16ef-a6d6-41cf-a729-5602df1717fd",
   "metadata": {},
   "outputs": [],
   "source": [
    "import pandas as pd"
   ]
  },
  {
   "cell_type": "code",
   "execution_count": 7,
   "id": "d7481b94-5be2-43e9-b78d-9cb4040cdfee",
   "metadata": {},
   "outputs": [
    {
     "name": "stdout",
     "output_type": "stream",
     "text": [
      "27820\n"
     ]
    }
   ],
   "source": [
    "master_df = pd.read_excel(f\"./data/master.xlsx\")"
   ]
  },
  {
   "cell_type": "code",
   "execution_count": null,
   "id": "aab9edf9-4dc5-4a74-aa41-6ebbc43d0d05",
   "metadata": {},
   "outputs": [],
   "source": [
    "print(master_df.columns)\n",
    "print(master_df.head)"
   ]
  },
  {
   "cell_type": "code",
   "execution_count": null,
   "id": "ce9e0515-c93f-4a51-a9b7-f6e7fcb2b262",
   "metadata": {},
   "outputs": [],
   "source": [
    "for column in master_df.columns:\n",
    "    print(f\"{column = }\")\n",
    "    nan_series = master_df[column].isna()\n",
    "    if True in nan_series[:].tolist():\n",
    "        print(master_df[column])\n",
    "        print(f\"Total no.of Nan values: {master_df[column].isna().sum()}\")"
   ]
  },
  {
   "cell_type": "code",
   "execution_count": 2,
   "id": "e18f66bd-b07c-47cf-a6be-bc84b8ffbf7e",
   "metadata": {},
   "outputs": [],
   "source": [
    "##DataFrame for unit testing\n",
    "country_name_ls = ['Albania'] *4 + ['Russia']*2 + ['Albania']*2 + ['India']*2\n",
    "year_ls = ['2009', '2009','2010', '2011', '2011', '2012', '2010', '2012', '2009', '2010']\n",
    "sex_ls = ['m']*4 + ['f']*2 + ['m'] + ['f']*3\n",
    "test_df = pd.DataFrame()\n",
    "test_df['Country'] = country_name_ls\n",
    "test_df['Year'] = year_ls\n",
    "test_df['Sex'] = sex_ls"
   ]
  },
  {
   "cell_type": "code",
   "execution_count": 3,
   "id": "b5188bf1-2560-40d5-9e9d-30fa6c3a78b4",
   "metadata": {},
   "outputs": [],
   "source": [
    "class preprocess_df:\n",
    "  '''\n",
    "  Class to preprocess DataFrame\n",
    "  '''\n",
    "  def encode_attributes(self, input_df, column_indices):\n",
    "    transformed_dicts_ls = []\n",
    "    transformed_df = input_df.copy(deep = True)\n",
    "    column_names = transformed_df.columns.tolist()\n",
    "    print(f\"{column_names = }\")\n",
    "    for col_iter in column_indices:\n",
    "      temp_dict = {}\n",
    "      temp_key = 0\n",
    "      temp_ls = []\n",
    "      column_name = column_names[col_iter]\n",
    "      for col in transformed_df.iloc[:,col_iter].tolist():\n",
    "        if col not in [*temp_dict.keys()]:\n",
    "          temp_dict[col] = temp_key\n",
    "          temp_key += 1\n",
    "        temp_ls.append(temp_dict[col])\n",
    "      dict_inv = {v:k for k,v in temp_dict.items()}\n",
    "      transformed_dicts_ls.append(dict_inv)\n",
    "      transformed_df[column_name] = temp_ls\n",
    "    return transformed_df, transformed_dicts_ls"
   ]
  },
  {
   "cell_type": "code",
   "execution_count": 10,
   "id": "5733c2da-62a2-44a5-9dc1-9089e8b43430",
   "metadata": {},
   "outputs": [],
   "source": [
    "#BUC implementation\n",
    "class buc:\n",
    "    def __init__(self, df, column_enc_dicts_ls):\n",
    "        self.numDims = df.shape[1]\n",
    "        self.cardinality = []\n",
    "        self.minsup = 1\n",
    "        self.output_df = None\n",
    "        self.datacounts = [[], [], []]\n",
    "        self.attribute_ls = [\"*\"] * df.shape[1]\n",
    "        self.debug_counter = 0\n",
    "        self.output_dict = {}\n",
    "        self.column_enc_dicts_ls = column_enc_dicts_ls\n",
    "\n",
    "    def counting_sort(self, array_a, df_idx_ls):\n",
    "      array_c = [0]*(max(array_a) + 1)\n",
    "      idx_ls = [-1] * (len(array_a))\n",
    "\n",
    "      # print(f\"{array_a = }\")\n",
    "      # print(f\"{array_c = }\")\n",
    "      for i in range(0, len(array_a)):\n",
    "        array_c[array_a[i]] += 1\n",
    "\n",
    "      for i in range(0, len(array_c) - 1):\n",
    "        array_c[i+1] = array_c[i] + array_c[i+1]\n",
    "\n",
    "      for i in range(len(array_a) - 1, -1, -1):\n",
    "        array_c[array_a[i]] = array_c[array_a[i]] - 1\n",
    "        idx = array_c[array_a[i]]\n",
    "        idx_ls[idx] = df_idx_ls[i]\n",
    "\n",
    "      # idx_ls = [i + min_idx for i in idx_ls]\n",
    "      # print(f\"{array_a = }\")\n",
    "      # print(f\"{idx_ls = }\")\n",
    "      return idx_ls\n",
    "\n",
    "\n",
    "    def partition(self, input_df, d, bigc):\n",
    "        #Sorting the dataframe\n",
    "        temp_counter_dict = {}\n",
    "        sorted_idx = self.counting_sort(input_df.iloc[:,d].tolist(), input_df.index.tolist())\n",
    "        input_df = input_df.reindex(sorted_idx)\n",
    "        for attribute in input_df.iloc[:,d].tolist():\n",
    "            temp_counter_dict[attribute] = temp_counter_dict.get(attribute, 0) + 1\n",
    "        self.datacounts[d] = [*temp_counter_dict.values()]\n",
    "        # self.datacounts[d] = input_df.iloc[:,d].value_counts().tolist()\n",
    "        # print(f\"{self.datacounts = }\")\n",
    "        return input_df\n",
    "\n",
    "    def buc_implementation(self, input, dim):\n",
    "        self.debug_counter += 1\n",
    "        # print(f\"iter: {self.debug_counter - 1}\")\n",
    "        # print(f\"Aggregate: {input.shape[0]}\")\n",
    "        if tuple(self.attribute_ls) in [*self.output_dict.keys()]:\n",
    "          print(f\"Error!!\")\n",
    "        self.output_dict[tuple(self.attribute_ls)] = input.shape[0]\n",
    "        # print(f\"{self.output_dict =}\")\n",
    "        # if self.debug_counter == 12:\n",
    "          # return \n",
    "        # print(f\"{dim = }\")\n",
    "        for d in range(dim, self.numDims,1):\n",
    "            bigc = input.iloc[:,d].nunique()\n",
    "            # print(f\"{d= }, {bigc=}\")\n",
    "            # print(f\"Input before partitioning: {input}\")\n",
    "            input = self.partition(input, d, bigc)\n",
    "            # print(f\"Input after partitioning on {d}: {input}\")\n",
    "            # print(f\"{self.datacounts = }\")\n",
    "            k = 0\n",
    "            for i in range(0, bigc, 1):\n",
    "                # print(f\"################Inside i loop######################\")\n",
    "                # print(f\"{d = }, {i = }\")\n",
    "                # print(f\"{self.datacounts = }\")\n",
    "                smallc = self.datacounts[d][i]\n",
    "                # print(f\"{smallc = }\")\n",
    "                if smallc >= self.minsup:\n",
    "                    # print(f\"**********************Inside if condition***********************\")\n",
    "                    # print(f\"k, d: {k,d}\")\n",
    "                    # print(f\"Attribute: {input.iloc[k,d]}\")\n",
    "                    # print(f\"{transformed_dicts[d] = }\")\n",
    "                    self.attribute_ls[d] = self.column_enc_dicts_ls[d][input.iloc[k,d]]\n",
    "                    self.buc_implementation(input.iloc[k:k+smallc,:], dim=d+1)\n",
    "                    # if self.debug_counter == 12:\n",
    "                      # return\n",
    "                    # print(f\"d inside if condition: {d}\")\n",
    "                    # print(f\"******************************************************************\")\n",
    "                k += smallc\n",
    "            # print(f\"#################################################################\")\n",
    "            # print(f\"ALL:\")\n",
    "            self.attribute_ls[d] = \"*\""
   ]
  },
  {
   "cell_type": "code",
   "execution_count": 14,
   "id": "e01c752e-5fdc-467b-9ce5-85fc6976669d",
   "metadata": {},
   "outputs": [
    {
     "name": "stdout",
     "output_type": "stream",
     "text": [
      "column_names = ['Country', 'Year', 'Sex']\n",
      "test_df:    Country  Year Sex\n",
      "0  Albania  2009   m\n",
      "1  Albania  2009   m\n",
      "2  Albania  2010   m\n",
      "3  Albania  2011   m\n",
      "4   Russia  2011   f\n",
      "5   Russia  2012   f\n",
      "6  Albania  2010   m\n",
      "7  Albania  2012   f\n",
      "8    India  2009   f\n",
      "9    India  2010   f\n",
      "transformed_df:    Country  Year  Sex\n",
      "0        0     0    0\n",
      "1        0     0    0\n",
      "2        0     1    0\n",
      "3        0     2    0\n",
      "4        1     2    1\n",
      "5        1     3    1\n",
      "6        0     1    0\n",
      "7        0     3    1\n",
      "8        2     0    1\n",
      "9        2     1    1\n",
      "output_df: Empty DataFrame\n",
      "Columns: [Country, Year, Sex]\n",
      "Index: []\n",
      "output_dict: {('*', '*', '*'): 10, ('Albania', '*', '*'): 6, ('Albania', '2009', '*'): 2, ('Albania', '2009', 'm'): 2, ('Albania', '2010', '*'): 2, ('Albania', '2010', 'm'): 2, ('Albania', '2011', '*'): 1, ('Albania', '2011', 'm'): 1, ('Albania', '2012', '*'): 1, ('Albania', '2012', 'f'): 1, ('Albania', '*', 'm'): 5, ('Albania', '*', 'f'): 1, ('Russia', '*', '*'): 2, ('Russia', '2011', '*'): 1, ('Russia', '2011', 'f'): 1, ('Russia', '2012', '*'): 1, ('Russia', '2012', 'f'): 1, ('Russia', '*', 'f'): 2, ('India', '*', '*'): 2, ('India', '2009', '*'): 1, ('India', '2009', 'f'): 1, ('India', '2010', '*'): 1, ('India', '2010', 'f'): 1, ('India', '*', 'f'): 2, ('*', '2009', '*'): 3, ('*', '2009', 'm'): 2, ('*', '2009', 'f'): 1, ('*', '2010', '*'): 3, ('*', '2010', 'm'): 2, ('*', '2010', 'f'): 1, ('*', '2011', '*'): 2, ('*', '2011', 'm'): 1, ('*', '2011', 'f'): 1, ('*', '2012', '*'): 2, ('*', '2012', 'f'): 2, ('*', '*', 'm'): 5, ('*', '*', 'f'): 5}\n"
     ]
    }
   ],
   "source": [
    "input_df = test_df\n",
    "preprocess_obj = preprocess_df()\n",
    "transformed_df, column_enc_dicts_ls = preprocess_obj.encode_attributes(test_df, [*range(0,test_df.shape[1])]) #NOTE: This should be modified as required\n",
    "print(f\"test_df: {test_df}\")\n",
    "print(f\"transformed_df: {transformed_df}\")\n",
    "buc_obj = buc(transformed_df, column_enc_dicts_ls)\n",
    "buc_obj.buc_implementation(transformed_df, 0)\n",
    "output_dict = buc_obj.output_dict\n",
    "# output_df = pd.DataFrame(columns=input_df.columns.tolist())\n",
    "# for key, value in output_dict:\n",
    "    \n",
    "# print(f\"output_df: {output_df}\")\n",
    "# print(f\"output_dict: {output_dict}\")\n"
   ]
  },
  {
   "cell_type": "code",
   "execution_count": null,
   "id": "95588aa2-3a4f-4185-8ab3-e3f5d133673c",
   "metadata": {},
   "outputs": [],
   "source": []
  }
 ],
 "metadata": {
  "kernelspec": {
   "display_name": "Python 3 (ipykernel)",
   "language": "python",
   "name": "python3"
  },
  "language_info": {
   "codemirror_mode": {
    "name": "ipython",
    "version": 3
   },
   "file_extension": ".py",
   "mimetype": "text/x-python",
   "name": "python",
   "nbconvert_exporter": "python",
   "pygments_lexer": "ipython3",
   "version": "3.11.4"
  }
 },
 "nbformat": 4,
 "nbformat_minor": 5
}
